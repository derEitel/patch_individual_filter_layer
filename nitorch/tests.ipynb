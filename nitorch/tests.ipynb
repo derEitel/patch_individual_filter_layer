{
 "cells": [
  {
   "cell_type": "code",
   "execution_count": 1,
   "metadata": {
    "collapsed": true
   },
   "outputs": [],
   "source": [
    "# test multihead_loss"
   ]
  },
  {
   "cell_type": "code",
   "execution_count": 2,
   "metadata": {
    "collapsed": true
   },
   "outputs": [],
   "source": [
    "import numpy as np\n",
    "import math\n",
    "\n",
    "import torch\n",
    "import torch.nn.functional as F\n",
    "from torch.autograd import Variable"
   ]
  },
  {
   "cell_type": "code",
   "execution_count": 3,
   "metadata": {
    "collapsed": true
   },
   "outputs": [],
   "source": [
    "class Multihead_loss(torch.nn.Module):\n",
    "    \"\"\"\n",
    "    Compute the loss on multiple outputs.\n",
    "\n",
    "    Arguments:\n",
    "        outputs: List of network outputs.\n",
    "        target: List of targets where len(outputs) = len(target).\n",
    "        loss_function: either list of loss functions with\n",
    "        len(loss_function) = len(targets) or len(loss_function) = 1.\n",
    "    \"\"\"\n",
    "    def __init__(self):\n",
    "        super(Multihead_loss, self).__init__()\n",
    "\n",
    "    def forward(self, outputs, target, loss_function):\n",
    "        assert(len(outputs) == len(target))\n",
    "        assert(len(loss_function) == len(target) or len(loss_function) == 1)\n",
    "        # expand loss_function list if univariate\n",
    "        if len(loss_function) == 1:\n",
    "            loss_function = [loss_function[0] for i in range(len(target))]\n",
    "        # compute loss for each head\n",
    "        total_loss = 0.\n",
    "        for out, gt, loss_func in zip(outputs, target, loss_function):\n",
    "            loss = loss_func(out, gt)\n",
    "            total_loss += loss\n",
    "        return total_loss"
   ]
  },
  {
   "cell_type": "code",
   "execution_count": 4,
   "metadata": {},
   "outputs": [],
   "source": [
    "multihead_loss = Multihead_loss()"
   ]
  },
  {
   "cell_type": "code",
   "execution_count": 5,
   "metadata": {},
   "outputs": [],
   "source": [
    "def test_01():\n",
    "    outputs = [Variable(torch.FloatTensor([0, 0, 0])),\n",
    "               Variable(torch.FloatTensor([0, 1, 0])),\n",
    "               Variable(torch.FloatTensor([1, 1, 1]))]\n",
    "\n",
    "    target = [Variable(torch.FloatTensor([1, 1, 1])),\n",
    "              Variable(torch.FloatTensor([1, 1, 1])),\n",
    "              Variable(torch.FloatTensor([1, 1, 1]))]\n",
    "\n",
    "    loss_function = [F.mse_loss]\n",
    "    \n",
    "    total_loss = multihead_loss(outputs, target, loss_function)\n",
    "    assert(math.isclose(total_loss.item(), 1+(2/3)+0, rel_tol=1e-05))"
   ]
  },
  {
   "cell_type": "code",
   "execution_count": 6,
   "metadata": {},
   "outputs": [],
   "source": [
    "test_01()"
   ]
  },
  {
   "cell_type": "code",
   "execution_count": 7,
   "metadata": {
    "collapsed": true
   },
   "outputs": [],
   "source": [
    "def test_02():\n",
    "    outputs = [Variable(torch.FloatTensor([0, 0, 0])),\n",
    "               Variable(torch.FloatTensor([0, 1, 0])),\n",
    "               Variable(torch.FloatTensor([1, 1, 1]))]\n",
    "\n",
    "    target = [Variable(torch.FloatTensor([1, 1, 1])),\n",
    "              Variable(torch.FloatTensor([1, 1, 1])),\n",
    "              Variable(torch.FloatTensor([1, 1, 1]))]\n",
    "\n",
    "    loss_function = [F.mse_loss, F.binary_cross_entropy, F.mse_loss]\n",
    "    \n",
    "    total_loss = multihead_loss(outputs, target, loss_function)\n",
    "    assert(math.isclose(total_loss.item(), 1+-math.log(1e-8)+0, rel_tol=1e-07))"
   ]
  },
  {
   "cell_type": "code",
   "execution_count": 8,
   "metadata": {},
   "outputs": [],
   "source": [
    "test_02()"
   ]
  }
 ],
 "metadata": {
  "kernelspec": {
   "display_name": "Python (mort)",
   "language": "python",
   "name": "mort"
  },
  "language_info": {
   "codemirror_mode": {
    "name": "ipython",
    "version": 3
   },
   "file_extension": ".py",
   "mimetype": "text/x-python",
   "name": "python",
   "nbconvert_exporter": "python",
   "pygments_lexer": "ipython3",
   "version": "3.6.3"
  }
 },
 "nbformat": 4,
 "nbformat_minor": 2
}
