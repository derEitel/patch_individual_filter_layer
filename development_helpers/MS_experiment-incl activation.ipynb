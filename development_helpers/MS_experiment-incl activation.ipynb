{
 "cells": [
  {
   "cell_type": "markdown",
   "metadata": {},
   "source": [
    "Script for debugging the PIF implementation"
   ]
  },
  {
   "cell_type": "code",
   "execution_count": 1,
   "metadata": {
    "collapsed": true
   },
   "outputs": [],
   "source": [
    "# individual path\n",
    "import sys\n",
    "sys.path.insert(0,\"/analysis/fabiane/phd/patch_individual_filters/\")\n",
    "sys.path.insert(0,\"/analysis/fabiane/phd/nitorch/\")"
   ]
  },
  {
   "cell_type": "markdown",
   "metadata": {},
   "source": [
    "Imports"
   ]
  },
  {
   "cell_type": "code",
   "execution_count": 2,
   "metadata": {
    "collapsed": true
   },
   "outputs": [],
   "source": [
    "%matplotlib inline"
   ]
  },
  {
   "cell_type": "code",
   "execution_count": 3,
   "metadata": {
    "collapsed": true
   },
   "outputs": [],
   "source": [
    "%load_ext autoreload\n",
    "%autoreload 2"
   ]
  },
  {
   "cell_type": "code",
   "execution_count": 6,
   "metadata": {},
   "outputs": [],
   "source": [
    "import os\n",
    "import time\n",
    "import matplotlib.pyplot as plt\n",
    "import numpy as np\n",
    "import pandas as pd\n",
    "import glob\n",
    "import h5py\n",
    "\n",
    "# pytorch\n",
    "import torch\n",
    "import torch.nn as nn\n",
    "import torch.nn.functional as F\n",
    "import torch.optim as optim\n",
    "from torchvision import transforms\n",
    "from torch.utils.data import Dataset, DataLoader, SubsetRandomSampler\n",
    "from torch.nn.modules.module import Module\n",
    "\n",
    "# sklearn functions\n",
    "from sklearn.metrics import accuracy_score\n",
    "from sklearn.model_selection import train_test_split, KFold\n",
    "\n",
    "# load functions from nitorch\n",
    "from nitorch.data import load_nifti\n",
    "from nitorch.transforms import  ToTensor, SagittalTranslate, SagittalFlip, \\\n",
    "                                AxialTranslate, normalization_factors, Normalize, \\\n",
    "                                IntensityRescale\n",
    "from nitorch.callbacks import EarlyStopping, ModelCheckpoint\n",
    "from nitorch.trainer import Trainer\n",
    "from nitorch.initialization import weights_init\n",
    "from nitorch.metrics import balanced_accuracy, sensitivity, specificity\n",
    "from nitorch.utils import count_parameters"
   ]
  },
  {
   "cell_type": "code",
   "execution_count": 7,
   "metadata": {},
   "outputs": [],
   "source": [
    "from pif import PatchIndividualFilters3D, PatchIndividualFilters3D"
   ]
  },
  {
   "cell_type": "code",
   "execution_count": 8,
   "metadata": {},
   "outputs": [
    {
     "data": {
      "text/plain": [
       "'1.0.0'"
      ]
     },
     "execution_count": 8,
     "metadata": {},
     "output_type": "execute_result"
    }
   ],
   "source": [
    "torch.__version__"
   ]
  },
  {
   "cell_type": "code",
   "execution_count": 9,
   "metadata": {
    "collapsed": true
   },
   "outputs": [],
   "source": [
    "# use multiple GPUs\n",
    "gpu = 4\n",
    "multi_gpus = None#[0, 1, 2]\n",
    "b = 4\n",
    "zero_one_normalize = False\n",
    "zoom = 0.525\n",
    "\n",
    "dtype = np.float64"
   ]
  },
  {
   "cell_type": "code",
   "execution_count": 10,
   "metadata": {
    "collapsed": true
   },
   "outputs": [],
   "source": [
    "# load mask\n",
    "mask = None"
   ]
  },
  {
   "cell_type": "code",
   "execution_count": 11,
   "metadata": {
    "collapsed": true
   },
   "outputs": [],
   "source": [
    "train_h5 = h5py.File('/analysis/ritter/data/MS/CIS/train_dataset.h5', 'r')\n",
    "holdout_h5 = h5py.File('/analysis/ritter/data/MS/CIS/holdout_dataset.h5', 'r')"
   ]
  },
  {
   "cell_type": "code",
   "execution_count": 12,
   "metadata": {
    "collapsed": true
   },
   "outputs": [],
   "source": [
    "X_holdout, y_holdout = holdout_h5['X'], holdout_h5['y']\n",
    "X_train, y_train = train_h5['X'], train_h5['y']"
   ]
  },
  {
   "cell_type": "code",
   "execution_count": 13,
   "metadata": {
    "collapsed": true
   },
   "outputs": [],
   "source": [
    "# convert data to numpy arrays\n",
    "#X_train = np.array(X_train, dtype=dtype)\n",
    "#y_train = np.array(y_train)\n",
    "\n",
    "#X_holdout = np.array(X_holdout, dtype=dtype)\n",
    "#y_holdout = np.array(y_holdout)"
   ]
  },
  {
   "cell_type": "code",
   "execution_count": 14,
   "metadata": {
    "collapsed": true
   },
   "outputs": [],
   "source": [
    "class MSDataset(Dataset):\n",
    "    def __init__(self, X, y, transform=None, target_transform=None, mask=None, z_factor=zoom, dtype=np.float32):\n",
    "        self.X = np.copy(X)\n",
    "        self.y = np.copy(y)\n",
    "        self.transform = transform\n",
    "        self.target_transform = target_transform\n",
    "        self.mask = mask\n",
    "        self.z_factor = zoom\n",
    "        self.dtype = dtype\n",
    "        \n",
    "    def __len__(self):\n",
    "        return len(self.X)\n",
    "    \n",
    "    def __getitem__(self, idx):\n",
    "        image = self.X[idx]\n",
    "        label = self.y[idx] >= 0.5\n",
    "        label = torch.FloatTensor([label])\n",
    "        \n",
    "        # normalize by max\n",
    "        image /= np.max(image)\n",
    "        \n",
    "        if self.transform:\n",
    "            image = self.transform(image)\n",
    "        #if self.target_transform:\n",
    "        #    label = self.target_transform(label)\n",
    "            \n",
    "        sample = {\"image\" : image,\n",
    "                 \"label\" : label}\n",
    "                 #\"idx\":idx}\n",
    "        return sample"
   ]
  },
  {
   "cell_type": "code",
   "execution_count": 15,
   "metadata": {
    "collapsed": true
   },
   "outputs": [],
   "source": [
    "if zero_one_normalize:\n",
    "    intensity = IntensityRescale()\n",
    "    ms_data_train = MSDataset(X_train, y_train, transform=transforms.Compose([intensity, ToTensor()]), mask=mask, dtype=dtype)\n",
    "    ms_data_test = MSDataset(X_holdout, y_holdout, transform=transforms.Compose([intensity, ToTensor()]), mask=mask, dtype=dtype)\n",
    "else:\n",
    "    ms_data_train = MSDataset(X_train, y_train, transform=transforms.Compose([ToTensor()]), mask=mask, dtype=dtype)\n",
    "    ms_data_test = MSDataset(X_holdout, y_holdout, transform=transforms.Compose([ToTensor()]), mask=mask, dtype=dtype)"
   ]
  },
  {
   "cell_type": "code",
   "execution_count": 16,
   "metadata": {
    "collapsed": true
   },
   "outputs": [],
   "source": [
    "sample = ms_data_train[29]\n",
    "img = sample[\"image\"]"
   ]
  },
  {
   "cell_type": "code",
   "execution_count": 17,
   "metadata": {},
   "outputs": [
    {
     "data": {
      "text/plain": [
       "torch.Size([1, 96, 114, 96])"
      ]
     },
     "execution_count": 17,
     "metadata": {},
     "output_type": "execute_result"
    }
   ],
   "source": [
    "img.shape"
   ]
  },
  {
   "cell_type": "code",
   "execution_count": 18,
   "metadata": {},
   "outputs": [
    {
     "data": {
      "text/plain": [
       "Text(0.5, 1.0, '1.0')"
      ]
     },
     "execution_count": 18,
     "metadata": {},
     "output_type": "execute_result"
    },
    {
     "data": {
      "image/png": "[encoded data removed]",
      "text/plain": [
       "<Figure size 432x288 with 1 Axes>"
      ]
     },
     "metadata": {},
     "output_type": "display_data"
    }
   ],
   "source": [
    "plt.imshow(img[0][:,:,46], cmap='gray')\n",
    "plt.title(sample[\"label\"].item())"
   ]
  },
  {
   "cell_type": "markdown",
   "metadata": {},
   "source": [
    "# Define the classifier"
   ]
  },
  {
   "cell_type": "code",
   "execution_count": 54,
   "metadata": {
    "collapsed": true
   },
   "outputs": [],
   "source": [
    "class SixtyFourNet(nn.Module):\n",
    "    def __init__(self, drp_rate=0.3):\n",
    "        super(SixtyFourNet, self).__init__()\n",
    "        self.drp_rate = drp_rate\n",
    "        self.Conv_1 = nn.Conv3d(1, 64, kernel_size=3, stride=1, padding=0)\n",
    "        self.pool_1 = nn.MaxPool3d(kernel_size=3, stride=3, padding=0)\n",
    "        self.Conv_2 = nn.Conv3d(64, 64, kernel_size=3, stride=1, padding=0)\n",
    "        self.pool_2 = nn.MaxPool3d(kernel_size=3, stride=2, padding=0)\n",
    "        self.Conv_3 = nn.Conv3d(64, 64, kernel_size=3, stride=1, padding=0)\n",
    "        self.Conv_4 = nn.Conv3d(64, 64, kernel_size=3, stride=1, padding=0)\n",
    "        self.pool_4 = nn.MaxPool3d(kernel_size=3, stride=3, padding=0)\n",
    "\n",
    "        self.pif = PatchIndividualFilters3D([10,13,10],\n",
    "                                            filter_shape=(3,3,3),\n",
    "                                            #patch_shape=(5,5,5),\n",
    "                                            patch_shape=(4,4,4),\n",
    "                                            num_local_filter_in=64,\n",
    "                                            num_local_filter_out=3,\n",
    "                                            overlap=1,\n",
    "                                            reassemble=False,\n",
    "                                            debug=False)\n",
    "\n",
    "        # 4, 64, 1, 2, 1\n",
    "        self.classifier_scratch = nn.Sequential(\n",
    "            nn.Linear(1152, 100),\n",
    "            nn.Linear(100, 1)\n",
    "        )\n",
    "\n",
    "    def encode(self, x, print_size=False):\n",
    "        if print_size:\n",
    "            print(x.shape)\n",
    "        x = F.elu(self.Conv_1(x))\n",
    "        h = F.dropout3d(self.pool_1(x), p=self.drp_rate)\n",
    "        x = F.elu(self.Conv_2(h))\n",
    "        if print_size:\n",
    "            print(x.shape)\n",
    "        h = F.dropout3d(self.pool_2(x), p=self.drp_rate)\n",
    "        x = F.elu(self.Conv_3(h))\n",
    "        if print_size:\n",
    "            print(x.shape)\n",
    "        x = F.elu(self.Conv_4(x))\n",
    "        if print_size:\n",
    "            print(x.shape)\n",
    "        #h = F.dropout3d(self.pool_4(x), p=self.drp_rate)\n",
    "        #if print_size:\n",
    "        #    print(h.shape)\n",
    "        \n",
    "        h = self.pif(x)\n",
    "        h = F.elu(h)\n",
    "        if print_size:\n",
    "            print(h.shape)\n",
    "        return h.contiguous()\n",
    "\n",
    "    def forward(self, x):\n",
    "        print_size = False\n",
    "        x = self.encode(x, print_size=print_size)\n",
    "        x = self.flatten(x)\n",
    "        x = self.classifier_scratch(x)\n",
    "        return x\n",
    "    \n",
    "    def flatten(self, x):\n",
    "        return x.view(x.size(0), -1)"
   ]
  },
  {
   "cell_type": "code",
   "execution_count": 55,
   "metadata": {},
   "outputs": [],
   "source": [
    "if multi_gpus is None:\n",
    "    net = SixtyFourNet().cuda(gpu)\n",
    "else:\n",
    "    net = torch.nn.DataParallel(SixtyFourNet(), device_ids=multi_gpus).cuda(gpu)"
   ]
  },
  {
   "cell_type": "code",
   "execution_count": 56,
   "metadata": {},
   "outputs": [
    {
     "name": "stdout",
     "output_type": "stream",
     "text": [
      "Trainable model parameters: 698137\n"
     ]
    }
   ],
   "source": [
    "print(\"Trainable model parameters: {}\".format(count_parameters(net)))"
   ]
  },
  {
   "cell_type": "code",
   "execution_count": 57,
   "metadata": {},
   "outputs": [
    {
     "data": {
      "text/plain": [
       "tensor([[-0.0402]], device='cuda:4', grad_fn=<AddmmBackward>)"
      ]
     },
     "execution_count": 57,
     "metadata": {},
     "output_type": "execute_result"
    }
   ],
   "source": [
    "net.forward(next(iter(ms_data_train))[\"image\"].unsqueeze(0).cuda(gpu))"
   ]
  },
  {
   "cell_type": "markdown",
   "metadata": {},
   "source": [
    "# Training"
   ]
  },
  {
   "cell_type": "code",
   "execution_count": 58,
   "metadata": {
    "collapsed": true
   },
   "outputs": [],
   "source": [
    "def run(\n",
    "    net,\n",
    "    data,\n",
    "    shape,\n",
    "    callbacks=[],\n",
    "    augmentations=[],\n",
    "    masked=False,\n",
    "    metrics=[],\n",
    "    k_folds=None,\n",
    "    b=4,\n",
    "    num_epochs=35,\n",
    "    retain_metric=None\n",
    "):      \n",
    "\n",
    "    #kf = StratifiedKFold(n_splits=k_folds, shuffle=True)\n",
    "    #kf = KFold(n_splits=k_folds, shuffle=True)\n",
    "    all_indices = list(range(len(data)))\n",
    "    train_idx, val_idx = train_test_split(all_indices, test_size=0.1, random_state=12)\n",
    "    fold_metric = []\n",
    "    models = []\n",
    "    fold = 0\n",
    "    initial_prepend = None\n",
    "    \n",
    "    #for train_idx, val_idx in kf.split(data):#, df[\"label\"]):\n",
    "    for trial in range(10):\n",
    "        print(\"Starting trial {}\".format(trial))\n",
    "\n",
    "        # add current fold number to model checkpoint path\n",
    "        if callbacks is not None:\n",
    "            for idx, callback in enumerate(callbacks):\n",
    "                if isinstance(callback, ModelCheckpoint):\n",
    "                    if initial_prepend is None:\n",
    "                        initial_prepend = callbacks[idx].prepend\n",
    "                    callbacks[idx].prepend = initial_prepend + \"cv_fold_{}_\".format(fold)\n",
    "        fold += 1\n",
    "\n",
    "        # restart model\n",
    "        del net\n",
    "        net = SixtyFourNet().cuda(gpu)\n",
    "        \n",
    "        # reset hyperparameters\n",
    "        lr = 1e-4\n",
    "        wd = 1e-4\n",
    "        criterion = nn.BCEWithLogitsLoss().cuda(gpu)\n",
    "        optimizer = optim.Adam(net.parameters(), lr=lr, weight_decay=wd)\n",
    "\n",
    "        train_sampler = SubsetRandomSampler(train_idx)\n",
    "        val_sampler = SubsetRandomSampler(val_idx)\n",
    "        print(\"Shuffled the data..\")\n",
    "\n",
    "        # Note: is the dataset loading necessary again?\n",
    "        if zero_one_normalize:\n",
    "            intensity = IntensityRescale()\n",
    "            ms_data_train = MSDataset(X_train, y_train, transform=transforms.Compose([intensity, ToTensor()]), mask=mask, dtype=dtype)\n",
    "        else:\n",
    "            ms_data_train = MSDataset(X_train, y_train, transform=transforms.Compose([ToTensor()]), mask=mask, dtype=dtype)\n",
    "        \n",
    "        train_loader = DataLoader(\n",
    "            ms_data_train, batch_size=b, num_workers=4, sampler=train_sampler\n",
    "        )\n",
    "        val_loader = DataLoader(\n",
    "            ms_data_train, batch_size=1, num_workers=1, sampler=val_sampler\n",
    "        )\n",
    "\n",
    "        sample = next(iter(train_loader))\n",
    "        img = sample[\"image\"][0]\n",
    "        lbl = sample[\"label\"][0]\n",
    "        print(img.shape)\n",
    "        print(len(train_loader))\n",
    "        plt.imshow(img.squeeze()[:,:,48], cmap='gray')\n",
    "        plt.title(lbl.item())\n",
    "        plt.show()\n",
    "        trainer = Trainer(\n",
    "            net,\n",
    "            criterion,\n",
    "            optimizer,\n",
    "            metrics=metrics,\n",
    "            callbacks=callbacks,\n",
    "            device=gpu,\n",
    "            #scheduler=sched,\n",
    "        )\n",
    "        # train model and store results\n",
    "        net, report = trainer.train_model(\n",
    "            train_loader,\n",
    "            val_loader,\n",
    "            num_epochs=num_epochs,\n",
    "            show_train_steps=20,\n",
    "            show_validation_epochs=1,\n",
    "        )\n",
    "        # append validation score of the retain metric\n",
    "        if isinstance(retain_metric, str):\n",
    "            fold_metric.append(report[\"val_metrics\"][retain_metric][-1])\n",
    "        else:\n",
    "            fold_metric.append(report[\"val_metrics\"][retain_metric.__name__][-1])\n",
    "\n",
    "        models.append(net)\n",
    "        print(\"Finished fold.\")\n",
    "\n",
    "        # visualize result\n",
    "        trainer.visualize_training(report, metrics)\n",
    "        trainer.evaluate_model(val_loader, gpu)\n",
    "\n",
    "    print(\"################################\")\n",
    "    print(\"################################\")\n",
    "    print(\"All accuracies: {}\".format(fold_metric))\n",
    "    return fold_metric, models\n"
   ]
  },
  {
   "cell_type": "code",
   "execution_count": 59,
   "metadata": {
    "collapsed": true
   },
   "outputs": [],
   "source": [
    "num_epochs = 200\n",
    "min_iters = 3\n",
    "ignore_epochs = 5\n",
    "normalize = False\n",
    "retain_metric = balanced_accuracy\n",
    "metrics = [accuracy_score, balanced_accuracy]"
   ]
  },
  {
   "cell_type": "code",
   "execution_count": 60,
   "metadata": {
    "collapsed": true
   },
   "outputs": [],
   "source": [
    "#r = 0"
   ]
  },
  {
   "cell_type": "code",
   "execution_count": 61,
   "metadata": {
    "collapsed": true
   },
   "outputs": [],
   "source": [
    "#output_dir = \"/analysis/fabiane/models/MS/pretrained/from_keras/pytorch_finetuned/hdf5\"\n",
    "# ModelCheckpoint(path=output_dir,\n",
    "                             #prepend=\"repeat_{}\".format(r),\n",
    "                             #store_best=True,\n",
    "                             #ignore_before=ignore_epochs,\n",
    "                             #retain_metric=retain_metric),\n",
    "\n",
    "#augmentations = [SagittalFlip(), SagittalTranslate(dist=(-2, 3))]"
   ]
  },
  {
   "cell_type": "code",
   "execution_count": 62,
   "metadata": {
    "collapsed": true
   },
   "outputs": [],
   "source": [
    "callbacks = [EarlyStopping(patience=16, ignore_before=ignore_epochs, retain_metric=\"loss\", mode='min')]\n",
    "#callbacks = []"
   ]
  },
  {
   "cell_type": "code",
   "execution_count": 63,
   "metadata": {
    "scrolled": true
   },
   "outputs": [
    {
     "name": "stdout",
     "output_type": "stream",
     "text": [
      "Starting trial 0\n",
      "Shuffled the data..\n",
      "torch.Size([1, 96, 114, 96])\n",
      "28\n"
     ]
    },
    {
     "data": {
      "image/png": "[encoded data removed]",
      "text/plain": [
       "<Figure size 432x288 with 1 Axes>"
      ]
     },
     "metadata": {},
     "output_type": "display_data"
    },
    {
     "name": "stdout",
     "output_type": "stream",
     "text": [
      "[0,    20] loss: 0.68951\n",
      "Time elapsed: 0h:0m:4s\n",
      "train accuracy_score: 53.15 %\n",
      "train balanced_accuracy: 50.00 %\n",
      "val accuracy_score: 30.77 %\n",
      "val balanced_accuracy: 50.00 %\n",
      "Val loss: 0.720486\n",
      "[1,    20] loss: 0.69506\n",
      "Time elapsed: 0h:0m:9s\n",
      "train accuracy_score: 53.15 %\n",
      "train balanced_accuracy: 50.00 %\n",
      "val accuracy_score: 30.77 %\n",
      "val balanced_accuracy: 50.00 %\n",
      "Val loss: 0.706488\n",
      "[2,    20] loss: 0.69299\n",
      "Time elapsed: 0h:0m:15s\n",
      "train accuracy_score: 52.25 %\n",
      "train balanced_accuracy: 49.15 %\n",
      "val accuracy_score: 30.77 %\n",
      "val balanced_accuracy: 50.00 %\n",
      "Val loss: 0.703820\n",
      "[3,    20] loss: 0.69165\n",
      "Time elapsed: 0h:0m:20s\n",
      "train accuracy_score: 53.15 %\n",
      "train balanced_accuracy: 50.00 %\n",
      "val accuracy_score: 30.77 %\n",
      "val balanced_accuracy: 50.00 %\n",
      "Val loss: 0.712023\n",
      "[4,    20] loss: 0.69202\n",
      "Time elapsed: 0h:0m:25s\n",
      "train accuracy_score: 52.25 %\n",
      "train balanced_accuracy: 49.38 %\n",
      "val accuracy_score: 30.77 %\n",
      "val balanced_accuracy: 50.00 %\n",
      "Val loss: 0.713316\n",
      "[5,    20] loss: 0.68617\n",
      "Time elapsed: 0h:0m:30s\n",
      "train accuracy_score: 53.15 %\n",
      "train balanced_accuracy: 50.00 %\n",
      "val accuracy_score: 38.46 %\n",
      "val balanced_accuracy: 55.56 %\n",
      "Val loss: 0.698551\n",
      "[6,    20] loss: 0.68452\n",
      "Time elapsed: 0h:0m:36s\n",
      "train accuracy_score: 54.05 %\n",
      "train balanced_accuracy: 51.19 %\n",
      "val accuracy_score: 76.92 %\n",
      "val balanced_accuracy: 76.39 %\n",
      "Val loss: 0.680551\n",
      "[7,    20] loss: 0.68965\n",
      "Time elapsed: 0h:0m:41s\n",
      "train accuracy_score: 58.56 %\n",
      "train balanced_accuracy: 57.14 %\n",
      "val accuracy_score: 38.46 %\n",
      "val balanced_accuracy: 55.56 %\n",
      "Val loss: 0.694579\n",
      "[8,    20] loss: 0.67852\n",
      "Time elapsed: 0h:0m:46s\n",
      "train accuracy_score: 53.15 %\n",
      "train balanced_accuracy: 50.46 %\n",
      "val accuracy_score: 61.54 %\n",
      "val balanced_accuracy: 65.28 %\n",
      "Val loss: 0.633065\n",
      "[9,    20] loss: 0.65305\n",
      "Time elapsed: 0h:0m:52s\n",
      "train accuracy_score: 61.26 %\n",
      "train balanced_accuracy: 61.39 %\n",
      "val accuracy_score: 30.77 %\n",
      "val balanced_accuracy: 50.00 %\n",
      "Val loss: 0.838449\n",
      "[10,    20] loss: 0.69652\n",
      "Time elapsed: 0h:0m:57s\n",
      "train accuracy_score: 51.35 %\n",
      "train balanced_accuracy: 50.13 %\n",
      "val accuracy_score: 30.77 %\n",
      "val balanced_accuracy: 50.00 %\n",
      "Val loss: 0.741238\n",
      "[11,    20] loss: 0.69068\n",
      "Time elapsed: 0h:1m:2s\n",
      "train accuracy_score: 49.55 %\n",
      "train balanced_accuracy: 48.66 %\n",
      "val accuracy_score: 30.77 %\n",
      "val balanced_accuracy: 50.00 %\n",
      "Val loss: 0.713472\n",
      "[12,    20] loss: 0.65758\n",
      "Time elapsed: 0h:1m:8s\n",
      "train accuracy_score: 57.66 %\n",
      "train balanced_accuracy: 56.75 %\n",
      "val accuracy_score: 53.85 %\n",
      "val balanced_accuracy: 66.67 %\n",
      "Val loss: 0.656874\n",
      "[13,    20] loss: 0.57207\n",
      "Time elapsed: 0h:1m:13s\n",
      "train accuracy_score: 72.97 %\n",
      "train balanced_accuracy: 72.41 %\n",
      "val accuracy_score: 69.23 %\n",
      "val balanced_accuracy: 77.78 %\n",
      "Val loss: 0.627876\n",
      "[14,    20] loss: 0.59604\n",
      "Time elapsed: 0h:1m:18s\n",
      "train accuracy_score: 67.57 %\n",
      "train balanced_accuracy: 67.44 %\n",
      "val accuracy_score: 84.62 %\n",
      "val balanced_accuracy: 81.94 %\n",
      "Val loss: 0.438465\n",
      "[15,    20] loss: 0.57805\n",
      "Time elapsed: 0h:1m:23s\n",
      "train accuracy_score: 65.77 %\n",
      "train balanced_accuracy: 65.86 %\n",
      "val accuracy_score: 61.54 %\n",
      "val balanced_accuracy: 65.28 %\n",
      "Val loss: 0.582581\n",
      "[16,    20] loss: 0.52893\n",
      "Time elapsed: 0h:1m:29s\n",
      "train accuracy_score: 70.27 %\n",
      "train balanced_accuracy: 69.98 %\n",
      "val accuracy_score: 46.15 %\n",
      "val balanced_accuracy: 61.11 %\n",
      "Val loss: 0.876282\n",
      "[17,    20] loss: 0.63822\n",
      "Time elapsed: 0h:1m:34s\n",
      "train accuracy_score: 65.77 %\n",
      "train balanced_accuracy: 65.63 %\n",
      "val accuracy_score: 76.92 %\n",
      "val balanced_accuracy: 83.33 %\n",
      "Val loss: 0.519379\n",
      "[18,    20] loss: 0.54418\n",
      "Time elapsed: 0h:1m:39s\n",
      "train accuracy_score: 69.37 %\n",
      "train balanced_accuracy: 68.68 %\n",
      "val accuracy_score: 92.31 %\n",
      "val balanced_accuracy: 87.50 %\n",
      "Val loss: 0.422489\n",
      "[19,    20] loss: 0.58337\n",
      "Time elapsed: 0h:1m:45s\n",
      "train accuracy_score: 69.37 %\n",
      "train balanced_accuracy: 69.25 %\n",
      "val accuracy_score: 84.62 %\n",
      "val balanced_accuracy: 75.00 %\n",
      "Val loss: 0.377248\n",
      "[20,    20] loss: 0.61644\n",
      "Time elapsed: 0h:1m:50s\n",
      "train accuracy_score: 71.17 %\n",
      "train balanced_accuracy: 71.40 %\n",
      "val accuracy_score: 92.31 %\n",
      "val balanced_accuracy: 87.50 %\n",
      "Val loss: 0.380889\n",
      "[21,    20] loss: 0.49459\n",
      "Time elapsed: 0h:1m:56s\n",
      "train accuracy_score: 73.87 %\n",
      "train balanced_accuracy: 73.83 %\n",
      "val accuracy_score: 69.23 %\n",
      "val balanced_accuracy: 77.78 %\n",
      "Val loss: 0.521285\n",
      "[22,    20] loss: 0.49336\n",
      "Time elapsed: 0h:2m:1s\n",
      "train accuracy_score: 76.58 %\n",
      "train balanced_accuracy: 76.03 %\n",
      "val accuracy_score: 84.62 %\n",
      "val balanced_accuracy: 88.89 %\n",
      "Val loss: 0.386168\n",
      "[23,    20] loss: 0.44091\n",
      "Time elapsed: 0h:2m:6s\n",
      "train accuracy_score: 79.28 %\n",
      "train balanced_accuracy: 79.03 %\n",
      "val accuracy_score: 100.00 %\n",
      "val balanced_accuracy: 100.00 %\n",
      "Val loss: 0.327852\n",
      "[24,    20] loss: 0.47571\n",
      "Time elapsed: 0h:2m:11s\n",
      "train accuracy_score: 80.18 %\n",
      "train balanced_accuracy: 80.10 %\n",
      "val accuracy_score: 84.62 %\n",
      "val balanced_accuracy: 75.00 %\n",
      "Val loss: 0.291198\n",
      "[25,    20] loss: 0.48198\n",
      "Time elapsed: 0h:2m:17s\n",
      "train accuracy_score: 80.18 %\n",
      "train balanced_accuracy: 80.10 %\n",
      "val accuracy_score: 100.00 %\n",
      "val balanced_accuracy: 100.00 %\n",
      "Val loss: 0.256103\n",
      "[26,    20] loss: 0.41659\n",
      "Time elapsed: 0h:2m:22s\n",
      "train accuracy_score: 85.59 %\n",
      "train balanced_accuracy: 85.76 %\n",
      "val accuracy_score: 100.00 %\n",
      "val balanced_accuracy: 100.00 %\n",
      "Val loss: 0.240845\n",
      "[27,    20] loss: 0.35747\n",
      "Time elapsed: 0h:2m:27s\n",
      "train accuracy_score: 90.09 %\n",
      "train balanced_accuracy: 90.45 %\n",
      "val accuracy_score: 92.31 %\n",
      "val balanced_accuracy: 94.44 %\n",
      "Val loss: 0.376055\n",
      "[28,    20] loss: 0.32345\n",
      "Time elapsed: 0h:2m:32s\n",
      "train accuracy_score: 87.39 %\n",
      "train balanced_accuracy: 87.57 %\n",
      "val accuracy_score: 92.31 %\n",
      "val balanced_accuracy: 94.44 %\n",
      "Val loss: 0.339802\n",
      "[29,    20] loss: 0.41972\n",
      "Time elapsed: 0h:2m:38s\n",
      "train accuracy_score: 79.28 %\n",
      "train balanced_accuracy: 79.25 %\n",
      "val accuracy_score: 84.62 %\n",
      "val balanced_accuracy: 88.89 %\n",
      "Val loss: 0.396416\n",
      "[30,    20] loss: 0.23604\n",
      "Time elapsed: 0h:2m:43s\n",
      "train accuracy_score: 90.99 %\n",
      "train balanced_accuracy: 91.18 %\n",
      "val accuracy_score: 84.62 %\n",
      "val balanced_accuracy: 88.89 %\n",
      "Val loss: 0.408414\n",
      "[31,    20] loss: 0.27493\n",
      "Time elapsed: 0h:2m:48s\n",
      "train accuracy_score: 89.19 %\n",
      "train balanced_accuracy: 89.37 %\n",
      "val accuracy_score: 84.62 %\n",
      "val balanced_accuracy: 88.89 %\n",
      "Val loss: 0.367630\n",
      "[32,    20] loss: 0.29223\n",
      "Time elapsed: 0h:2m:53s\n",
      "train accuracy_score: 90.99 %\n",
      "train balanced_accuracy: 91.07 %\n",
      "val accuracy_score: 92.31 %\n",
      "val balanced_accuracy: 94.44 %\n",
      "Val loss: 0.238559\n",
      "[33,    20] loss: 0.28856\n",
      "Time elapsed: 0h:2m:59s\n",
      "train accuracy_score: 89.19 %\n",
      "train balanced_accuracy: 89.15 %\n",
      "val accuracy_score: 92.31 %\n",
      "val balanced_accuracy: 94.44 %\n",
      "Val loss: 0.232702\n",
      "[34,    20] loss: 0.20915\n",
      "Time elapsed: 0h:3m:4s\n",
      "train accuracy_score: 92.79 %\n",
      "train balanced_accuracy: 92.88 %\n",
      "val accuracy_score: 92.31 %\n",
      "val balanced_accuracy: 94.44 %\n",
      "Val loss: 0.224432\n",
      "[35,    20] loss: 0.13780\n",
      "Time elapsed: 0h:3m:10s\n",
      "train accuracy_score: 92.79 %\n",
      "train balanced_accuracy: 93.11 %\n",
      "val accuracy_score: 76.92 %\n",
      "val balanced_accuracy: 83.33 %\n",
      "Val loss: 0.486476\n",
      "[36,    20] loss: 0.25545\n",
      "Time elapsed: 0h:3m:15s\n",
      "train accuracy_score: 88.29 %\n",
      "train balanced_accuracy: 88.07 %\n",
      "val accuracy_score: 92.31 %\n",
      "val balanced_accuracy: 94.44 %\n",
      "Val loss: 0.286853\n",
      "[37,    20] loss: 0.19797\n",
      "Time elapsed: 0h:3m:20s\n",
      "train accuracy_score: 93.69 %\n",
      "train balanced_accuracy: 93.84 %\n",
      "val accuracy_score: 84.62 %\n",
      "val balanced_accuracy: 88.89 %\n",
      "Val loss: 0.478966\n",
      "[38,    20] loss: 0.13313\n",
      "Time elapsed: 0h:3m:26s\n",
      "train accuracy_score: 93.69 %\n",
      "train balanced_accuracy: 93.84 %\n",
      "val accuracy_score: 76.92 %\n",
      "val balanced_accuracy: 83.33 %\n",
      "Val loss: 0.557607\n",
      "[39,    20] loss: 0.09853\n",
      "Time elapsed: 0h:3m:31s\n",
      "train accuracy_score: 98.20 %\n",
      "train balanced_accuracy: 98.31 %\n",
      "val accuracy_score: 92.31 %\n",
      "val balanced_accuracy: 94.44 %\n",
      "Val loss: 0.519162\n",
      "[40,    20] loss: 0.10316\n",
      "Time elapsed: 0h:3m:36s\n",
      "train accuracy_score: 96.40 %\n",
      "train balanced_accuracy: 96.50 %\n",
      "val accuracy_score: 84.62 %\n",
      "val balanced_accuracy: 88.89 %\n",
      "Val loss: 0.446728\n",
      "[41,    20] loss: 0.07178\n",
      "Time elapsed: 0h:3m:41s\n",
      "train accuracy_score: 95.50 %\n",
      "train balanced_accuracy: 95.65 %\n",
      "val accuracy_score: 76.92 %\n",
      "val balanced_accuracy: 83.33 %\n",
      "Val loss: 0.651034\n",
      "[42,    20] loss: 0.08200\n",
      "Time elapsed: 0h:3m:47s\n",
      "train accuracy_score: 96.40 %\n",
      "train balanced_accuracy: 96.50 %\n",
      "val accuracy_score: 76.92 %\n",
      "val balanced_accuracy: 83.33 %\n",
      "Val loss: 0.582167\n"
     ]
    },
    {
     "name": "stdout",
     "output_type": "stream",
     "text": [
      "[43,    20] loss: 0.09724\n",
      "Time elapsed: 0h:3m:52s\n",
      "train accuracy_score: 97.30 %\n",
      "train balanced_accuracy: 97.34 %\n",
      "val accuracy_score: 61.54 %\n",
      "val balanced_accuracy: 72.22 %\n",
      "Val loss: 1.026933\n",
      "[44,    20] loss: 0.11775\n",
      "Time elapsed: 0h:3m:57s\n",
      "train accuracy_score: 97.30 %\n",
      "train balanced_accuracy: 97.34 %\n",
      "val accuracy_score: 69.23 %\n",
      "val balanced_accuracy: 77.78 %\n",
      "Val loss: 0.682651\n",
      "[45,    20] loss: 0.03757\n",
      "Time elapsed: 0h:4m:3s\n",
      "train accuracy_score: 98.20 %\n",
      "train balanced_accuracy: 98.19 %\n",
      "val accuracy_score: 84.62 %\n",
      "val balanced_accuracy: 88.89 %\n",
      "Val loss: 0.534196\n",
      "[46,    20] loss: 0.04409\n",
      "Time elapsed: 0h:4m:8s\n",
      "train accuracy_score: 100.00 %\n",
      "train balanced_accuracy: 100.00 %\n",
      "val accuracy_score: 76.92 %\n",
      "val balanced_accuracy: 83.33 %\n",
      "Val loss: 0.697361\n",
      "[47,    20] loss: 0.03059\n",
      "Time elapsed: 0h:4m:14s\n",
      "train accuracy_score: 100.00 %\n",
      "train balanced_accuracy: 100.00 %\n",
      "val accuracy_score: 69.23 %\n",
      "val balanced_accuracy: 77.78 %\n",
      "Val loss: 0.584936\n",
      "[48,    20] loss: 0.01837\n",
      "Time elapsed: 0h:4m:19s\n",
      "train accuracy_score: 99.10 %\n",
      "train balanced_accuracy: 99.15 %\n",
      "val accuracy_score: 69.23 %\n",
      "val balanced_accuracy: 77.78 %\n",
      "Val loss: 0.689634\n",
      "[49,    20] loss: 0.01721\n",
      "Time elapsed: 0h:4m:24s\n",
      "train accuracy_score: 100.00 %\n",
      "train balanced_accuracy: 100.00 %\n",
      "val accuracy_score: 84.62 %\n",
      "val balanced_accuracy: 88.89 %\n",
      "Val loss: 0.201967\n",
      "[50,    20] loss: 0.02643\n",
      "Time elapsed: 0h:4m:29s\n",
      "train accuracy_score: 99.10 %\n",
      "train balanced_accuracy: 99.15 %\n",
      "val accuracy_score: 76.92 %\n",
      "val balanced_accuracy: 83.33 %\n",
      "Val loss: 0.850827\n",
      "[51,    20] loss: 0.03078\n",
      "Time elapsed: 0h:4m:35s\n",
      "train accuracy_score: 99.10 %\n",
      "train balanced_accuracy: 99.15 %\n",
      "val accuracy_score: 84.62 %\n",
      "val balanced_accuracy: 88.89 %\n",
      "Val loss: 0.302859\n",
      "[52,    20] loss: 0.03412\n",
      "Time elapsed: 0h:4m:40s\n",
      "train accuracy_score: 98.20 %\n",
      "train balanced_accuracy: 98.19 %\n",
      "val accuracy_score: 69.23 %\n",
      "val balanced_accuracy: 77.78 %\n",
      "Val loss: 0.944984\n",
      "[53,    20] loss: 0.04358\n",
      "Time elapsed: 0h:4m:45s\n",
      "train accuracy_score: 99.10 %\n",
      "train balanced_accuracy: 99.04 %\n",
      "val accuracy_score: 92.31 %\n",
      "val balanced_accuracy: 94.44 %\n",
      "Val loss: 0.552359\n",
      "[54,    20] loss: 0.02436\n",
      "Time elapsed: 0h:4m:51s\n",
      "train accuracy_score: 100.00 %\n",
      "train balanced_accuracy: 100.00 %\n",
      "val accuracy_score: 92.31 %\n",
      "val balanced_accuracy: 94.44 %\n",
      "Val loss: 0.490815\n",
      "[55,    20] loss: 0.01923\n",
      "Time elapsed: 0h:4m:56s\n",
      "train accuracy_score: 100.00 %\n",
      "train balanced_accuracy: 100.00 %\n",
      "val accuracy_score: 84.62 %\n",
      "val balanced_accuracy: 88.89 %\n",
      "Val loss: 0.365608\n",
      "[56,    20] loss: 0.00675\n",
      "Time elapsed: 0h:5m:1s\n",
      "train accuracy_score: 100.00 %\n",
      "train balanced_accuracy: 100.00 %\n",
      "val accuracy_score: 92.31 %\n",
      "val balanced_accuracy: 94.44 %\n",
      "Val loss: 0.548937\n",
      "[57,    20] loss: 0.00817\n",
      "Time elapsed: 0h:5m:7s\n",
      "train accuracy_score: 100.00 %\n",
      "train balanced_accuracy: 100.00 %\n",
      "val accuracy_score: 76.92 %\n",
      "val balanced_accuracy: 83.33 %\n",
      "Val loss: 0.406089\n",
      "[58,    20] loss: 0.00765\n",
      "Time elapsed: 0h:5m:12s\n",
      "train accuracy_score: 100.00 %\n",
      "train balanced_accuracy: 100.00 %\n",
      "val accuracy_score: 76.92 %\n",
      "val balanced_accuracy: 83.33 %\n",
      "Val loss: 1.326010\n",
      "[59,    20] loss: 0.02187\n",
      "Time elapsed: 0h:5m:17s\n",
      "train accuracy_score: 100.00 %\n",
      "train balanced_accuracy: 100.00 %\n",
      "val accuracy_score: 76.92 %\n",
      "val balanced_accuracy: 83.33 %\n",
      "Val loss: 1.605083\n",
      "[60,    20] loss: 0.01103\n",
      "Time elapsed: 0h:5m:23s\n",
      "train accuracy_score: 100.00 %\n",
      "train balanced_accuracy: 100.00 %\n",
      "val accuracy_score: 92.31 %\n",
      "val balanced_accuracy: 94.44 %\n",
      "Val loss: 0.290240\n",
      "[61,    20] loss: 0.02475\n",
      "Time elapsed: 0h:5m:28s\n",
      "train accuracy_score: 99.10 %\n",
      "train balanced_accuracy: 99.15 %\n",
      "val accuracy_score: 92.31 %\n",
      "val balanced_accuracy: 87.50 %\n",
      "Val loss: 0.364091\n",
      "[62,    20] loss: 0.04825\n",
      "Time elapsed: 0h:5m:33s\n",
      "train accuracy_score: 99.10 %\n",
      "train balanced_accuracy: 99.15 %\n",
      "val accuracy_score: 76.92 %\n",
      "val balanced_accuracy: 83.33 %\n",
      "Val loss: 1.134075\n",
      "[63,    20] loss: 0.00977\n",
      "Time elapsed: 0h:5m:39s\n",
      "train accuracy_score: 100.00 %\n",
      "train balanced_accuracy: 100.00 %\n",
      "val accuracy_score: 92.31 %\n",
      "val balanced_accuracy: 94.44 %\n",
      "Val loss: 0.300247\n",
      "[64,    20] loss: 0.00343\n",
      "Time elapsed: 0h:5m:44s\n",
      "train accuracy_score: 100.00 %\n",
      "train balanced_accuracy: 100.00 %\n",
      "val accuracy_score: 76.92 %\n",
      "val balanced_accuracy: 83.33 %\n",
      "Val loss: 0.613202\n",
      "[65,    20] loss: 0.00710\n",
      "Time elapsed: 0h:5m:50s\n",
      "train accuracy_score: 100.00 %\n",
      "train balanced_accuracy: 100.00 %\n",
      "val accuracy_score: 84.62 %\n",
      "val balanced_accuracy: 88.89 %\n",
      "Val loss: 0.623901\n",
      "Early stopping in epoch 66\n",
      "Total time elapsed: 0h:5m:50s\n",
      "Finished fold.\n"
     ]
    },
    {
     "data": {
      "image/png": "[encoded data removed]",
      "text/plain": [
       "<Figure size 432x288 with 1 Axes>"
      ]
     },
     "metadata": {},
     "output_type": "display_data"
    },
    {
     "data": {
      "image/png": "[encoded data removed]",
      "text/plain": [
       "<Figure size 432x288 with 1 Axes>"
      ]
     },
     "metadata": {},
     "output_type": "display_data"
    },
    {
     "data": {
      "image/png": "[encoded data removed]",
      "text/plain": [
       "<Figure size 432x288 with 1 Axes>"
      ]
     },
     "metadata": {},
     "output_type": "display_data"
    },
    {
     "data": {
      "image/png": "[encoded data removed]",
      "text/plain": [
       "<Figure size 432x288 with 1 Axes>"
      ]
     },
     "metadata": {},
     "output_type": "display_data"
    },
    {
     "name": "stdout",
     "output_type": "stream",
     "text": [
      "Starting trial 1\n",
      "Shuffled the data..\n",
      "torch.Size([1, 96, 114, 96])\n",
      "28\n"
     ]
    },
    {
     "data": {
      "image/png": "[encoded data removed]",
      "text/plain": [
       "<Figure size 432x288 with 1 Axes>"
      ]
     },
     "metadata": {},
     "output_type": "display_data"
    },
    {
     "name": "stdout",
     "output_type": "stream",
     "text": [
      "[0,    20] loss: 0.69722\n",
      "Time elapsed: 0h:0m:4s\n",
      "train accuracy_score: 48.65 %\n",
      "train balanced_accuracy: 49.53 %\n",
      "val accuracy_score: 30.77 %\n",
      "val balanced_accuracy: 50.00 %\n",
      "Val loss: 0.713100\n",
      "[1,    20] loss: 0.70717\n",
      "Time elapsed: 0h:0m:9s\n",
      "train accuracy_score: 43.24 %\n",
      "train balanced_accuracy: 42.85 %\n",
      "val accuracy_score: 61.54 %\n",
      "val balanced_accuracy: 65.28 %\n",
      "Val loss: 0.693704\n",
      "[2,    20] loss: 0.69416\n",
      "Time elapsed: 0h:0m:15s\n",
      "train accuracy_score: 54.05 %\n",
      "train balanced_accuracy: 51.08 %\n",
      "val accuracy_score: 30.77 %\n",
      "val balanced_accuracy: 50.00 %\n",
      "Val loss: 0.695791\n",
      "[3,    20] loss: 0.69323\n",
      "Time elapsed: 0h:0m:20s\n",
      "train accuracy_score: 49.55 %\n",
      "train balanced_accuracy: 47.52 %\n",
      "val accuracy_score: 46.15 %\n",
      "val balanced_accuracy: 61.11 %\n",
      "Val loss: 0.694513\n",
      "[4,    20] loss: 0.69171\n",
      "Time elapsed: 0h:0m:25s\n",
      "train accuracy_score: 54.95 %\n",
      "train balanced_accuracy: 51.92 %\n",
      "val accuracy_score: 38.46 %\n",
      "val balanced_accuracy: 55.56 %\n",
      "Val loss: 0.698607\n",
      "[5,    20] loss: 0.69164\n",
      "Time elapsed: 0h:0m:31s\n",
      "train accuracy_score: 51.35 %\n",
      "train balanced_accuracy: 48.99 %\n",
      "val accuracy_score: 30.77 %\n",
      "val balanced_accuracy: 50.00 %\n",
      "Val loss: 0.697405\n",
      "[6,    20] loss: 0.69161\n",
      "Time elapsed: 0h:0m:36s\n",
      "train accuracy_score: 53.15 %\n",
      "train balanced_accuracy: 50.00 %\n",
      "val accuracy_score: 38.46 %\n",
      "val balanced_accuracy: 55.56 %\n",
      "Val loss: 0.697175\n",
      "[7,    20] loss: 0.68796\n",
      "Time elapsed: 0h:0m:41s\n",
      "train accuracy_score: 53.15 %\n",
      "train balanced_accuracy: 50.11 %\n",
      "val accuracy_score: 30.77 %\n",
      "val balanced_accuracy: 50.00 %\n",
      "Val loss: 0.708756\n",
      "[8,    20] loss: 0.68861\n",
      "Time elapsed: 0h:0m:47s\n",
      "train accuracy_score: 54.95 %\n",
      "train balanced_accuracy: 52.15 %\n",
      "val accuracy_score: 69.23 %\n",
      "val balanced_accuracy: 56.94 %\n",
      "Val loss: 0.680527\n",
      "[9,    20] loss: 0.70155\n",
      "Time elapsed: 0h:0m:52s\n",
      "train accuracy_score: 48.65 %\n",
      "train balanced_accuracy: 46.90 %\n",
      "val accuracy_score: 76.92 %\n",
      "val balanced_accuracy: 62.50 %\n",
      "Val loss: 0.672637\n",
      "[10,    20] loss: 0.69846\n",
      "Time elapsed: 0h:0m:57s\n",
      "train accuracy_score: 53.15 %\n",
      "train balanced_accuracy: 51.37 %\n",
      "val accuracy_score: 38.46 %\n",
      "val balanced_accuracy: 55.56 %\n",
      "Val loss: 0.699340\n",
      "[11,    20] loss: 0.68904\n",
      "Time elapsed: 0h:1m:2s\n",
      "train accuracy_score: 54.05 %\n",
      "train balanced_accuracy: 50.96 %\n",
      "val accuracy_score: 30.77 %\n",
      "val balanced_accuracy: 50.00 %\n",
      "Val loss: 0.695184\n",
      "[12,    20] loss: 0.68334\n",
      "Time elapsed: 0h:1m:8s\n",
      "train accuracy_score: 62.16 %\n",
      "train balanced_accuracy: 61.67 %\n",
      "val accuracy_score: 30.77 %\n",
      "val balanced_accuracy: 50.00 %\n",
      "Val loss: 0.725585\n",
      "[13,    20] loss: 0.67659\n",
      "Time elapsed: 0h:1m:13s\n",
      "train accuracy_score: 56.76 %\n",
      "train balanced_accuracy: 55.10 %\n",
      "val accuracy_score: 69.23 %\n",
      "val balanced_accuracy: 50.00 %\n",
      "Val loss: 0.633432\n",
      "[14,    20] loss: 0.68095\n",
      "Time elapsed: 0h:1m:18s\n",
      "train accuracy_score: 53.15 %\n",
      "train balanced_accuracy: 53.54 %\n",
      "val accuracy_score: 46.15 %\n",
      "val balanced_accuracy: 61.11 %\n",
      "Val loss: 0.707671\n",
      "[15,    20] loss: 0.66225\n",
      "Time elapsed: 0h:1m:24s\n",
      "train accuracy_score: 59.46 %\n",
      "train balanced_accuracy: 58.67 %\n",
      "val accuracy_score: 38.46 %\n",
      "val balanced_accuracy: 55.56 %\n",
      "Val loss: 0.692862\n",
      "[16,    20] loss: 0.65488\n",
      "Time elapsed: 0h:1m:29s\n",
      "train accuracy_score: 63.06 %\n",
      "train balanced_accuracy: 63.20 %\n",
      "val accuracy_score: 30.77 %\n",
      "val balanced_accuracy: 50.00 %\n",
      "Val loss: 0.864049\n",
      "[17,    20] loss: 0.69888\n",
      "Time elapsed: 0h:1m:34s\n",
      "train accuracy_score: 48.65 %\n",
      "train balanced_accuracy: 46.68 %\n",
      "val accuracy_score: 76.92 %\n",
      "val balanced_accuracy: 69.44 %\n",
      "Val loss: 0.610546\n",
      "[18,    20] loss: 0.64289\n",
      "Time elapsed: 0h:1m:40s\n",
      "train accuracy_score: 64.86 %\n",
      "train balanced_accuracy: 65.01 %\n"
     ]
    },
    {
     "ename": "KeyboardInterrupt",
     "evalue": "",
     "output_type": "error",
     "traceback": [
      "\u001b[0;31m---------------------------------------------------------------------------\u001b[0m",
      "\u001b[0;31mKeyboardInterrupt\u001b[0m                         Traceback (most recent call last)",
      "\u001b[0;32m<ipython-input-63-00746f0a543e>\u001b[0m in \u001b[0;36m<module>\u001b[0;34m()\u001b[0m\n\u001b[1;32m      7\u001b[0m                   \u001b[0mnum_epochs\u001b[0m\u001b[0;34m=\u001b[0m\u001b[0mnum_epochs\u001b[0m\u001b[0;34m,\u001b[0m\u001b[0;34m\u001b[0m\u001b[0m\n\u001b[1;32m      8\u001b[0m                   \u001b[0mretain_metric\u001b[0m\u001b[0;34m=\u001b[0m\u001b[0mretain_metric\u001b[0m\u001b[0;34m,\u001b[0m\u001b[0;34m\u001b[0m\u001b[0m\n\u001b[0;32m----> 9\u001b[0;31m                   \u001b[0mb\u001b[0m\u001b[0;34m=\u001b[0m\u001b[0mb\u001b[0m\u001b[0;34m\u001b[0m\u001b[0m\n\u001b[0m\u001b[1;32m     10\u001b[0m                  )\n\u001b[1;32m     11\u001b[0m \u001b[0;34m\u001b[0m\u001b[0m\n",
      "\u001b[0;32m<ipython-input-58-515093f4e75b>\u001b[0m in \u001b[0;36mrun\u001b[0;34m(net, data, shape, callbacks, augmentations, masked, metrics, k_folds, b, num_epochs, retain_metric)\u001b[0m\n\u001b[1;32m     86\u001b[0m             \u001b[0mnum_epochs\u001b[0m\u001b[0;34m=\u001b[0m\u001b[0mnum_epochs\u001b[0m\u001b[0;34m,\u001b[0m\u001b[0;34m\u001b[0m\u001b[0m\n\u001b[1;32m     87\u001b[0m             \u001b[0mshow_train_steps\u001b[0m\u001b[0;34m=\u001b[0m\u001b[0;36m20\u001b[0m\u001b[0;34m,\u001b[0m\u001b[0;34m\u001b[0m\u001b[0m\n\u001b[0;32m---> 88\u001b[0;31m             \u001b[0mshow_validation_epochs\u001b[0m\u001b[0;34m=\u001b[0m\u001b[0;36m1\u001b[0m\u001b[0;34m,\u001b[0m\u001b[0;34m\u001b[0m\u001b[0m\n\u001b[0m\u001b[1;32m     89\u001b[0m         )\n\u001b[1;32m     90\u001b[0m         \u001b[0;31m# append validation score of the retain metric\u001b[0m\u001b[0;34m\u001b[0m\u001b[0;34m\u001b[0m\u001b[0m\n",
      "\u001b[0;32m/analysis/fabiane/phd/nitorch/nitorch/trainer.py\u001b[0m in \u001b[0;36mtrain_model\u001b[0;34m(self, train_loader, val_loader, inputs_key, labels_key, num_epochs, show_train_steps, show_validation_epochs)\u001b[0m\n\u001b[1;32m    226\u001b[0m \u001b[0;34m\u001b[0m\u001b[0m\n\u001b[1;32m    227\u001b[0m                 \u001b[0;32mwith\u001b[0m \u001b[0mtorch\u001b[0m\u001b[0;34m.\u001b[0m\u001b[0mno_grad\u001b[0m\u001b[0;34m(\u001b[0m\u001b[0;34m)\u001b[0m\u001b[0;34m:\u001b[0m\u001b[0;34m\u001b[0m\u001b[0m\n\u001b[0;32m--> 228\u001b[0;31m                     \u001b[0;32mfor\u001b[0m \u001b[0mi\u001b[0m\u001b[0;34m,\u001b[0m \u001b[0mdata\u001b[0m \u001b[0;32min\u001b[0m \u001b[0menumerate\u001b[0m\u001b[0;34m(\u001b[0m\u001b[0mval_loader\u001b[0m\u001b[0;34m)\u001b[0m\u001b[0;34m:\u001b[0m\u001b[0;34m\u001b[0m\u001b[0m\n\u001b[0m\u001b[1;32m    229\u001b[0m                         \u001b[0;32mtry\u001b[0m\u001b[0;34m:\u001b[0m\u001b[0;34m\u001b[0m\u001b[0m\n\u001b[1;32m    230\u001b[0m                             \u001b[0minputs\u001b[0m\u001b[0;34m,\u001b[0m \u001b[0mlabels\u001b[0m \u001b[0;34m=\u001b[0m \u001b[0mdata\u001b[0m\u001b[0;34m[\u001b[0m\u001b[0minputs_key\u001b[0m\u001b[0;34m]\u001b[0m\u001b[0;34m,\u001b[0m \u001b[0mdata\u001b[0m\u001b[0;34m[\u001b[0m\u001b[0mlabels_key\u001b[0m\u001b[0;34m]\u001b[0m\u001b[0;34m\u001b[0m\u001b[0m\n",
      "\u001b[0;32m~/anaconda2/envs/mort1/lib/python3.6/site-packages/torch/utils/data/dataloader.py\u001b[0m in \u001b[0;36m__next__\u001b[0;34m(self)\u001b[0m\n\u001b[1;32m    624\u001b[0m \u001b[0;34m\u001b[0m\u001b[0m\n\u001b[1;32m    625\u001b[0m         \u001b[0;32mif\u001b[0m \u001b[0mself\u001b[0m\u001b[0;34m.\u001b[0m\u001b[0mbatches_outstanding\u001b[0m \u001b[0;34m==\u001b[0m \u001b[0;36m0\u001b[0m\u001b[0;34m:\u001b[0m\u001b[0;34m\u001b[0m\u001b[0m\n\u001b[0;32m--> 626\u001b[0;31m             \u001b[0mself\u001b[0m\u001b[0;34m.\u001b[0m\u001b[0m_shutdown_workers\u001b[0m\u001b[0;34m(\u001b[0m\u001b[0;34m)\u001b[0m\u001b[0;34m\u001b[0m\u001b[0m\n\u001b[0m\u001b[1;32m    627\u001b[0m             \u001b[0;32mraise\u001b[0m \u001b[0mStopIteration\u001b[0m\u001b[0;34m\u001b[0m\u001b[0m\n\u001b[1;32m    628\u001b[0m \u001b[0;34m\u001b[0m\u001b[0m\n",
      "\u001b[0;32m~/anaconda2/envs/mort1/lib/python3.6/site-packages/torch/utils/data/dataloader.py\u001b[0m in \u001b[0;36m_shutdown_workers\u001b[0;34m(self)\u001b[0m\n\u001b[1;32m    711\u001b[0m                 \u001b[0mq\u001b[0m\u001b[0;34m.\u001b[0m\u001b[0mclose\u001b[0m\u001b[0;34m(\u001b[0m\u001b[0;34m)\u001b[0m\u001b[0;34m\u001b[0m\u001b[0m\n\u001b[1;32m    712\u001b[0m             \u001b[0;32mfor\u001b[0m \u001b[0mw\u001b[0m \u001b[0;32min\u001b[0m \u001b[0mself\u001b[0m\u001b[0;34m.\u001b[0m\u001b[0mworkers\u001b[0m\u001b[0;34m:\u001b[0m\u001b[0;34m\u001b[0m\u001b[0m\n\u001b[0;32m--> 713\u001b[0;31m                 \u001b[0mw\u001b[0m\u001b[0;34m.\u001b[0m\u001b[0mjoin\u001b[0m\u001b[0;34m(\u001b[0m\u001b[0;34m)\u001b[0m\u001b[0;34m\u001b[0m\u001b[0m\n\u001b[0m\u001b[1;32m    714\u001b[0m \u001b[0;34m\u001b[0m\u001b[0m\n\u001b[1;32m    715\u001b[0m     \u001b[0;32mdef\u001b[0m \u001b[0m__del__\u001b[0m\u001b[0;34m(\u001b[0m\u001b[0mself\u001b[0m\u001b[0;34m)\u001b[0m\u001b[0;34m:\u001b[0m\u001b[0;34m\u001b[0m\u001b[0m\n",
      "\u001b[0;32m~/anaconda2/envs/mort1/lib/python3.6/multiprocessing/process.py\u001b[0m in \u001b[0;36mjoin\u001b[0;34m(self, timeout)\u001b[0m\n\u001b[1;32m    122\u001b[0m         \u001b[0;32massert\u001b[0m \u001b[0mself\u001b[0m\u001b[0;34m.\u001b[0m\u001b[0m_parent_pid\u001b[0m \u001b[0;34m==\u001b[0m \u001b[0mos\u001b[0m\u001b[0;34m.\u001b[0m\u001b[0mgetpid\u001b[0m\u001b[0;34m(\u001b[0m\u001b[0;34m)\u001b[0m\u001b[0;34m,\u001b[0m \u001b[0;34m'can only join a child process'\u001b[0m\u001b[0;34m\u001b[0m\u001b[0m\n\u001b[1;32m    123\u001b[0m         \u001b[0;32massert\u001b[0m \u001b[0mself\u001b[0m\u001b[0;34m.\u001b[0m\u001b[0m_popen\u001b[0m \u001b[0;32mis\u001b[0m \u001b[0;32mnot\u001b[0m \u001b[0;32mNone\u001b[0m\u001b[0;34m,\u001b[0m \u001b[0;34m'can only join a started process'\u001b[0m\u001b[0;34m\u001b[0m\u001b[0m\n\u001b[0;32m--> 124\u001b[0;31m         \u001b[0mres\u001b[0m \u001b[0;34m=\u001b[0m \u001b[0mself\u001b[0m\u001b[0;34m.\u001b[0m\u001b[0m_popen\u001b[0m\u001b[0;34m.\u001b[0m\u001b[0mwait\u001b[0m\u001b[0;34m(\u001b[0m\u001b[0mtimeout\u001b[0m\u001b[0;34m)\u001b[0m\u001b[0;34m\u001b[0m\u001b[0m\n\u001b[0m\u001b[1;32m    125\u001b[0m         \u001b[0;32mif\u001b[0m \u001b[0mres\u001b[0m \u001b[0;32mis\u001b[0m \u001b[0;32mnot\u001b[0m \u001b[0;32mNone\u001b[0m\u001b[0;34m:\u001b[0m\u001b[0;34m\u001b[0m\u001b[0m\n\u001b[1;32m    126\u001b[0m             \u001b[0m_children\u001b[0m\u001b[0;34m.\u001b[0m\u001b[0mdiscard\u001b[0m\u001b[0;34m(\u001b[0m\u001b[0mself\u001b[0m\u001b[0;34m)\u001b[0m\u001b[0;34m\u001b[0m\u001b[0m\n",
      "\u001b[0;32m~/anaconda2/envs/mort1/lib/python3.6/multiprocessing/popen_fork.py\u001b[0m in \u001b[0;36mwait\u001b[0;34m(self, timeout)\u001b[0m\n\u001b[1;32m     48\u001b[0m                     \u001b[0;32mreturn\u001b[0m \u001b[0;32mNone\u001b[0m\u001b[0;34m\u001b[0m\u001b[0m\n\u001b[1;32m     49\u001b[0m             \u001b[0;31m# This shouldn't block if wait() returned successfully.\u001b[0m\u001b[0;34m\u001b[0m\u001b[0;34m\u001b[0m\u001b[0m\n\u001b[0;32m---> 50\u001b[0;31m             \u001b[0;32mreturn\u001b[0m \u001b[0mself\u001b[0m\u001b[0;34m.\u001b[0m\u001b[0mpoll\u001b[0m\u001b[0;34m(\u001b[0m\u001b[0mos\u001b[0m\u001b[0;34m.\u001b[0m\u001b[0mWNOHANG\u001b[0m \u001b[0;32mif\u001b[0m \u001b[0mtimeout\u001b[0m \u001b[0;34m==\u001b[0m \u001b[0;36m0.0\u001b[0m \u001b[0;32melse\u001b[0m \u001b[0;36m0\u001b[0m\u001b[0;34m)\u001b[0m\u001b[0;34m\u001b[0m\u001b[0m\n\u001b[0m\u001b[1;32m     51\u001b[0m         \u001b[0;32mreturn\u001b[0m \u001b[0mself\u001b[0m\u001b[0;34m.\u001b[0m\u001b[0mreturncode\u001b[0m\u001b[0;34m\u001b[0m\u001b[0m\n\u001b[1;32m     52\u001b[0m \u001b[0;34m\u001b[0m\u001b[0m\n",
      "\u001b[0;32m~/anaconda2/envs/mort1/lib/python3.6/multiprocessing/popen_fork.py\u001b[0m in \u001b[0;36mpoll\u001b[0;34m(self, flag)\u001b[0m\n\u001b[1;32m     26\u001b[0m             \u001b[0;32mwhile\u001b[0m \u001b[0;32mTrue\u001b[0m\u001b[0;34m:\u001b[0m\u001b[0;34m\u001b[0m\u001b[0m\n\u001b[1;32m     27\u001b[0m                 \u001b[0;32mtry\u001b[0m\u001b[0;34m:\u001b[0m\u001b[0;34m\u001b[0m\u001b[0m\n\u001b[0;32m---> 28\u001b[0;31m                     \u001b[0mpid\u001b[0m\u001b[0;34m,\u001b[0m \u001b[0msts\u001b[0m \u001b[0;34m=\u001b[0m \u001b[0mos\u001b[0m\u001b[0;34m.\u001b[0m\u001b[0mwaitpid\u001b[0m\u001b[0;34m(\u001b[0m\u001b[0mself\u001b[0m\u001b[0;34m.\u001b[0m\u001b[0mpid\u001b[0m\u001b[0;34m,\u001b[0m \u001b[0mflag\u001b[0m\u001b[0;34m)\u001b[0m\u001b[0;34m\u001b[0m\u001b[0m\n\u001b[0m\u001b[1;32m     29\u001b[0m                 \u001b[0;32mexcept\u001b[0m \u001b[0mOSError\u001b[0m \u001b[0;32mas\u001b[0m \u001b[0me\u001b[0m\u001b[0;34m:\u001b[0m\u001b[0;34m\u001b[0m\u001b[0m\n\u001b[1;32m     30\u001b[0m                     \u001b[0;31m# Child process not yet created. See #1731717\u001b[0m\u001b[0;34m\u001b[0m\u001b[0;34m\u001b[0m\u001b[0m\n",
      "\u001b[0;31mKeyboardInterrupt\u001b[0m: "
     ]
    }
   ],
   "source": [
    "fold_metric, models = run(net=net, data=ms_data_train,\n",
    "                  k_folds=-1,\n",
    "                  callbacks=callbacks,\n",
    "                  shape=-1,\n",
    "                  masked=False,\n",
    "                  metrics=metrics,\n",
    "                  num_epochs=num_epochs,\n",
    "                  retain_metric=retain_metric,\n",
    "                  b=b\n",
    "                 )\n",
    "\n",
    "print(np.mean(fold_metric))\n",
    "print(np.std(fold_metric))"
   ]
  },
  {
   "cell_type": "code",
   "execution_count": null,
   "metadata": {},
   "outputs": [],
   "source": [
    "5/0"
   ]
  },
  {
   "cell_type": "markdown",
   "metadata": {
    "collapsed": true
   },
   "source": [
    "# Start inference"
   ]
  },
  {
   "cell_type": "code",
   "execution_count": null,
   "metadata": {
    "collapsed": true
   },
   "outputs": [],
   "source": [
    "test_loader = DataLoader(\n",
    "            ms_data_test, batch_size=1, num_workers=1, shuffle=False\n",
    ")"
   ]
  },
  {
   "cell_type": "code",
   "execution_count": null,
   "metadata": {
    "collapsed": true,
    "scrolled": true
   },
   "outputs": [],
   "source": [
    "metrics = []\n",
    "lr = 1e-5\n",
    "wd = 1e-3\n",
    "criterion = nn.BCEWithLogitsLoss().cuda(gpu)\n",
    "optimizer = optim.Adam(net.parameters(), lr=lr, weight_decay=wd)\n",
    "    \n",
    "for fold, model in enumerate(models):\n",
    "    print(\"Fold {}\".format(fold))\n",
    "\n",
    "    all_preds = []\n",
    "    all_labels = []\n",
    "    \n",
    "    net = model.cuda(gpu)\n",
    "    net.eval()\n",
    "    with torch.no_grad():\n",
    "        for sample in test_loader:\n",
    "            img = sample[\"image\"]\n",
    "            label = sample[\"label\"]\n",
    "\n",
    "            img = img.to(torch.device(\"cuda:\" + str(gpu)))\n",
    "\n",
    "            output = net.forward(img)\n",
    "            pred = torch.sigmoid(output) >= 0.5\n",
    "            all_preds.append(pred.cpu().numpy().item())\n",
    "            all_labels.append(label.numpy().item())\n",
    "    \n",
    "    #print(all_preds)\n",
    "    #print(all_labels)\n",
    "    balanced_acc = balanced_accuracy(all_labels, all_preds)\n",
    "    print(balanced_acc)\n",
    "    '''trainer = Trainer(\n",
    "                net,\n",
    "                criterion,\n",
    "                optimizer,\n",
    "                scheduler=None,\n",
    "                metrics=metrics,\n",
    "                callbacks=None,\n",
    "                device=gpu,\n",
    "                prediction_type=\"binary\"\n",
    "            )\n",
    "    computed_metrics = trainer.evaluate_model(test_loader, metrics=[balanced_accuracy])'''\n",
    "    net.train()\n",
    "    metrics.append(balanced_acc)\n",
    "print(\"######## Final results ########\")\n",
    "metrics_df = pd.DataFrame(metrics)\n",
    "print(metrics_df)\n",
    "print(\"Balanced accuracy mean {:.2f} %\".format(np.mean(metrics_df[0])*100))\n"
   ]
  },
  {
   "cell_type": "code",
   "execution_count": null,
   "metadata": {
    "collapsed": true
   },
   "outputs": [],
   "source": []
  },
  {
   "cell_type": "code",
   "execution_count": null,
   "metadata": {
    "collapsed": true
   },
   "outputs": [],
   "source": [
    "\n",
    "# load holdout set\n",
    "df = pd.read_csv(doc_dir)\n",
    "df = df.loc[indices_holdout]\n",
    "\n",
    "metrics = []\n",
    "callbacks = []\n",
    "\n",
    "criterion = nn.BCEWithLogitsLoss().cuda(gpu)\n",
    "optimizer = optim.Adam(net.parameters(), lr=0.0001, weight_decay=0)\n",
    "\n",
    "if zero_one_normalize:\n",
    "    test_transforms = transforms.Compose([intensity, ToTensor()])\n",
    "else:\n",
    "    test_transforms = transforms.Compose([ToTensor()])\n",
    "    \n",
    "cis_data_test = CISDataset(X_holdout, y_holdout, transform=test_transforms, mask=mask, dtype=dtype)\n",
    "test_loader = DataLoader(\n",
    "    cis_data_test, batch_size=4, num_workers=2, shuffle=True\n",
    "        )"
   ]
  },
  {
   "cell_type": "code",
   "execution_count": null,
   "metadata": {
    "collapsed": true
   },
   "outputs": [],
   "source": [
    "cis_data[4][\"image\"].dtype"
   ]
  },
  {
   "cell_type": "code",
   "execution_count": null,
   "metadata": {
    "collapsed": true
   },
   "outputs": [],
   "source": [
    "next(iter(test_loader))[\"image\"].dtype"
   ]
  },
  {
   "cell_type": "code",
   "execution_count": null,
   "metadata": {
    "collapsed": true
   },
   "outputs": [],
   "source": [
    "model_dirs = [os.path.join(output_dir, \"repeat_0_cv_fold_6_training_epoch_28_FINAL.h5\"),\n",
    "os.path.join(output_dir, \"repeat_0_cv_fold_5_training_epoch_87_FINAL.h5\"),\n",
    "os.path.join(output_dir, \"repeat_0_cv_fold_4_training_epoch_30_FINAL.h5\"),\n",
    "os.path.join(output_dir, \"repeat_0_cv_fold_3_training_epoch_40_FINAL.h5\"),\n",
    "os.path.join(output_dir, \"repeat_0_cv_fold_2_training_epoch_30_FINAL.h5\"),\n",
    "os.path.join(output_dir, \"repeat_0_cv_fold_1_training_epoch_25_FINAL.h5\"),\n",
    "os.path.join(output_dir, \"repeat_0_cv_fold_0_training_epoch_32_FINAL.h5\")]"
   ]
  },
  {
   "cell_type": "code",
   "execution_count": null,
   "metadata": {
    "collapsed": true,
    "scrolled": true
   },
   "outputs": [],
   "source": [
    "model_dirs = [os.path.join(output_dir,\"repeat_0_cv_fold_{}_BEST_ITERATION.h5\".format(i)) for i in range(7)]\n",
    "metrics = []\n",
    "for fold, model_dir in enumerate(model_dirs):\n",
    "    print(\"Fold {}\".format(fold))\n",
    "    \n",
    "    # load pre-trained model\n",
    "    #net = SixtyFourNet().cuda(gpu)\n",
    "    net = serialize_model(net, model_dir)\n",
    "\n",
    "    trainer = Trainer(\n",
    "                net,\n",
    "                criterion,\n",
    "                optimizer,\n",
    "                scheduler=None,\n",
    "                metrics=metrics,\n",
    "                callbacks=None,\n",
    "                device=gpu,\n",
    "                prediction_type=\"binary\"\n",
    "            )\n",
    "    computed_metrics = trainer.evaluate_model(test_loader, metrics=[balanced_accuracy])\n",
    "    \n",
    "    metrics.append(computed_metrics)\n",
    "print(\"######## Final results ########\")\n",
    "metrics_df = pd.DataFrame(metrics)\n",
    "print(metrics_df)\n",
    "print(\"Balanced accuracy mean {:.2f} %\".format(np.mean(metrics_df[\"balanced_accuracy\"])*100))\n"
   ]
  },
  {
   "cell_type": "code",
   "execution_count": null,
   "metadata": {
    "collapsed": true,
    "scrolled": true
   },
   "outputs": [],
   "source": [
    "for i, m in enumerate(models):\n",
    "    print(i)\n",
    "    for param in m.parameters():\n",
    "        print(param.grad.norm(2))"
   ]
  },
  {
   "cell_type": "code",
   "execution_count": null,
   "metadata": {
    "collapsed": true
   },
   "outputs": [],
   "source": [
    "all_weight_norms = {}\n",
    "all_bias_norms = {}\n",
    "for i, m in enumerate(models):\n",
    "    bias_norms = {}\n",
    "    weight_norms = {}\n",
    "    print(i)\n",
    "    for name, param in m.named_parameters():\n",
    "        #norms.append(param.grad.norm(2))\n",
    "        norm = param.grad.norm(2)\n",
    "        if name.endswith(\"bias\"):\n",
    "            name = name.replace(\".bias\", \"\")\n",
    "            bias_norms[\"layer_{}\".format(name)] = norm\n",
    "        elif name.endswith(\"weight\"):\n",
    "            name = name.replace(\".weight\", \"\")\n",
    "            weight_norms[\"layer_{}\".format(name)] = norm\n",
    "    all_weight_norms[\"fold_{}\".format(i)] = weight_norms\n",
    "    all_bias_norms[\"fold_{}\".format(i)] = bias_norms"
   ]
  },
  {
   "cell_type": "code",
   "execution_count": null,
   "metadata": {
    "collapsed": true
   },
   "outputs": [],
   "source": [
    "list(metrics_df[\"balanced_accuracy\"])"
   ]
  },
  {
   "cell_type": "code",
   "execution_count": null,
   "metadata": {
    "collapsed": true,
    "scrolled": false
   },
   "outputs": [],
   "source": [
    "num_cols = 2\n",
    "num_rows = 4\n",
    "plt.figure()\n",
    "c = 1\n",
    "r = 1\n",
    "\n",
    "plt.figure(figsize=(12, 24))\n",
    "plt.subplots_adjust(hspace=0.9, wspace=0.2)\n",
    "for f in range(len(models)):\n",
    "    plt.subplot(num_rows, num_cols, f+1)\n",
    "    plt.plot(*zip(*sorted(all_weight_norms[\"fold_{}\".format(f)].items())))\n",
    "    plt.plot(*zip(*sorted(all_bias_norms[\"fold_{}\".format(f)].items())))\n",
    "    plt.legend([\"Weights\", \"Biases\"])\n",
    "    plt.title(\"Fold {} Test balanced acc {:.2f}\".format(f, metrics_df[\"balanced_accuracy\"][f]))\n",
    "    plt.xticks(rotation=90)\n",
    "    axes = plt.gca()\n",
    "    axes.set_ylim([0, 1])\n",
    "    c += 1\n",
    "plt.show()\n",
    "    "
   ]
  },
  {
   "cell_type": "code",
   "execution_count": null,
   "metadata": {
    "collapsed": true
   },
   "outputs": [],
   "source": []
  }
 ],
 "metadata": {
  "kernelspec": {
   "display_name": "Python (mort1)",
   "language": "python",
   "name": "mort1"
  },
  "language_info": {
   "codemirror_mode": {
    "name": "ipython",
    "version": 3
   },
   "file_extension": ".py",
   "mimetype": "text/x-python",
   "name": "python",
   "nbconvert_exporter": "python",
   "pygments_lexer": "ipython3",
   "version": "3.6.5"
  }
 },
 "nbformat": 4,
 "nbformat_minor": 2
}
