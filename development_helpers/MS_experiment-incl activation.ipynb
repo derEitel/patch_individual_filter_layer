{
 "cells": [
  {
   "cell_type": "markdown",
   "metadata": {},
   "source": [
    "Script for debugging the PIF implementation"
   ]
  },
  {
   "cell_type": "code",
   "execution_count": 1,
   "metadata": {
    "collapsed": true
   },
   "outputs": [],
   "source": [
    "# individual path\n",
    "import sys\n",
    "sys.path.insert(0,\"/analysis/fabiane/phd/patch_individual_filters/\")\n",
    "sys.path.insert(0,\"/analysis/fabiane/phd/nitorch/\")"
   ]
  },
  {
   "cell_type": "markdown",
   "metadata": {},
   "source": [
    "Imports"
   ]
  },
  {
   "cell_type": "code",
   "execution_count": 2,
   "metadata": {
    "collapsed": true
   },
   "outputs": [],
   "source": [
    "%matplotlib inline"
   ]
  },
  {
   "cell_type": "code",
   "execution_count": 3,
   "metadata": {
    "collapsed": true
   },
   "outputs": [],
   "source": [
    "%load_ext autoreload\n",
    "%autoreload 2"
   ]
  },
  {
   "cell_type": "code",
   "execution_count": 6,
   "metadata": {},
   "outputs": [],
   "source": [
    "import os\n",
    "import time\n",
    "import matplotlib.pyplot as plt\n",
    "import numpy as np\n",
    "import pandas as pd\n",
    "import glob\n",
    "import h5py\n",
    "\n",
    "# pytorch\n",
    "import torch\n",
    "import torch.nn as nn\n",
    "import torch.nn.functional as F\n",
    "import torch.optim as optim\n",
    "from torchvision import transforms\n",
    "from torch.utils.data import Dataset, DataLoader, SubsetRandomSampler\n",
    "from torch.nn.modules.module import Module\n",
    "\n",
    "# sklearn functions\n",
    "from sklearn.metrics import accuracy_score\n",
    "from sklearn.model_selection import train_test_split, KFold\n",
    "\n",
    "# load functions from nitorch\n",
    "from nitorch.data import load_nifti\n",
    "from nitorch.transforms import  ToTensor, SagittalTranslate, SagittalFlip, \\\n",
    "                                AxialTranslate, normalization_factors, Normalize, \\\n",
    "                                IntensityRescale\n",
    "from nitorch.callbacks import EarlyStopping, ModelCheckpoint\n",
    "from nitorch.trainer import Trainer\n",
    "from nitorch.initialization import weights_init\n",
    "from nitorch.metrics import balanced_accuracy, sensitivity, specificity\n",
    "from nitorch.utils import count_parameters"
   ]
  },
  {
   "cell_type": "code",
   "execution_count": 7,
   "metadata": {},
   "outputs": [],
   "source": [
    "from pif import PatchIndividualFilters3D, PatchIndividualFilters3DOverlap"
   ]
  },
  {
   "cell_type": "code",
   "execution_count": 8,
   "metadata": {},
   "outputs": [
    {
     "data": {
      "text/plain": [
       "'1.0.0'"
      ]
     },
     "execution_count": 8,
     "metadata": {},
     "output_type": "execute_result"
    }
   ],
   "source": [
    "torch.__version__"
   ]
  },
  {
   "cell_type": "code",
   "execution_count": 9,
   "metadata": {
    "collapsed": true
   },
   "outputs": [],
   "source": [
    "# use multiple GPUs\n",
    "gpu = 4\n",
    "multi_gpus = None#[0, 1, 2]\n",
    "b = 4\n",
    "zero_one_normalize = False\n",
    "zoom = 0.525\n",
    "\n",
    "dtype = np.float64"
   ]
  },
  {
   "cell_type": "code",
   "execution_count": 10,
   "metadata": {
    "collapsed": true
   },
   "outputs": [],
   "source": [
    "# load mask\n",
    "mask = None"
   ]
  },
  {
   "cell_type": "code",
   "execution_count": 11,
   "metadata": {
    "collapsed": true
   },
   "outputs": [],
   "source": [
    "train_h5 = h5py.File('/analysis/ritter/data/MS/CIS/train_dataset.h5', 'r')\n",
    "holdout_h5 = h5py.File('/analysis/ritter/data/MS/CIS/holdout_dataset.h5', 'r')"
   ]
  },
  {
   "cell_type": "code",
   "execution_count": 12,
   "metadata": {
    "collapsed": true
   },
   "outputs": [],
   "source": [
    "X_holdout, y_holdout = holdout_h5['X'], holdout_h5['y']\n",
    "X_train, y_train = train_h5['X'], train_h5['y']"
   ]
  },
  {
   "cell_type": "code",
   "execution_count": 13,
   "metadata": {
    "collapsed": true
   },
   "outputs": [],
   "source": [
    "# convert data to numpy arrays\n",
    "#X_train = np.array(X_train, dtype=dtype)\n",
    "#y_train = np.array(y_train)\n",
    "\n",
    "#X_holdout = np.array(X_holdout, dtype=dtype)\n",
    "#y_holdout = np.array(y_holdout)"
   ]
  },
  {
   "cell_type": "code",
   "execution_count": 14,
   "metadata": {
    "collapsed": true
   },
   "outputs": [],
   "source": [
    "class MSDataset(Dataset):\n",
    "    def __init__(self, X, y, transform=None, target_transform=None, mask=None, z_factor=zoom, dtype=np.float32):\n",
    "        self.X = np.copy(X)\n",
    "        self.y = np.copy(y)\n",
    "        self.transform = transform\n",
    "        self.target_transform = target_transform\n",
    "        self.mask = mask\n",
    "        self.z_factor = zoom\n",
    "        self.dtype = dtype\n",
    "        \n",
    "    def __len__(self):\n",
    "        return len(self.X)\n",
    "    \n",
    "    def __getitem__(self, idx):\n",
    "        image = self.X[idx]\n",
    "        label = self.y[idx] >= 0.5\n",
    "        label = torch.FloatTensor([label])\n",
    "        \n",
    "        # normalize by max\n",
    "        image /= np.max(image)\n",
    "        \n",
    "        if self.transform:\n",
    "            image = self.transform(image)\n",
    "        #if self.target_transform:\n",
    "        #    label = self.target_transform(label)\n",
    "            \n",
    "        sample = {\"image\" : image,\n",
    "                 \"label\" : label}\n",
    "                 #\"idx\":idx}\n",
    "        return sample"
   ]
  },
  {
   "cell_type": "code",
   "execution_count": 15,
   "metadata": {
    "collapsed": true
   },
   "outputs": [],
   "source": [
    "if zero_one_normalize:\n",
    "    intensity = IntensityRescale()\n",
    "    ms_data_train = MSDataset(X_train, y_train, transform=transforms.Compose([intensity, ToTensor()]), mask=mask, dtype=dtype)\n",
    "    ms_data_test = MSDataset(X_holdout, y_holdout, transform=transforms.Compose([intensity, ToTensor()]), mask=mask, dtype=dtype)\n",
    "else:\n",
    "    ms_data_train = MSDataset(X_train, y_train, transform=transforms.Compose([ToTensor()]), mask=mask, dtype=dtype)\n",
    "    ms_data_test = MSDataset(X_holdout, y_holdout, transform=transforms.Compose([ToTensor()]), mask=mask, dtype=dtype)"
   ]
  },
  {
   "cell_type": "code",
   "execution_count": 16,
   "metadata": {
    "collapsed": true
   },
   "outputs": [],
   "source": [
    "sample = ms_data_train[29]\n",
    "img = sample[\"image\"]"
   ]
  },
  {
   "cell_type": "code",
   "execution_count": 17,
   "metadata": {},
   "outputs": [
    {
     "data": {
      "text/plain": [
       "torch.Size([1, 96, 114, 96])"
      ]
     },
     "execution_count": 17,
     "metadata": {},
     "output_type": "execute_result"
    }
   ],
   "source": [
    "img.shape"
   ]
  },
  {
   "cell_type": "code",
   "execution_count": 18,
   "metadata": {},
   "outputs": [
    {
     "data": {
      "text/plain": [
       "Text(0.5, 1.0, '1.0')"
      ]
     },
     "execution_count": 18,
     "metadata": {},
     "output_type": "execute_result"
    },
    {
     "data": {
      "image/png": "[encoded data removed]",
      "text/plain": [
       "<Figure size 432x288 with 1 Axes>"
      ]
     },
     "metadata": {},
     "output_type": "display_data"
    }
   ],
   "source": [
    "plt.imshow(img[0][:,:,46], cmap='gray')\n",
    "plt.title(sample[\"label\"].item())"
   ]
  },
  {
   "cell_type": "markdown",
   "metadata": {},
   "source": [
    "# Define the classifier"
   ]
  },
  {
   "cell_type": "code",
   "execution_count": 71,
   "metadata": {},
   "outputs": [],
   "source": [
    "class SixtyFourNet(nn.Module):\n",
    "    def __init__(self, drp_rate=0.3):\n",
    "        super(SixtyFourNet, self).__init__()\n",
    "        self.drp_rate = drp_rate\n",
    "        self.Conv_1 = nn.Conv3d(1, 64, kernel_size=3, stride=1, padding=0)\n",
    "        self.pool_1 = nn.MaxPool3d(kernel_size=3, stride=3, padding=0)\n",
    "        self.Conv_2 = nn.Conv3d(64, 64, kernel_size=3, stride=1, padding=0)\n",
    "        self.pool_2 = nn.MaxPool3d(kernel_size=3, stride=2, padding=0)\n",
    "        self.Conv_3 = nn.Conv3d(64, 64, kernel_size=3, stride=1, padding=0)\n",
    "        self.Conv_4 = nn.Conv3d(64, 64, kernel_size=3, stride=1, padding=0)\n",
    "        self.pool_4 = nn.MaxPool3d(kernel_size=3, stride=3, padding=0)\n",
    "\n",
    "        self.pif = PatchIndividualFilters3DOverlap([10,13,10],\n",
    "                                            filter_shape=(3,3,3),\n",
    "                                            #patch_shape=(5,5,5),\n",
    "                                            patch_shape=(4,4,4),\n",
    "                                            num_local_filter_in=64,\n",
    "                                            num_local_filter_out=3,\n",
    "                                            overlap=1,\n",
    "                                            reassemble=True,\n",
    "                                            debug=False)\n",
    "\n",
    "        # 4, 64, 1, 2, 1\n",
    "        self.classifier_scratch = nn.Sequential(\n",
    "            nn.Linear(1728, 100),\n",
    "            nn.Linear(100, 1)\n",
    "        )\n",
    "\n",
    "    def encode(self, x, print_size=False):\n",
    "        if print_size:\n",
    "            print(x.shape)\n",
    "        x = F.elu(self.Conv_1(x))\n",
    "        h = F.dropout3d(self.pool_1(x), p=self.drp_rate)\n",
    "        x = F.elu(self.Conv_2(h))\n",
    "        if print_size:\n",
    "            print(x.shape)\n",
    "        h = F.dropout3d(self.pool_2(x), p=self.drp_rate)\n",
    "        x = F.elu(self.Conv_3(h))\n",
    "        if print_size:\n",
    "            print(x.shape)\n",
    "        x = F.elu(self.Conv_4(x))\n",
    "        if print_size:\n",
    "            print(x.shape)\n",
    "        #h = F.dropout3d(self.pool_4(x), p=self.drp_rate)\n",
    "        #if print_size:\n",
    "        #    print(h.shape)\n",
    "        \n",
    "        h = self.pif(x)\n",
    "        print(h.shape)\n",
    "        #if print_size:\n",
    "        #    print(h.shape)\n",
    "        return h #.contiguous()\n",
    "\n",
    "    def forward(self, x):\n",
    "        print_size = True\n",
    "        x = self.encode(x, print_size=print_size)\n",
    "        x = self.flatten(x)\n",
    "        x = self.classifier_scratch(x)\n",
    "        return x\n",
    "    \n",
    "    def flatten(self, x):\n",
    "        return x.view(x.size(0), -1)"
   ]
  },
  {
   "cell_type": "code",
   "execution_count": 72,
   "metadata": {},
   "outputs": [],
   "source": [
    "if multi_gpus is None:\n",
    "    net = SixtyFourNet().cuda(gpu)\n",
    "else:\n",
    "    net = torch.nn.DataParallel(SixtyFourNet(), device_ids=multi_gpus).cuda(gpu)"
   ]
  },
  {
   "cell_type": "code",
   "execution_count": 73,
   "metadata": {},
   "outputs": [
    {
     "name": "stdout",
     "output_type": "stream",
     "text": [
      "Trainable model parameters: 755737\n"
     ]
    }
   ],
   "source": [
    "print(\"Trainable model parameters: {}\".format(count_parameters(net)))"
   ]
  },
  {
   "cell_type": "code",
   "execution_count": 74,
   "metadata": {},
   "outputs": [
    {
     "name": "stdout",
     "output_type": "stream",
     "text": [
      "torch.Size([1, 1, 96, 114, 96])\n",
      "torch.Size([1, 64, 29, 35, 29])\n",
      "torch.Size([1, 64, 12, 15, 12])\n",
      "torch.Size([1, 64, 10, 13, 10])\n",
      "torch.Size([1, 6, 6, 8, 6])\n"
     ]
    },
    {
     "data": {
      "text/plain": [
       "tensor([[0.0790]], device='cuda:4', grad_fn=<AddmmBackward>)"
      ]
     },
     "execution_count": 74,
     "metadata": {},
     "output_type": "execute_result"
    }
   ],
   "source": [
    "net.forward(next(iter(ms_data_train))[\"image\"].unsqueeze(0).cuda(gpu))"
   ]
  },
  {
   "cell_type": "markdown",
   "metadata": {},
   "source": [
    "# Training"
   ]
  },
  {
   "cell_type": "code",
   "execution_count": null,
   "metadata": {
    "collapsed": true
   },
   "outputs": [],
   "source": [
    "def run(\n",
    "    net,\n",
    "    data,\n",
    "    shape,\n",
    "    callbacks=[],\n",
    "    augmentations=[],\n",
    "    masked=False,\n",
    "    metrics=[],\n",
    "    k_folds=None,\n",
    "    b=4,\n",
    "    num_epochs=35,\n",
    "    retain_metric=None\n",
    "):      \n",
    "\n",
    "    #kf = StratifiedKFold(n_splits=k_folds, shuffle=True)\n",
    "    #kf = KFold(n_splits=k_folds, shuffle=True)\n",
    "    all_indices = list(range(len(data)))\n",
    "    train_idx, val_idx = train_test_split(all_indices, test_size=0.1, random_state=12)\n",
    "    fold_metric = []\n",
    "    models = []\n",
    "    fold = 0\n",
    "    initial_prepend = None\n",
    "    \n",
    "    #for train_idx, val_idx in kf.split(data):#, df[\"label\"]):\n",
    "    for trial in range(10):\n",
    "        print(\"Starting trial {}\".format(trial))\n",
    "\n",
    "        # add current fold number to model checkpoint path\n",
    "        if callbacks is not None:\n",
    "            for idx, callback in enumerate(callbacks):\n",
    "                if isinstance(callback, ModelCheckpoint):\n",
    "                    if initial_prepend is None:\n",
    "                        initial_prepend = callbacks[idx].prepend\n",
    "                    callbacks[idx].prepend = initial_prepend + \"cv_fold_{}_\".format(fold)\n",
    "        fold += 1\n",
    "\n",
    "        # restart model\n",
    "        del net\n",
    "        net = SixtyFourNet().cuda(gpu)\n",
    "        \n",
    "        # reset hyperparameters\n",
    "        lr = 1e-4\n",
    "        wd = 1e-4\n",
    "        criterion = nn.BCEWithLogitsLoss().cuda(gpu)\n",
    "        optimizer = optim.Adam(net.parameters(), lr=lr, weight_decay=wd)\n",
    "\n",
    "        train_sampler = SubsetRandomSampler(train_idx)\n",
    "        val_sampler = SubsetRandomSampler(val_idx)\n",
    "        print(\"Shuffled the data..\")\n",
    "\n",
    "        # Note: is the dataset loading necessary again?\n",
    "        if zero_one_normalize:\n",
    "            intensity = IntensityRescale()\n",
    "            ms_data_train = MSDataset(X_train, y_train, transform=transforms.Compose([intensity, ToTensor()]), mask=mask, dtype=dtype)\n",
    "        else:\n",
    "            ms_data_train = MSDataset(X_train, y_train, transform=transforms.Compose([ToTensor()]), mask=mask, dtype=dtype)\n",
    "        \n",
    "        train_loader = DataLoader(\n",
    "            ms_data_train, batch_size=b, num_workers=4, sampler=train_sampler\n",
    "        )\n",
    "        val_loader = DataLoader(\n",
    "            ms_data_train, batch_size=1, num_workers=1, sampler=val_sampler\n",
    "        )\n",
    "\n",
    "        sample = next(iter(train_loader))\n",
    "        img = sample[\"image\"][0]\n",
    "        lbl = sample[\"label\"][0]\n",
    "        print(img.shape)\n",
    "        print(len(train_loader))\n",
    "        plt.imshow(img.squeeze()[:,:,48], cmap='gray')\n",
    "        plt.title(lbl.item())\n",
    "        plt.show()\n",
    "        trainer = Trainer(\n",
    "            net,\n",
    "            criterion,\n",
    "            optimizer,\n",
    "            metrics=metrics,\n",
    "            callbacks=callbacks,\n",
    "            device=gpu,\n",
    "            #scheduler=sched,\n",
    "        )\n",
    "        # train model and store results\n",
    "        net, report = trainer.train_model(\n",
    "            train_loader,\n",
    "            val_loader,\n",
    "            num_epochs=num_epochs,\n",
    "            show_train_steps=20,\n",
    "            show_validation_epochs=1,\n",
    "        )\n",
    "        # append validation score of the retain metric\n",
    "        if isinstance(retain_metric, str):\n",
    "            fold_metric.append(report[\"val_metrics\"][retain_metric][-1])\n",
    "        else:\n",
    "            fold_metric.append(report[\"val_metrics\"][retain_metric.__name__][-1])\n",
    "\n",
    "        models.append(net)\n",
    "        print(\"Finished fold.\")\n",
    "\n",
    "        # visualize result\n",
    "        trainer.visualize_training(report, metrics)\n",
    "        trainer.evaluate_model(val_loader, gpu)\n",
    "\n",
    "    print(\"################################\")\n",
    "    print(\"################################\")\n",
    "    print(\"All accuracies: {}\".format(fold_metric))\n",
    "    return fold_metric, models\n"
   ]
  },
  {
   "cell_type": "code",
   "execution_count": null,
   "metadata": {
    "collapsed": true
   },
   "outputs": [],
   "source": [
    "num_epochs = 200\n",
    "min_iters = 3\n",
    "ignore_epochs = 5\n",
    "normalize = False\n",
    "retain_metric = balanced_accuracy\n",
    "metrics = [accuracy_score, balanced_accuracy]"
   ]
  },
  {
   "cell_type": "code",
   "execution_count": null,
   "metadata": {
    "collapsed": true
   },
   "outputs": [],
   "source": [
    "#r = 0"
   ]
  },
  {
   "cell_type": "code",
   "execution_count": null,
   "metadata": {
    "collapsed": true
   },
   "outputs": [],
   "source": [
    "#output_dir = \"/analysis/fabiane/models/MS/pretrained/from_keras/pytorch_finetuned/hdf5\"\n",
    "# ModelCheckpoint(path=output_dir,\n",
    "                             #prepend=\"repeat_{}\".format(r),\n",
    "                             #store_best=True,\n",
    "                             #ignore_before=ignore_epochs,\n",
    "                             #retain_metric=retain_metric),\n",
    "\n",
    "#augmentations = [SagittalFlip(), SagittalTranslate(dist=(-2, 3))]"
   ]
  },
  {
   "cell_type": "code",
   "execution_count": null,
   "metadata": {
    "collapsed": true
   },
   "outputs": [],
   "source": [
    "callbacks = [EarlyStopping(patience=16, ignore_before=ignore_epochs, retain_metric=\"loss\", mode='min')]\n",
    "#callbacks = []"
   ]
  },
  {
   "cell_type": "code",
   "execution_count": null,
   "metadata": {
    "scrolled": true
   },
   "outputs": [],
   "source": [
    "fold_metric, models = run(net=net, data=ms_data_train,\n",
    "                  k_folds=-1,\n",
    "                  callbacks=callbacks,\n",
    "                  shape=-1,\n",
    "                  masked=False,\n",
    "                  metrics=metrics,\n",
    "                  num_epochs=num_epochs,\n",
    "                  retain_metric=retain_metric,\n",
    "                  b=b\n",
    "                 )\n",
    "\n",
    "print(np.mean(fold_metric))\n",
    "print(np.std(fold_metric))"
   ]
  },
  {
   "cell_type": "code",
   "execution_count": null,
   "metadata": {
    "collapsed": true
   },
   "outputs": [],
   "source": [
    "5/0"
   ]
  },
  {
   "cell_type": "markdown",
   "metadata": {
    "collapsed": true
   },
   "source": [
    "# Start inference"
   ]
  },
  {
   "cell_type": "code",
   "execution_count": null,
   "metadata": {
    "collapsed": true
   },
   "outputs": [],
   "source": [
    "test_loader = DataLoader(\n",
    "            ms_data_test, batch_size=1, num_workers=1, shuffle=False\n",
    ")"
   ]
  },
  {
   "cell_type": "code",
   "execution_count": null,
   "metadata": {
    "scrolled": true
   },
   "outputs": [],
   "source": [
    "metrics = []\n",
    "lr = 1e-5\n",
    "wd = 1e-3\n",
    "criterion = nn.BCEWithLogitsLoss().cuda(gpu)\n",
    "optimizer = optim.Adam(net.parameters(), lr=lr, weight_decay=wd)\n",
    "    \n",
    "for fold, model in enumerate(models):\n",
    "    print(\"Fold {}\".format(fold))\n",
    "\n",
    "    all_preds = []\n",
    "    all_labels = []\n",
    "    \n",
    "    net = model.cuda(gpu)\n",
    "    net.eval()\n",
    "    with torch.no_grad():\n",
    "        for sample in test_loader:\n",
    "            img = sample[\"image\"]\n",
    "            label = sample[\"label\"]\n",
    "\n",
    "            img = img.to(torch.device(\"cuda:\" + str(gpu)))\n",
    "\n",
    "            output = net.forward(img)\n",
    "            pred = torch.sigmoid(output) >= 0.5\n",
    "            all_preds.append(pred.cpu().numpy().item())\n",
    "            all_labels.append(label.numpy().item())\n",
    "    \n",
    "    #print(all_preds)\n",
    "    #print(all_labels)\n",
    "    balanced_acc = balanced_accuracy(all_labels, all_preds)\n",
    "    print(balanced_acc)\n",
    "    '''trainer = Trainer(\n",
    "                net,\n",
    "                criterion,\n",
    "                optimizer,\n",
    "                scheduler=None,\n",
    "                metrics=metrics,\n",
    "                callbacks=None,\n",
    "                device=gpu,\n",
    "                prediction_type=\"binary\"\n",
    "            )\n",
    "    computed_metrics = trainer.evaluate_model(test_loader, metrics=[balanced_accuracy])'''\n",
    "    net.train()\n",
    "    metrics.append(balanced_acc)\n",
    "print(\"######## Final results ########\")\n",
    "metrics_df = pd.DataFrame(metrics)\n",
    "print(metrics_df)\n",
    "print(\"Balanced accuracy mean {:.2f} %\".format(np.mean(metrics_df[0])*100))\n"
   ]
  },
  {
   "cell_type": "code",
   "execution_count": null,
   "metadata": {
    "collapsed": true
   },
   "outputs": [],
   "source": []
  },
  {
   "cell_type": "code",
   "execution_count": null,
   "metadata": {
    "collapsed": true
   },
   "outputs": [],
   "source": [
    "\n",
    "# load holdout set\n",
    "df = pd.read_csv(doc_dir)\n",
    "df = df.loc[indices_holdout]\n",
    "\n",
    "metrics = []\n",
    "callbacks = []\n",
    "\n",
    "criterion = nn.BCEWithLogitsLoss().cuda(gpu)\n",
    "optimizer = optim.Adam(net.parameters(), lr=0.0001, weight_decay=0)\n",
    "\n",
    "if zero_one_normalize:\n",
    "    test_transforms = transforms.Compose([intensity, ToTensor()])\n",
    "else:\n",
    "    test_transforms = transforms.Compose([ToTensor()])\n",
    "    \n",
    "cis_data_test = CISDataset(X_holdout, y_holdout, transform=test_transforms, mask=mask, dtype=dtype)\n",
    "test_loader = DataLoader(\n",
    "    cis_data_test, batch_size=4, num_workers=2, shuffle=True\n",
    "        )"
   ]
  },
  {
   "cell_type": "code",
   "execution_count": null,
   "metadata": {
    "collapsed": true
   },
   "outputs": [],
   "source": [
    "cis_data[4][\"image\"].dtype"
   ]
  },
  {
   "cell_type": "code",
   "execution_count": null,
   "metadata": {
    "collapsed": true
   },
   "outputs": [],
   "source": [
    "next(iter(test_loader))[\"image\"].dtype"
   ]
  },
  {
   "cell_type": "code",
   "execution_count": null,
   "metadata": {
    "collapsed": true
   },
   "outputs": [],
   "source": [
    "model_dirs = [os.path.join(output_dir, \"repeat_0_cv_fold_6_training_epoch_28_FINAL.h5\"),\n",
    "os.path.join(output_dir, \"repeat_0_cv_fold_5_training_epoch_87_FINAL.h5\"),\n",
    "os.path.join(output_dir, \"repeat_0_cv_fold_4_training_epoch_30_FINAL.h5\"),\n",
    "os.path.join(output_dir, \"repeat_0_cv_fold_3_training_epoch_40_FINAL.h5\"),\n",
    "os.path.join(output_dir, \"repeat_0_cv_fold_2_training_epoch_30_FINAL.h5\"),\n",
    "os.path.join(output_dir, \"repeat_0_cv_fold_1_training_epoch_25_FINAL.h5\"),\n",
    "os.path.join(output_dir, \"repeat_0_cv_fold_0_training_epoch_32_FINAL.h5\")]"
   ]
  },
  {
   "cell_type": "code",
   "execution_count": null,
   "metadata": {
    "collapsed": true,
    "scrolled": true
   },
   "outputs": [],
   "source": [
    "model_dirs = [os.path.join(output_dir,\"repeat_0_cv_fold_{}_BEST_ITERATION.h5\".format(i)) for i in range(7)]\n",
    "metrics = []\n",
    "for fold, model_dir in enumerate(model_dirs):\n",
    "    print(\"Fold {}\".format(fold))\n",
    "    \n",
    "    # load pre-trained model\n",
    "    #net = SixtyFourNet().cuda(gpu)\n",
    "    net = serialize_model(net, model_dir)\n",
    "\n",
    "    trainer = Trainer(\n",
    "                net,\n",
    "                criterion,\n",
    "                optimizer,\n",
    "                scheduler=None,\n",
    "                metrics=metrics,\n",
    "                callbacks=None,\n",
    "                device=gpu,\n",
    "                prediction_type=\"binary\"\n",
    "            )\n",
    "    computed_metrics = trainer.evaluate_model(test_loader, metrics=[balanced_accuracy])\n",
    "    \n",
    "    metrics.append(computed_metrics)\n",
    "print(\"######## Final results ########\")\n",
    "metrics_df = pd.DataFrame(metrics)\n",
    "print(metrics_df)\n",
    "print(\"Balanced accuracy mean {:.2f} %\".format(np.mean(metrics_df[\"balanced_accuracy\"])*100))\n"
   ]
  },
  {
   "cell_type": "code",
   "execution_count": null,
   "metadata": {
    "collapsed": true,
    "scrolled": true
   },
   "outputs": [],
   "source": [
    "for i, m in enumerate(models):\n",
    "    print(i)\n",
    "    for param in m.parameters():\n",
    "        print(param.grad.norm(2))"
   ]
  },
  {
   "cell_type": "code",
   "execution_count": null,
   "metadata": {
    "collapsed": true
   },
   "outputs": [],
   "source": [
    "all_weight_norms = {}\n",
    "all_bias_norms = {}\n",
    "for i, m in enumerate(models):\n",
    "    bias_norms = {}\n",
    "    weight_norms = {}\n",
    "    print(i)\n",
    "    for name, param in m.named_parameters():\n",
    "        #norms.append(param.grad.norm(2))\n",
    "        norm = param.grad.norm(2)\n",
    "        if name.endswith(\"bias\"):\n",
    "            name = name.replace(\".bias\", \"\")\n",
    "            bias_norms[\"layer_{}\".format(name)] = norm\n",
    "        elif name.endswith(\"weight\"):\n",
    "            name = name.replace(\".weight\", \"\")\n",
    "            weight_norms[\"layer_{}\".format(name)] = norm\n",
    "    all_weight_norms[\"fold_{}\".format(i)] = weight_norms\n",
    "    all_bias_norms[\"fold_{}\".format(i)] = bias_norms"
   ]
  },
  {
   "cell_type": "code",
   "execution_count": null,
   "metadata": {
    "collapsed": true
   },
   "outputs": [],
   "source": [
    "list(metrics_df[\"balanced_accuracy\"])"
   ]
  },
  {
   "cell_type": "code",
   "execution_count": null,
   "metadata": {
    "collapsed": true,
    "scrolled": false
   },
   "outputs": [],
   "source": [
    "num_cols = 2\n",
    "num_rows = 4\n",
    "plt.figure()\n",
    "c = 1\n",
    "r = 1\n",
    "\n",
    "plt.figure(figsize=(12, 24))\n",
    "plt.subplots_adjust(hspace=0.9, wspace=0.2)\n",
    "for f in range(len(models)):\n",
    "    plt.subplot(num_rows, num_cols, f+1)\n",
    "    plt.plot(*zip(*sorted(all_weight_norms[\"fold_{}\".format(f)].items())))\n",
    "    plt.plot(*zip(*sorted(all_bias_norms[\"fold_{}\".format(f)].items())))\n",
    "    plt.legend([\"Weights\", \"Biases\"])\n",
    "    plt.title(\"Fold {} Test balanced acc {:.2f}\".format(f, metrics_df[\"balanced_accuracy\"][f]))\n",
    "    plt.xticks(rotation=90)\n",
    "    axes = plt.gca()\n",
    "    axes.set_ylim([0, 1])\n",
    "    c += 1\n",
    "plt.show()\n",
    "    "
   ]
  },
  {
   "cell_type": "code",
   "execution_count": null,
   "metadata": {
    "collapsed": true
   },
   "outputs": [],
   "source": []
  }
 ],
 "metadata": {
  "kernelspec": {
   "display_name": "Python (mort1)",
   "language": "python",
   "name": "mort1"
  },
  "language_info": {
   "codemirror_mode": {
    "name": "ipython",
    "version": 3
   },
   "file_extension": ".py",
   "mimetype": "text/x-python",
   "name": "python",
   "nbconvert_exporter": "python",
   "pygments_lexer": "ipython3",
   "version": "3.6.5"
  }
 },
 "nbformat": 4,
 "nbformat_minor": 2
}
