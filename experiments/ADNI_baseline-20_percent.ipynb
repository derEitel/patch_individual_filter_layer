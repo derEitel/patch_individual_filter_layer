{
 "cells": [
  {
   "cell_type": "code",
   "execution_count": null,
   "metadata": {
    "collapsed": true
   },
   "outputs": [],
   "source": [
    "%matplotlib inline"
   ]
  },
  {
   "cell_type": "code",
   "execution_count": null,
   "metadata": {
    "collapsed": true
   },
   "outputs": [],
   "source": [
    "%load_ext autoreload\n",
    "%autoreload 2"
   ]
  },
  {
   "cell_type": "code",
   "execution_count": null,
   "metadata": {},
   "outputs": [],
   "source": [
    "import glob\n",
    "import h5py"
   ]
  },
  {
   "cell_type": "code",
   "execution_count": null,
   "metadata": {
    "collapsed": true
   },
   "outputs": [],
   "source": [
    "import os\n",
    "import sys\n",
    "import time\n",
    "import matplotlib.pyplot as plt\n",
    "import numpy as np\n",
    "import pandas as pd\n",
    "\n",
    "# pytorch\n",
    "import torch\n",
    "import torch.nn as nn\n",
    "import torch.nn.functional as F\n",
    "import torch.optim as optim\n",
    "from torchvision import transforms\n",
    "from torch.utils.data import Dataset, DataLoader, SubsetRandomSampler\n",
    "from torch.nn.modules.module import Module\n",
    "\n",
    "# sklearn functions\n",
    "from sklearn.metrics import accuracy_score, roc_curve, auc, roc_auc_score\n",
    "from sklearn.model_selection import train_test_split, KFold, GroupShuffleSplit\n",
    "\n",
    "# load functions from nitorch\n",
    "sys.path.insert(0,\"/analysis/fabiane/phd/nitorch/\")\n",
    "from nitorch.data import load_nifti\n",
    "from nitorch.transforms import  ToTensor, SagittalTranslate, SagittalFlip, \\\n",
    "                                AxialTranslate, normalization_factors, Normalize, \\\n",
    "                                IntensityRescale\n",
    "from nitorch.callbacks import EarlyStopping, ModelCheckpoint\n",
    "from nitorch.trainer import Trainer\n",
    "from nitorch.initialization import weights_init\n",
    "from nitorch.metrics import balanced_accuracy, sensitivity, specificity, auc_score\n",
    "from nitorch.utils import count_parameters"
   ]
  },
  {
   "cell_type": "code",
   "execution_count": null,
   "metadata": {},
   "outputs": [],
   "source": [
    "torch.__version__"
   ]
  },
  {
   "cell_type": "code",
   "execution_count": null,
   "metadata": {
    "collapsed": true
   },
   "outputs": [],
   "source": [
    "gpu = 0\n",
    "multi_gpus = None #[0, 1, 2]\n",
    "b = 12\n",
    "zero_one_normalize = False\n",
    "zoom = 0.525\n",
    "\n",
    "dtype = np.float64"
   ]
  },
  {
   "cell_type": "code",
   "execution_count": null,
   "metadata": {
    "collapsed": true
   },
   "outputs": [],
   "source": [
    "# load mask\n",
    "mask = None"
   ]
  },
  {
   "cell_type": "code",
   "execution_count": null,
   "metadata": {
    "collapsed": true
   },
   "outputs": [],
   "source": [
    "train_h5 = h5py.File(\"/ritter/share/data/ADNI_HDF5/Splits_Eitel/train_AD_CN_2Yr15T_plus_UniqueScreening_quickprep_(96, 114, 96)_reducedValSize.h5\", 'r')\n",
    "val_h5 = h5py.File(\"/ritter/share/data/ADNI_HDF5/Splits_Eitel/val_AD_CN_2Yr15T_plus_UniqueScreening_quickprep_(96, 114, 96)_reducedValSize.h5\", 'r')\n",
    "holdout_h5 = h5py.File(\"/ritter/share/data/ADNI_HDF5/Splits_Eitel/holdout_AD_CN_2Yr15T_plus_UniqueScreening_quickprep_(96, 114, 96)_reducedValSize.h5\", 'r')"
   ]
  },
  {
   "cell_type": "code",
   "execution_count": null,
   "metadata": {
    "collapsed": true
   },
   "outputs": [],
   "source": [
    "X_train, y_train = train_h5['X'], train_h5['y']\n",
    "X_val, y_val = val_h5['X'], val_h5['y']\n",
    "X_holdout, y_holdout = holdout_h5['X'], holdout_h5['y']"
   ]
  },
  {
   "cell_type": "code",
   "execution_count": null,
   "metadata": {},
   "outputs": [],
   "source": [
    "new_ind, _ = train_test_split(np.arange(len(X_train)), train_size=0.2, random_state=42)"
   ]
  },
  {
   "cell_type": "code",
   "execution_count": null,
   "metadata": {
    "collapsed": true
   },
   "outputs": [],
   "source": [
    "train_sampler = SubsetRandomSampler(new_ind)"
   ]
  },
  {
   "cell_type": "code",
   "execution_count": null,
   "metadata": {
    "collapsed": true
   },
   "outputs": [],
   "source": [
    "# define dataset"
   ]
  },
  {
   "cell_type": "code",
   "execution_count": null,
   "metadata": {
    "collapsed": true
   },
   "outputs": [],
   "source": [
    "class ADNIDataset(Dataset):\n",
    "    def __init__(self, X, y, transform=None, target_transform=None, mask=None, z_factor=zoom, dtype=np.float32):\n",
    "        self.X = np.copy(X)\n",
    "        self.y = np.copy(y)\n",
    "        self.transform = transform\n",
    "        self.target_transform = target_transform\n",
    "        self.mask = mask\n",
    "        self.z_factor = zoom\n",
    "        self.dtype = dtype\n",
    "        \n",
    "    def __len__(self):\n",
    "        return len(self.X)\n",
    "    \n",
    "    def __getitem__(self, idx):\n",
    "        image = self.X[idx]\n",
    "        label = self.y[idx] >= 0.5\n",
    "        label = torch.FloatTensor([label])\n",
    "        \n",
    "        # normalize by max\n",
    "        image /= np.max(image)\n",
    "        \n",
    "        if self.transform:\n",
    "            image = self.transform(image)\n",
    "            \n",
    "        sample = {\"image\" : image,\n",
    "                 \"label\" : label}\n",
    "        return sample"
   ]
  },
  {
   "cell_type": "code",
   "execution_count": null,
   "metadata": {
    "collapsed": true
   },
   "outputs": [],
   "source": [
    "augmentations = [SagittalFlip(), SagittalTranslate(dist=(-2, 3))]"
   ]
  },
  {
   "cell_type": "code",
   "execution_count": null,
   "metadata": {
    "collapsed": true
   },
   "outputs": [],
   "source": [
    "if zero_one_normalize:\n",
    "    intensity = IntensityRescale(data_min=np.min(X_train), data_max=np.max(X_train)) # use the same min and max for all datasets\n",
    "    adni_data_train = ADNIDataset(X_train, y_train, transform=transforms.Compose(augmentations + [intensity, ToTensor()]), mask=mask, dtype=dtype)\n",
    "    adni_data_val = ADNIDataset(X_val, y_val, transform=transforms.Compose([intensity, ToTensor()]), mask=mask, dtype=dtype)\n",
    "    adni_data_test = ADNIDataset(X_holdout, y_holdout, transform=transforms.Compose([intensity, ToTensor()]), mask=mask, dtype=dtype)\n",
    "else:\n",
    "    adni_data_train = ADNIDataset(X_train, y_train, transform=transforms.Compose(augmentations + [ToTensor()]), mask=mask, dtype=dtype)\n",
    "    adni_data_val = ADNIDataset(X_val, y_val, transform=transforms.Compose([ToTensor()]), mask=mask, dtype=dtype)\n",
    "    adni_data_test = ADNIDataset(X_holdout, y_holdout, transform=transforms.Compose([ToTensor()]), mask=mask, dtype=dtype)"
   ]
  },
  {
   "cell_type": "code",
   "execution_count": null,
   "metadata": {},
   "outputs": [],
   "source": [
    "sample = adni_data_test[-1]\n",
    "img = sample[\"image\"]\n",
    "print(img.shape)\n",
    "plt.imshow(img[0][:,:,40], cmap='gray')"
   ]
  },
  {
   "cell_type": "markdown",
   "metadata": {},
   "source": [
    "# Define the classifier"
   ]
  },
  {
   "cell_type": "code",
   "execution_count": null,
   "metadata": {
    "collapsed": true
   },
   "outputs": [],
   "source": [
    "class SixtyFourNet(nn.Module):\n",
    "    def __init__(self, drp_rate=0.3):\n",
    "        super(SixtyFourNet, self).__init__()\n",
    "        self.drp_rate = drp_rate\n",
    "        self.dropout = nn.Dropout3d(p=self.drp_rate)\n",
    "        self.Conv_1 = nn.Conv3d(1, 64, kernel_size=3, stride=1, padding=0)\n",
    "        self.pool_1 = nn.MaxPool3d(kernel_size=3, stride=3, padding=0)\n",
    "        self.Conv_2 = nn.Conv3d(64, 64, kernel_size=3, stride=1, padding=0)\n",
    "        self.pool_2 = nn.MaxPool3d(kernel_size=3, stride=2, padding=0)\n",
    "        self.Conv_3 = nn.Conv3d(64, 64, kernel_size=3, stride=1, padding=0)\n",
    "        self.Conv_4 = nn.Conv3d(64, 64, kernel_size=3, stride=1, padding=0)\n",
    "        self.Conv_5 = nn.Conv3d(64, 36, kernel_size=3, stride=1, padding=0)\n",
    "        self.pool_4 = nn.MaxPool3d(kernel_size=4, stride=2, padding=0)\n",
    "        \n",
    "        self.classifier_scratch = nn.Sequential(\n",
    "            nn.Linear(1296, 80),\n",
    "            nn.Linear(80, 1)\n",
    "        )\n",
    "\n",
    "    def encode(self, x, print_size=False):\n",
    "        if print_size:\n",
    "            print(x.shape)\n",
    "        x = F.elu(self.Conv_1(x))\n",
    "        h = self.dropout(self.pool_1(x))\n",
    "        x = F.elu(self.Conv_2(h))\n",
    "        if print_size:\n",
    "            print(x.shape)\n",
    "        h = self.dropout(self.pool_2(x))\n",
    "        x = F.elu(self.Conv_3(h))\n",
    "        if print_size:\n",
    "            print(x.shape)\n",
    "        x = F.elu(self.Conv_4(x))\n",
    "        if print_size:\n",
    "            print(x.shape)\n",
    "        x = F.elu(self.Conv_5(x))\n",
    "        if print_size:\n",
    "            print(x.shape)\n",
    "        h = self.dropout(self.pool_4(x))\n",
    "        if print_size:\n",
    "            print(h.shape)\n",
    "        \n",
    "        return h\n",
    "\n",
    "    def forward(self, x):\n",
    "        print_size = False\n",
    "        x = self.encode(x, print_size=print_size)\n",
    "        x = self.flatten(x)\n",
    "        x = self.classifier_scratch(x)\n",
    "        return x\n",
    "    \n",
    "    def flatten(self, x):\n",
    "        return x.view(x.size(0), -1)"
   ]
  },
  {
   "cell_type": "code",
   "execution_count": null,
   "metadata": {
    "collapsed": true
   },
   "outputs": [],
   "source": [
    "if multi_gpus is None:\n",
    "    net = SixtyFourNet().cuda(gpu)\n",
    "else:\n",
    "    net = torch.nn.DataParallel(SixtyFourNet(), device_ids=multi_gpus).cuda(gpu)"
   ]
  },
  {
   "cell_type": "code",
   "execution_count": null,
   "metadata": {},
   "outputs": [],
   "source": [
    "print(net)"
   ]
  },
  {
   "cell_type": "code",
   "execution_count": null,
   "metadata": {},
   "outputs": [],
   "source": [
    "print(\"Trainable model parameters: {}\".format(count_parameters(net)))"
   ]
  },
  {
   "cell_type": "markdown",
   "metadata": {},
   "source": [
    "# Training"
   ]
  },
  {
   "cell_type": "code",
   "execution_count": 21,
   "metadata": {
    "collapsed": true
   },
   "outputs": [],
   "source": [
    "def run(\n",
    "    net,\n",
    "    data,\n",
    "    shape,\n",
    "    callbacks=[],\n",
    "    augmentations=[],\n",
    "    masked=False,\n",
    "    metrics=[],\n",
    "    k_folds=None,\n",
    "    b=4,\n",
    "    num_epochs=35,\n",
    "    retain_metric=None\n",
    "):      \n",
    "   \n",
    "    fold_metric = []\n",
    "    best_metric = []\n",
    "    models = []\n",
    "    fold = 0\n",
    "    initial_prepend = None\n",
    "    \n",
    "    for trial in range(10):\n",
    "        print(\"Starting trial {}\".format(trial))\n",
    "\n",
    "        # add current fold number to model checkpoint path\n",
    "        if callbacks is not None:\n",
    "            for idx, callback in enumerate(callbacks):\n",
    "                if isinstance(callback, ModelCheckpoint):\n",
    "                    if initial_prepend is None:\n",
    "                        initial_prepend = callbacks[idx].prepend\n",
    "                    callbacks[idx].prepend = initial_prepend + \"cv_fold_{}_\".format(fold)\n",
    "        fold += 1\n",
    "\n",
    "        # restart model\n",
    "        del net\n",
    "        net = SixtyFourNet().cuda(gpu)\n",
    "        \n",
    "        # reset hyperparameters\n",
    "        lr = 1e-4\n",
    "        wd = 1e-4\n",
    "        criterion = nn.BCEWithLogitsLoss().cuda(gpu)\n",
    "        optimizer = optim.Adam(net.parameters(), lr=lr, weight_decay=wd)\n",
    "\n",
    "        train_loader = DataLoader(\n",
    "            adni_data_train, batch_size=b, num_workers=4, sampler=train_sampler\n",
    "        )\n",
    "        val_loader = DataLoader(\n",
    "            adni_data_val, batch_size=1, num_workers=1, shuffle=True\n",
    "        )\n",
    "\n",
    "        sample = next(iter(train_loader))\n",
    "        img = sample[\"image\"][0]\n",
    "        lbl = sample[\"label\"][0]\n",
    "        print(img.shape)\n",
    "        print(len(train_loader))\n",
    "        plt.imshow(img.squeeze()[:,:,48], cmap='gray')\n",
    "        plt.title(lbl.item())\n",
    "        plt.show()\n",
    "        trainer = Trainer(\n",
    "            net,\n",
    "            criterion,\n",
    "            optimizer,\n",
    "            metrics=metrics,\n",
    "            callbacks=callbacks,\n",
    "            device=gpu\n",
    "        )\n",
    "        # train model and store results\n",
    "        net, report = trainer.train_model(\n",
    "            train_loader,\n",
    "            val_loader,\n",
    "            num_epochs=num_epochs,\n",
    "            show_train_steps=10,\n",
    "            show_validation_epochs=1,\n",
    "        )\n",
    "        # append validation score of the retain metric\n",
    "        if isinstance(retain_metric, str):\n",
    "            fold_metric.append(report[\"val_metrics\"][retain_metric][-1])\n",
    "            best_metric.append(np.max(report[\"val_metrics\"][retain_metric]))\n",
    "        else:\n",
    "            fold_metric.append(report[\"val_metrics\"][retain_metric.__name__][-1])\n",
    "            best_metric.append(np.max(report[\"val_metrics\"][retain_metric.__name__]))\n",
    "\n",
    "        models.append(net)\n",
    "        print(\"Finished fold.\")\n",
    "\n",
    "        # visualize result\n",
    "        trainer.visualize_training(report, metrics)\n",
    "        trainer.evaluate_model(val_loader, gpu)\n",
    "\n",
    "    print(\"################################\")\n",
    "    print(\"################################\")\n",
    "    print(\"All accuracies: {}\".format(fold_metric))\n",
    "    print(\"Best accuracies: {}\".format(best_metric))\n",
    "    print(\"Best accuracies mean: {} All :{}\".format(np.mean(best_metric), best_metric))\n",
    "    return fold_metric, models\n"
   ]
  },
  {
   "cell_type": "code",
   "execution_count": 26,
   "metadata": {
    "collapsed": true
   },
   "outputs": [],
   "source": [
    "num_epochs = 200\n",
    "min_iters = 3\n",
    "ignore_epochs = 65\n",
    "normalize = False\n",
    "retain_metric = balanced_accuracy\n",
    "metrics = [accuracy_score, balanced_accuracy, auc_score]"
   ]
  },
  {
   "cell_type": "code",
   "execution_count": 27,
   "metadata": {
    "collapsed": true
   },
   "outputs": [],
   "source": [
    "r = 0"
   ]
  },
  {
   "cell_type": "code",
   "execution_count": 28,
   "metadata": {
    "collapsed": true
   },
   "outputs": [],
   "source": [
    "output_dir = \"/ritter/share/projects/Methods/Eitel_local_filter/experiments_submission/models/ADNI/20_percent/baseline/\"\n",
    "callbacks = [EarlyStopping(patience=12, ignore_before=ignore_epochs, retain_metric=\"loss\", mode='min'),\n",
    "             ModelCheckpoint(path=output_dir,\n",
    "                             prepend=\"repeat_{}\".format(r),\n",
    "                             store_best=True,\n",
    "                             ignore_before=ignore_epochs,\n",
    "                             retain_metric=retain_metric)]"
   ]
  },
  {
   "cell_type": "code",
   "execution_count": 25,
   "metadata": {
    "scrolled": true
   },
   "outputs": [
    {
     "name": "stdout",
     "output_type": "stream",
     "text": [
      "Starting trial 0\n",
      "torch.Size([1, 96, 114, 96])\n",
      "12\n"
     ]
    },
    {
     "data": {
      "image/png": "[encoded data removed]",
      "text/plain": [
       "<Figure size 432x288 with 1 Axes>"
      ]
     },
     "metadata": {},
     "output_type": "display_data"
    },
    {
     "ename": "RuntimeError",
     "evalue": "CUDA out of memory. Tried to allocate 2.83 GiB (GPU 0; 10.92 GiB total capacity; 2.88 GiB already allocated; 1.11 GiB free; 1.18 MiB cached)",
     "output_type": "error",
     "traceback": [
      "\u001b[0;31m---------------------------------------------------------------------------\u001b[0m",
      "\u001b[0;31mRuntimeError\u001b[0m                              Traceback (most recent call last)",
      "\u001b[0;32m<ipython-input-25-dee6b74b0b0b>\u001b[0m in \u001b[0;36m<module>\u001b[0;34m()\u001b[0m\n\u001b[1;32m      7\u001b[0m                   \u001b[0mnum_epochs\u001b[0m\u001b[0;34m=\u001b[0m\u001b[0mnum_epochs\u001b[0m\u001b[0;34m,\u001b[0m\u001b[0;34m\u001b[0m\u001b[0m\n\u001b[1;32m      8\u001b[0m                   \u001b[0mretain_metric\u001b[0m\u001b[0;34m=\u001b[0m\u001b[0mretain_metric\u001b[0m\u001b[0;34m,\u001b[0m\u001b[0;34m\u001b[0m\u001b[0m\n\u001b[0;32m----> 9\u001b[0;31m                   \u001b[0mb\u001b[0m\u001b[0;34m=\u001b[0m\u001b[0mb\u001b[0m\u001b[0;34m\u001b[0m\u001b[0m\n\u001b[0m\u001b[1;32m     10\u001b[0m                  )\n\u001b[1;32m     11\u001b[0m \u001b[0;34m\u001b[0m\u001b[0m\n",
      "\u001b[0;32m<ipython-input-21-62be67bc69dd>\u001b[0m in \u001b[0;36mrun\u001b[0;34m(net, data, shape, callbacks, augmentations, masked, metrics, k_folds, b, num_epochs, retain_metric)\u001b[0m\n\u001b[1;32m     70\u001b[0m             \u001b[0mnum_epochs\u001b[0m\u001b[0;34m=\u001b[0m\u001b[0mnum_epochs\u001b[0m\u001b[0;34m,\u001b[0m\u001b[0;34m\u001b[0m\u001b[0m\n\u001b[1;32m     71\u001b[0m             \u001b[0mshow_train_steps\u001b[0m\u001b[0;34m=\u001b[0m\u001b[0;36m10\u001b[0m\u001b[0;34m,\u001b[0m\u001b[0;34m\u001b[0m\u001b[0m\n\u001b[0;32m---> 72\u001b[0;31m             \u001b[0mshow_validation_epochs\u001b[0m\u001b[0;34m=\u001b[0m\u001b[0;36m1\u001b[0m\u001b[0;34m,\u001b[0m\u001b[0;34m\u001b[0m\u001b[0m\n\u001b[0m\u001b[1;32m     73\u001b[0m         )\n\u001b[1;32m     74\u001b[0m         \u001b[0;31m# append validation score of the retain metric\u001b[0m\u001b[0;34m\u001b[0m\u001b[0;34m\u001b[0m\u001b[0m\n",
      "\u001b[0;32m/analysis/fabiane/phd/nitorch/nitorch/trainer.py\u001b[0m in \u001b[0;36mtrain_model\u001b[0;34m(self, train_loader, val_loader, inputs_key, labels_key, num_epochs, show_train_steps, show_validation_epochs)\u001b[0m\n\u001b[1;32m    152\u001b[0m                         )\n\u001b[1;32m    153\u001b[0m                     \u001b[0;32melse\u001b[0m\u001b[0;34m:\u001b[0m\u001b[0;34m\u001b[0m\u001b[0m\n\u001b[0;32m--> 154\u001b[0;31m                         \u001b[0moutputs\u001b[0m \u001b[0;34m=\u001b[0m \u001b[0mself\u001b[0m\u001b[0;34m.\u001b[0m\u001b[0mmodel\u001b[0m\u001b[0;34m(\u001b[0m\u001b[0minputs\u001b[0m\u001b[0;34m)\u001b[0m\u001b[0;34m\u001b[0m\u001b[0m\n\u001b[0m\u001b[1;32m    155\u001b[0m \u001b[0;34m\u001b[0m\u001b[0m\n\u001b[1;32m    156\u001b[0m                     \u001b[0;32mif\u001b[0m \u001b[0mself\u001b[0m\u001b[0;34m.\u001b[0m\u001b[0mprediction_type\u001b[0m \u001b[0;34m==\u001b[0m \u001b[0;34m\"classification\"\u001b[0m\u001b[0;34m:\u001b[0m\u001b[0;34m\u001b[0m\u001b[0m\n",
      "\u001b[0;32m~/anaconda2/envs/mort1/lib/python3.6/site-packages/torch/nn/modules/module.py\u001b[0m in \u001b[0;36m__call__\u001b[0;34m(self, *input, **kwargs)\u001b[0m\n\u001b[1;32m    487\u001b[0m             \u001b[0mresult\u001b[0m \u001b[0;34m=\u001b[0m \u001b[0mself\u001b[0m\u001b[0;34m.\u001b[0m\u001b[0m_slow_forward\u001b[0m\u001b[0;34m(\u001b[0m\u001b[0;34m*\u001b[0m\u001b[0minput\u001b[0m\u001b[0;34m,\u001b[0m \u001b[0;34m**\u001b[0m\u001b[0mkwargs\u001b[0m\u001b[0;34m)\u001b[0m\u001b[0;34m\u001b[0m\u001b[0m\n\u001b[1;32m    488\u001b[0m         \u001b[0;32melse\u001b[0m\u001b[0;34m:\u001b[0m\u001b[0;34m\u001b[0m\u001b[0m\n\u001b[0;32m--> 489\u001b[0;31m             \u001b[0mresult\u001b[0m \u001b[0;34m=\u001b[0m \u001b[0mself\u001b[0m\u001b[0;34m.\u001b[0m\u001b[0mforward\u001b[0m\u001b[0;34m(\u001b[0m\u001b[0;34m*\u001b[0m\u001b[0minput\u001b[0m\u001b[0;34m,\u001b[0m \u001b[0;34m**\u001b[0m\u001b[0mkwargs\u001b[0m\u001b[0;34m)\u001b[0m\u001b[0;34m\u001b[0m\u001b[0m\n\u001b[0m\u001b[1;32m    490\u001b[0m         \u001b[0;32mfor\u001b[0m \u001b[0mhook\u001b[0m \u001b[0;32min\u001b[0m \u001b[0mself\u001b[0m\u001b[0;34m.\u001b[0m\u001b[0m_forward_hooks\u001b[0m\u001b[0;34m.\u001b[0m\u001b[0mvalues\u001b[0m\u001b[0;34m(\u001b[0m\u001b[0;34m)\u001b[0m\u001b[0;34m:\u001b[0m\u001b[0;34m\u001b[0m\u001b[0m\n\u001b[1;32m    491\u001b[0m             \u001b[0mhook_result\u001b[0m \u001b[0;34m=\u001b[0m \u001b[0mhook\u001b[0m\u001b[0;34m(\u001b[0m\u001b[0mself\u001b[0m\u001b[0;34m,\u001b[0m \u001b[0minput\u001b[0m\u001b[0;34m,\u001b[0m \u001b[0mresult\u001b[0m\u001b[0;34m)\u001b[0m\u001b[0;34m\u001b[0m\u001b[0m\n",
      "\u001b[0;32m<ipython-input-17-dae48d832642>\u001b[0m in \u001b[0;36mforward\u001b[0;34m(self, x)\u001b[0m\n\u001b[1;32m     44\u001b[0m     \u001b[0;32mdef\u001b[0m \u001b[0mforward\u001b[0m\u001b[0;34m(\u001b[0m\u001b[0mself\u001b[0m\u001b[0;34m,\u001b[0m \u001b[0mx\u001b[0m\u001b[0;34m)\u001b[0m\u001b[0;34m:\u001b[0m\u001b[0;34m\u001b[0m\u001b[0m\n\u001b[1;32m     45\u001b[0m         \u001b[0mprint_size\u001b[0m \u001b[0;34m=\u001b[0m \u001b[0;32mFalse\u001b[0m\u001b[0;34m\u001b[0m\u001b[0m\n\u001b[0;32m---> 46\u001b[0;31m         \u001b[0mx\u001b[0m \u001b[0;34m=\u001b[0m \u001b[0mself\u001b[0m\u001b[0;34m.\u001b[0m\u001b[0mencode\u001b[0m\u001b[0;34m(\u001b[0m\u001b[0mx\u001b[0m\u001b[0;34m,\u001b[0m \u001b[0mprint_size\u001b[0m\u001b[0;34m=\u001b[0m\u001b[0mprint_size\u001b[0m\u001b[0;34m)\u001b[0m\u001b[0;34m\u001b[0m\u001b[0m\n\u001b[0m\u001b[1;32m     47\u001b[0m         \u001b[0mx\u001b[0m \u001b[0;34m=\u001b[0m \u001b[0mself\u001b[0m\u001b[0;34m.\u001b[0m\u001b[0mflatten\u001b[0m\u001b[0;34m(\u001b[0m\u001b[0mx\u001b[0m\u001b[0;34m)\u001b[0m\u001b[0;34m\u001b[0m\u001b[0m\n\u001b[1;32m     48\u001b[0m         \u001b[0mx\u001b[0m \u001b[0;34m=\u001b[0m \u001b[0mself\u001b[0m\u001b[0;34m.\u001b[0m\u001b[0mclassifier_scratch\u001b[0m\u001b[0;34m(\u001b[0m\u001b[0mx\u001b[0m\u001b[0;34m)\u001b[0m\u001b[0;34m\u001b[0m\u001b[0m\n",
      "\u001b[0;32m<ipython-input-17-dae48d832642>\u001b[0m in \u001b[0;36mencode\u001b[0;34m(self, x, print_size)\u001b[0m\n\u001b[1;32m     21\u001b[0m         \u001b[0;32mif\u001b[0m \u001b[0mprint_size\u001b[0m\u001b[0;34m:\u001b[0m\u001b[0;34m\u001b[0m\u001b[0m\n\u001b[1;32m     22\u001b[0m             \u001b[0mprint\u001b[0m\u001b[0;34m(\u001b[0m\u001b[0mx\u001b[0m\u001b[0;34m.\u001b[0m\u001b[0mshape\u001b[0m\u001b[0;34m)\u001b[0m\u001b[0;34m\u001b[0m\u001b[0m\n\u001b[0;32m---> 23\u001b[0;31m         \u001b[0mx\u001b[0m \u001b[0;34m=\u001b[0m \u001b[0mF\u001b[0m\u001b[0;34m.\u001b[0m\u001b[0melu\u001b[0m\u001b[0;34m(\u001b[0m\u001b[0mself\u001b[0m\u001b[0;34m.\u001b[0m\u001b[0mConv_1\u001b[0m\u001b[0;34m(\u001b[0m\u001b[0mx\u001b[0m\u001b[0;34m)\u001b[0m\u001b[0;34m)\u001b[0m\u001b[0;34m\u001b[0m\u001b[0m\n\u001b[0m\u001b[1;32m     24\u001b[0m         \u001b[0mh\u001b[0m \u001b[0;34m=\u001b[0m \u001b[0mself\u001b[0m\u001b[0;34m.\u001b[0m\u001b[0mdropout\u001b[0m\u001b[0;34m(\u001b[0m\u001b[0mself\u001b[0m\u001b[0;34m.\u001b[0m\u001b[0mpool_1\u001b[0m\u001b[0;34m(\u001b[0m\u001b[0mx\u001b[0m\u001b[0;34m)\u001b[0m\u001b[0;34m)\u001b[0m\u001b[0;34m\u001b[0m\u001b[0m\n\u001b[1;32m     25\u001b[0m         \u001b[0mx\u001b[0m \u001b[0;34m=\u001b[0m \u001b[0mF\u001b[0m\u001b[0;34m.\u001b[0m\u001b[0melu\u001b[0m\u001b[0;34m(\u001b[0m\u001b[0mself\u001b[0m\u001b[0;34m.\u001b[0m\u001b[0mConv_2\u001b[0m\u001b[0;34m(\u001b[0m\u001b[0mh\u001b[0m\u001b[0;34m)\u001b[0m\u001b[0;34m)\u001b[0m\u001b[0;34m\u001b[0m\u001b[0m\n",
      "\u001b[0;32m~/anaconda2/envs/mort1/lib/python3.6/site-packages/torch/nn/functional.py\u001b[0m in \u001b[0;36melu\u001b[0;34m(input, alpha, inplace)\u001b[0m\n\u001b[1;32m    942\u001b[0m         \u001b[0mresult\u001b[0m \u001b[0;34m=\u001b[0m \u001b[0mtorch\u001b[0m\u001b[0;34m.\u001b[0m\u001b[0m_C\u001b[0m\u001b[0;34m.\u001b[0m\u001b[0m_nn\u001b[0m\u001b[0;34m.\u001b[0m\u001b[0melu_\u001b[0m\u001b[0;34m(\u001b[0m\u001b[0minput\u001b[0m\u001b[0;34m,\u001b[0m \u001b[0malpha\u001b[0m\u001b[0;34m)\u001b[0m\u001b[0;34m\u001b[0m\u001b[0m\n\u001b[1;32m    943\u001b[0m     \u001b[0;32melse\u001b[0m\u001b[0;34m:\u001b[0m\u001b[0;34m\u001b[0m\u001b[0m\n\u001b[0;32m--> 944\u001b[0;31m         \u001b[0mresult\u001b[0m \u001b[0;34m=\u001b[0m \u001b[0mtorch\u001b[0m\u001b[0;34m.\u001b[0m\u001b[0m_C\u001b[0m\u001b[0;34m.\u001b[0m\u001b[0m_nn\u001b[0m\u001b[0;34m.\u001b[0m\u001b[0melu\u001b[0m\u001b[0;34m(\u001b[0m\u001b[0minput\u001b[0m\u001b[0;34m,\u001b[0m \u001b[0malpha\u001b[0m\u001b[0;34m)\u001b[0m\u001b[0;34m\u001b[0m\u001b[0m\n\u001b[0m\u001b[1;32m    945\u001b[0m     \u001b[0;32mreturn\u001b[0m \u001b[0mresult\u001b[0m\u001b[0;34m\u001b[0m\u001b[0m\n\u001b[1;32m    946\u001b[0m \u001b[0;34m\u001b[0m\u001b[0m\n",
      "\u001b[0;31mRuntimeError\u001b[0m: CUDA out of memory. Tried to allocate 2.83 GiB (GPU 0; 10.92 GiB total capacity; 2.88 GiB already allocated; 1.11 GiB free; 1.18 MiB cached)"
     ]
    }
   ],
   "source": [
    "fold_metric, models = run(net=net, data=adni_data_train,\n",
    "                  k_folds=-1,\n",
    "                  callbacks=callbacks,\n",
    "                  shape=-1,\n",
    "                  masked=False,\n",
    "                  metrics=metrics,\n",
    "                  num_epochs=num_epochs,\n",
    "                  retain_metric=retain_metric,\n",
    "                  b=b\n",
    "                 )\n",
    "\n",
    "print(np.mean(fold_metric))\n",
    "print(np.std(fold_metric))"
   ]
  },
  {
   "cell_type": "code",
   "execution_count": null,
   "metadata": {},
   "outputs": [],
   "source": [
    "5/0"
   ]
  },
  {
   "cell_type": "markdown",
   "metadata": {
    "collapsed": true
   },
   "source": [
    "# Start inference"
   ]
  },
  {
   "cell_type": "markdown",
   "metadata": {
    "collapsed": true
   },
   "source": [
    "### Using best model checkpoint for inference"
   ]
  },
  {
   "cell_type": "code",
   "execution_count": 29,
   "metadata": {
    "collapsed": true
   },
   "outputs": [],
   "source": [
    "test_loader = DataLoader(\n",
    "            adni_data_test, batch_size=1, num_workers=1, shuffle=False\n",
    ")"
   ]
  },
  {
   "cell_type": "code",
   "execution_count": 30,
   "metadata": {
    "collapsed": true
   },
   "outputs": [],
   "source": [
    "model_dirs = [os.path.join(output_dir,\"repeat_{}_cv_fold_{}_BEST_ITERATION.h5\".format(r, i)) for i in range(10)]"
   ]
  },
  {
   "cell_type": "code",
   "execution_count": 31,
   "metadata": {},
   "outputs": [
    {
     "name": "stdout",
     "output_type": "stream",
     "text": [
      "Fold 0\n",
      "Bal. accuracy 78.900 %\n",
      "ROC AUC Score 91.244 %\n",
      "Sensitivity 86.667 %\n",
      "Specificity 71.134 %\n",
      "Fold 1\n",
      "Bal. accuracy 76.997 %\n",
      "ROC AUC Score 84.454 %\n",
      "Sensitivity 65.333 %\n",
      "Specificity 88.660 %\n",
      "Fold 2\n",
      "Bal. accuracy 81.938 %\n",
      "ROC AUC Score 92.962 %\n",
      "Sensitivity 68.000 %\n",
      "Specificity 95.876 %\n",
      "Fold 3\n",
      "Bal. accuracy 78.687 %\n",
      "ROC AUC Score 90.048 %\n",
      "Sensitivity 89.333 %\n",
      "Specificity 68.041 %\n",
      "Fold 4\n",
      "Bal. accuracy 79.148 %\n",
      "ROC AUC Score 88.027 %\n",
      "Sensitivity 70.667 %\n",
      "Specificity 87.629 %\n",
      "Fold 5\n",
      "Bal. accuracy 79.567 %\n",
      "ROC AUC Score 91.588 %\n",
      "Sensitivity 88.000 %\n",
      "Specificity 71.134 %\n",
      "Fold 6\n",
      "Bal. accuracy 73.381 %\n",
      "ROC AUC Score 88.825 %\n",
      "Sensitivity 88.000 %\n",
      "Specificity 58.763 %\n",
      "Fold 7\n",
      "Bal. accuracy 85.485 %\n",
      "ROC AUC Score 92.976 %\n",
      "Sensitivity 72.000 %\n",
      "Specificity 98.969 %\n",
      "Fold 8\n",
      "Bal. accuracy 81.485 %\n",
      "ROC AUC Score 94.914 %\n",
      "Sensitivity 64.000 %\n",
      "Specificity 98.969 %\n",
      "Fold 9\n",
      "Bal. accuracy 81.512 %\n",
      "ROC AUC Score 89.993 %\n",
      "Sensitivity 73.333 %\n",
      "Specificity 89.691 %\n",
      "######## Final results ########\n",
      "    Bal Acc   ROC AUC  Sensitivity  Specificity\n",
      "0  0.789003  0.912440     0.866667     0.711340\n",
      "1  0.769966  0.844536     0.653333     0.886598\n",
      "2  0.819381  0.929622     0.680000     0.958763\n",
      "3  0.786873  0.900481     0.893333     0.680412\n",
      "4  0.791478  0.880275     0.706667     0.876289\n",
      "5  0.795670  0.915876     0.880000     0.711340\n",
      "6  0.733814  0.888247     0.880000     0.587629\n",
      "7  0.854845  0.929759     0.720000     0.989691\n",
      "8  0.814845  0.949141     0.640000     0.989691\n",
      "9  0.815120  0.899931     0.733333     0.896907\n",
      "Balanced accuracy mean 79.710 %\n",
      "ROC AUC mean 90.503 %\n",
      "Sensitivity mean 76.533 %\n",
      "Specificity mean 82.887 %\n"
     ]
    }
   ],
   "source": [
    "metrics = []\n",
    "lr = 1e-5\n",
    "wd = 1e-3\n",
    "criterion = nn.BCEWithLogitsLoss().cuda(gpu)\n",
    "optimizer = optim.Adam(net.parameters(), lr=lr, weight_decay=wd)\n",
    "    \n",
    "for fold, model_dir in enumerate(model_dirs):\n",
    "    print(\"Fold {}\".format(fold))\n",
    "\n",
    "    all_scores = []\n",
    "    all_preds = []\n",
    "    all_labels = []\n",
    "    \n",
    "    net = SixtyFourNet()\n",
    "    net.load_state_dict(torch.load(model_dir, map_location='cpu'))\n",
    "    net = net.cuda(gpu)\n",
    "    net.eval()\n",
    "    with torch.no_grad():\n",
    "        for sample in test_loader:\n",
    "            img = sample[\"image\"]\n",
    "            label = sample[\"label\"]\n",
    "            img = img.to(torch.device(\"cuda:\" + str(gpu)))\n",
    "            \n",
    "            output = net.forward(img)\n",
    "            score = torch.sigmoid(output)\n",
    "            pred = score >= 0.5\n",
    "            \n",
    "            all_scores.append(score.cpu().numpy().item())\n",
    "            all_preds.append(pred.cpu().numpy().item())\n",
    "            all_labels.append(label.numpy().item())\n",
    "    \n",
    "    balanced_acc = balanced_accuracy(all_labels, all_preds)\n",
    "    roc_score = roc_auc_score(all_labels, all_scores)\n",
    "    sens = sensitivity(all_labels, all_preds)\n",
    "    spec = specificity(all_labels, all_preds)\n",
    "    print(\"Bal. accuracy {:.3f} %\".format(balanced_acc*100))\n",
    "    print(\"ROC AUC Score {:.3f} %\".format(roc_score*100))\n",
    "    print(\"Sensitivity {:.3f} %\".format(sens*100))\n",
    "    print(\"Specificity {:.3f} %\".format(spec*100))\n",
    "    metrics.append([balanced_acc, roc_score, sens, spec])\n",
    "# reset network to training mode6\n",
    "net.train()\n",
    "print(\"######## Final results ########\")\n",
    "metrics_df = pd.DataFrame(metrics, columns=[\"Bal Acc\", \"ROC AUC\", \"Sensitivity\", \"Specificity\"])\n",
    "print(metrics_df)\n",
    "print(\"Balanced accuracy mean {:.3f} %\".format(np.mean(metrics_df[\"Bal Acc\"])*100))\n",
    "print(\"ROC AUC mean {:.3f} %\".format(np.mean(metrics_df[\"ROC AUC\"])*100))\n",
    "print(\"Sensitivity mean {:.3f} %\".format(np.mean(metrics_df[\"Sensitivity\"])*100))\n",
    "print(\"Specificity mean {:.3f} %\".format(np.mean(metrics_df[\"Specificity\"])*100))"
   ]
  }
 ],
 "metadata": {
  "kernelspec": {
   "display_name": "Python (mort1)",
   "language": "python",
   "name": "mort1"
  },
  "language_info": {
   "codemirror_mode": {
    "name": "ipython",
    "version": 3
   },
   "file_extension": ".py",
   "mimetype": "text/x-python",
   "name": "python",
   "nbconvert_exporter": "python",
   "pygments_lexer": "ipython3",
   "version": "3.6.5"
  }
 },
 "nbformat": 4,
 "nbformat_minor": 2
}
