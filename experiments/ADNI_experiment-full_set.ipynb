{
 "cells": [
  {
   "cell_type": "markdown",
   "metadata": {},
   "source": [
    "Use horizontal flip. Note: small batch size!"
   ]
  },
  {
   "cell_type": "markdown",
   "metadata": {},
   "source": [
    "Take sample of training dataset\n",
    "\n",
    "Architecture from MS"
   ]
  },
  {
   "cell_type": "markdown",
   "metadata": {},
   "source": [
    "### \\\\\\ Currently used ///"
   ]
  },
  {
   "cell_type": "code",
   "execution_count": 1,
   "metadata": {
    "collapsed": true
   },
   "outputs": [],
   "source": [
    "%matplotlib inline"
   ]
  },
  {
   "cell_type": "code",
   "execution_count": 2,
   "metadata": {
    "collapsed": true
   },
   "outputs": [],
   "source": [
    "%load_ext autoreload\n",
    "%autoreload 2"
   ]
  },
  {
   "cell_type": "code",
   "execution_count": 3,
   "metadata": {
    "collapsed": true
   },
   "outputs": [],
   "source": [
    "import sys\n",
    "sys.path.insert(0,\"/analysis/fabiane/phd/nitorch/\")\n",
    "sys.path.insert(0,\"/analysis/fabiane/phd/patch_individual_filters/\")"
   ]
  },
  {
   "cell_type": "code",
   "execution_count": 4,
   "metadata": {},
   "outputs": [
    {
     "name": "stderr",
     "output_type": "stream",
     "text": [
      "/home/fabiane/anaconda2/envs/mort1/lib/python3.6/site-packages/h5py/__init__.py:36: FutureWarning: Conversion of the second argument of issubdtype from `float` to `np.floating` is deprecated. In future, it will be treated as `np.float64 == np.dtype(float).type`.\n",
      "  from ._conv import register_converters as _register_converters\n"
     ]
    }
   ],
   "source": [
    "import os\n",
    "import glob\n",
    "import h5py\n",
    "import time\n",
    "import matplotlib.pyplot as plt\n",
    "import numpy as np\n",
    "import pandas as pd\n",
    "\n",
    "# pytorch\n",
    "import torch\n",
    "import torch.nn as nn\n",
    "import torch.nn.functional as F\n",
    "import torch.optim as optim\n",
    "from torchvision import transforms\n",
    "from torch.utils.data import Dataset, DataLoader, SubsetRandomSampler\n",
    "from torch.nn.modules.module import Module\n",
    "\n",
    "# sklearn functions\n",
    "from sklearn.metrics import accuracy_score, roc_curve, auc\n",
    "from sklearn.model_selection import train_test_split, KFold, GroupShuffleSplit\n",
    "\n",
    "# load functions from nitorch\n",
    "\n",
    "from nitorch.data import load_nifti\n",
    "from nitorch.transforms import  ToTensor, SagittalTranslate, SagittalFlip, \\\n",
    "                                AxialTranslate, normalization_factors, Normalize, \\\n",
    "                                IntensityRescale\n",
    "from nitorch.callbacks import EarlyStopping, ModelCheckpoint\n",
    "from nitorch.trainer import Trainer\n",
    "from nitorch.initialization import weights_init\n",
    "from nitorch.metrics import balanced_accuracy, sensitivity, specificity, auc_score\n",
    "from nitorch.utils import count_parameters"
   ]
  },
  {
   "cell_type": "code",
   "execution_count": 5,
   "metadata": {},
   "outputs": [],
   "source": [
    "from pif import PatchIndividualFilters3D"
   ]
  },
  {
   "cell_type": "code",
   "execution_count": 6,
   "metadata": {},
   "outputs": [
    {
     "data": {
      "text/plain": [
       "'1.0.0'"
      ]
     },
     "execution_count": 6,
     "metadata": {},
     "output_type": "execute_result"
    }
   ],
   "source": [
    "torch.__version__"
   ]
  },
  {
   "cell_type": "code",
   "execution_count": 7,
   "metadata": {
    "collapsed": true
   },
   "outputs": [],
   "source": [
    "# use multiple GPUs\n",
    "gpu = 6\n",
    "multi_gpus = None#[0, 1, 2]\n",
    "b = 6\n",
    "zero_one_normalize = False\n",
    "zoom = 0.525\n",
    "\n",
    "dtype = np.float64"
   ]
  },
  {
   "cell_type": "code",
   "execution_count": 8,
   "metadata": {
    "collapsed": true
   },
   "outputs": [],
   "source": [
    "# load mask\n",
    "mask = None"
   ]
  },
  {
   "cell_type": "code",
   "execution_count": 9,
   "metadata": {
    "collapsed": true
   },
   "outputs": [],
   "source": [
    "train_h5 = h5py.File(\"/analysis/ritter/data/ADNI_HDF5/Splits_Eitel/train_AD_CN_2Yr15T_plus_UniqueScreening_quickprep_(96, 114, 96)_reducedValSize.h5\", 'r')\n",
    "val_h5 = h5py.File(\"/analysis/ritter/data/ADNI_HDF5/Splits_Eitel/val_AD_CN_2Yr15T_plus_UniqueScreening_quickprep_(96, 114, 96)_reducedValSize.h5\", 'r')\n",
    "holdout_h5 = h5py.File(\"/analysis/ritter/data/ADNI_HDF5/Splits_Eitel/holdout_AD_CN_2Yr15T_plus_UniqueScreening_quickprep_(96, 114, 96)_reducedValSize.h5\", 'r')"
   ]
  },
  {
   "cell_type": "code",
   "execution_count": 10,
   "metadata": {
    "collapsed": true
   },
   "outputs": [],
   "source": [
    "X_train, y_train = train_h5['X'], train_h5['y']\n",
    "X_val, y_val = val_h5['X'], val_h5['y']\n",
    "X_holdout, y_holdout = holdout_h5['X'], holdout_h5['y']"
   ]
  },
  {
   "cell_type": "code",
   "execution_count": 11,
   "metadata": {
    "collapsed": true
   },
   "outputs": [],
   "source": [
    "#new_ind, _ = train_test_split(np.arange(len(X_train)), train_size=1.)\n",
    "new_ind = np.arange(len(X_train))"
   ]
  },
  {
   "cell_type": "code",
   "execution_count": 12,
   "metadata": {},
   "outputs": [
    {
     "name": "stdout",
     "output_type": "stream",
     "text": [
      "697\n"
     ]
    }
   ],
   "source": [
    "print(len(new_ind))"
   ]
  },
  {
   "cell_type": "code",
   "execution_count": 13,
   "metadata": {
    "collapsed": true
   },
   "outputs": [],
   "source": [
    "train_sampler = SubsetRandomSampler(new_ind)"
   ]
  },
  {
   "cell_type": "code",
   "execution_count": 14,
   "metadata": {
    "collapsed": true
   },
   "outputs": [],
   "source": [
    "# convert data to numpy arrays\n",
    "#X_train = np.array(X_train, dtype=dtype)\n",
    "#y_train = np.array(y_train)\n",
    "\n",
    "#X_holdout = np.array(X_holdout, dtype=dtype)\n",
    "#y_holdout = np.array(y_holdout)"
   ]
  },
  {
   "cell_type": "code",
   "execution_count": 15,
   "metadata": {
    "collapsed": true
   },
   "outputs": [],
   "source": [
    "class ADNIDataset(Dataset):\n",
    "    def __init__(self, X, y, transform=None, target_transform=None, mask=None, z_factor=zoom, dtype=np.float32):\n",
    "        #if np.isnan(X).any() == True:\n",
    "        #    print(\"removed nan\")\n",
    "        #    X[np.isnan(X)] = 0.\n",
    "        self.X = np.copy(X)\n",
    "        self.y = np.copy(y)\n",
    "        self.transform = transform\n",
    "        self.target_transform = target_transform\n",
    "        self.mask = mask\n",
    "        self.z_factor = zoom\n",
    "        self.dtype = dtype\n",
    "        \n",
    "    def __len__(self):\n",
    "        return len(self.X)\n",
    "    \n",
    "    def __getitem__(self, idx):\n",
    "        image = self.X[idx]\n",
    "        label = self.y[idx] >= 0.5\n",
    "        label = torch.FloatTensor([label])\n",
    "        \n",
    "        # normalize by max\n",
    "        image /= np.max(image)\n",
    "        \n",
    "        if self.transform:\n",
    "            image = self.transform(image)\n",
    "        #if self.target_transform:\n",
    "        #    label = self.target_transform(label)\n",
    "            \n",
    "        sample = {\"image\" : image,\n",
    "                 \"label\" : label}\n",
    "                 #\"idx\":idx}\n",
    "        return sample"
   ]
  },
  {
   "cell_type": "code",
   "execution_count": 16,
   "metadata": {
    "collapsed": true
   },
   "outputs": [],
   "source": [
    "if zero_one_normalize:\n",
    "    intensity = IntensityRescale()\n",
    "    adni_data_train = ADNIDataset(X_train, y_train, transform=transforms.Compose([SagittalFlip(), intensity, ToTensor()]), mask=mask, dtype=dtype)\n",
    "    adni_data_val = ADNIDataset(X_val, y_val, transform=transforms.Compose([SagittalFlip(), intensity, ToTensor()]), mask=mask, dtype=dtype)\n",
    "    adni_data_test = ADNIDataset(X_holdout, y_holdout, transform=transforms.Compose([SagittalFlip(), intensity, ToTensor()]), mask=mask, dtype=dtype)\n",
    "else:\n",
    "    adni_data_train = ADNIDataset(X_train, y_train, transform=transforms.Compose([SagittalFlip(), ToTensor()]), mask=mask, dtype=dtype)\n",
    "    adni_data_val = ADNIDataset(X_val, y_val, transform=transforms.Compose([SagittalFlip(), ToTensor()]), mask=mask, dtype=dtype)\n",
    "    adni_data_test = ADNIDataset(X_holdout, y_holdout, transform=transforms.Compose([SagittalFlip(), ToTensor()]), mask=mask, dtype=dtype)"
   ]
  },
  {
   "cell_type": "code",
   "execution_count": 17,
   "metadata": {},
   "outputs": [
    {
     "name": "stdout",
     "output_type": "stream",
     "text": [
      "torch.Size([1, 96, 114, 96])\n"
     ]
    },
    {
     "data": {
      "text/plain": [
       "<matplotlib.image.AxesImage at 0x7fdb4ac07240>"
      ]
     },
     "execution_count": 17,
     "metadata": {},
     "output_type": "execute_result"
    },
    {
     "data": {
      "image/png": "[encoded data removed]",
      "text/plain": [
       "<Figure size 432x288 with 1 Axes>"
      ]
     },
     "metadata": {},
     "output_type": "display_data"
    }
   ],
   "source": [
    "sample = adni_data_test[-1]\n",
    "img = sample[\"image\"]\n",
    "print(img.shape)\n",
    "plt.imshow(img[0][:,:,40], cmap='gray')"
   ]
  },
  {
   "cell_type": "markdown",
   "metadata": {},
   "source": [
    "# Define the classifier"
   ]
  },
  {
   "cell_type": "code",
   "execution_count": 18,
   "metadata": {
    "collapsed": true
   },
   "outputs": [],
   "source": [
    "class SixtyFourNet(nn.Module):\n",
    "    def __init__(self, drp_rate=0.3):\n",
    "        super(SixtyFourNet, self).__init__()\n",
    "        self.drp_rate = drp_rate\n",
    "        self.drop = nn.Dropout3d(p=self.drp_rate)\n",
    "        self.Conv_1 = nn.Conv3d(1, 64, kernel_size=3, stride=1, padding=0)\n",
    "        self.pool_1 = nn.MaxPool3d(kernel_size=3, stride=3, padding=0)\n",
    "        self.Conv_2 = nn.Conv3d(64, 64, kernel_size=3, stride=1, padding=0)\n",
    "        self.pool_2 = nn.MaxPool3d(kernel_size=3, stride=2, padding=0)\n",
    "        self.Conv_3 = nn.Conv3d(64, 64, kernel_size=3, stride=1, padding=0)\n",
    "        self.Conv_4 = nn.Conv3d(64, 64, kernel_size=3, stride=1, padding=0)\n",
    "        self.pool_4 = nn.MaxPool3d(kernel_size=3, stride=3, padding=0)\n",
    "\n",
    "        self.pif = PatchIndividualFilters3D([10,13,10],\n",
    "                                            filter_shape=(3,3,3),\n",
    "                                            patch_shape=(5,5,5),\n",
    "                                            num_local_filter_in=64,\n",
    "                                            num_local_filter_out=3,\n",
    "                                            overlap=1,\n",
    "                                            reassemble=False,\n",
    "                                            debug=False)\n",
    "\n",
    "        # 4, 64, 1, 2, 1\n",
    "        self.classifier_scratch = nn.Sequential(\n",
    "            nn.Linear(1134, 100),\n",
    "            nn.Linear(100, 1)\n",
    "        )\n",
    "\n",
    "    def encode(self, x, print_size=False):\n",
    "        if print_size:\n",
    "            print(x.shape)\n",
    "        x = F.elu(self.Conv_1(x))\n",
    "        h = self.drop(self.pool_1(x))\n",
    "        x = F.elu(self.Conv_2(h))\n",
    "        if print_size:\n",
    "            print(x.shape)\n",
    "        h = self.drop(self.pool_2(x))\n",
    "        x = F.elu(self.Conv_3(h))\n",
    "        if print_size:\n",
    "            print(x.shape)\n",
    "        x = F.elu(self.Conv_4(x))\n",
    "        if print_size:\n",
    "            print(x.shape)\n",
    "        #h = F.dropout3d(self.pool_4(x), p=self.drp_rate)\n",
    "        #if print_size:\n",
    "        #    print(h.shape)\n",
    "    \n",
    "        h = F.elu(self.pif(x))\n",
    "    \n",
    "        return h\n",
    "\n",
    "    def forward(self, x):\n",
    "        print_size = False\n",
    "        x = self.encode(x, print_size=print_size)\n",
    "        x = self.flatten(x)\n",
    "        x = self.classifier_scratch(x)\n",
    "        return x\n",
    "    \n",
    "    def flatten(self, x):\n",
    "        return x.view(x.size(0), -1)"
   ]
  },
  {
   "cell_type": "code",
   "execution_count": 19,
   "metadata": {
    "collapsed": true
   },
   "outputs": [],
   "source": [
    "if multi_gpus is None:\n",
    "    net = SixtyFourNet().cuda(gpu)\n",
    "else:\n",
    "    net = torch.nn.DataParallel(SixtyFourNet(), device_ids=multi_gpus).cuda(gpu)"
   ]
  },
  {
   "cell_type": "code",
   "execution_count": 20,
   "metadata": {},
   "outputs": [
    {
     "name": "stdout",
     "output_type": "stream",
     "text": [
      "SixtyFourNet(\n",
      "  (drop): Dropout3d(p=0.3)\n",
      "  (Conv_1): Conv3d(1, 64, kernel_size=(3, 3, 3), stride=(1, 1, 1))\n",
      "  (pool_1): MaxPool3d(kernel_size=3, stride=3, padding=0, dilation=1, ceil_mode=False)\n",
      "  (Conv_2): Conv3d(64, 64, kernel_size=(3, 3, 3), stride=(1, 1, 1))\n",
      "  (pool_2): MaxPool3d(kernel_size=3, stride=2, padding=0, dilation=1, ceil_mode=False)\n",
      "  (Conv_3): Conv3d(64, 64, kernel_size=(3, 3, 3), stride=(1, 1, 1))\n",
      "  (Conv_4): Conv3d(64, 64, kernel_size=(3, 3, 3), stride=(1, 1, 1))\n",
      "  (pool_4): MaxPool3d(kernel_size=3, stride=3, padding=0, dilation=1, ceil_mode=False)\n",
      "  (pif): PatchIndividualFilters3D(\n",
      "    (conv_0): Conv3d(64, 3, kernel_size=(3, 3, 3), stride=(1, 1, 1))\n",
      "    (conv_1): Conv3d(64, 3, kernel_size=(3, 3, 3), stride=(1, 1, 1))\n",
      "    (conv_2): Conv3d(64, 3, kernel_size=(3, 3, 3), stride=(1, 1, 1))\n",
      "    (conv_3): Conv3d(64, 3, kernel_size=(3, 3, 3), stride=(1, 1, 1))\n",
      "    (conv_4): Conv3d(64, 3, kernel_size=(3, 3, 3), stride=(1, 1, 1))\n",
      "    (conv_5): Conv3d(64, 3, kernel_size=(3, 3, 3), stride=(1, 1, 1))\n",
      "    (conv_6): Conv3d(64, 3, kernel_size=(3, 3, 3), stride=(1, 1, 1))\n",
      "    (conv_7): Conv3d(64, 3, kernel_size=(3, 3, 3), stride=(1, 1, 1))\n",
      "    (conv_8): Conv3d(64, 3, kernel_size=(3, 3, 3), stride=(1, 1, 1))\n",
      "    (conv_9): Conv3d(64, 3, kernel_size=(3, 3, 3), stride=(1, 1, 1))\n",
      "    (conv_10): Conv3d(64, 3, kernel_size=(3, 3, 3), stride=(1, 1, 1))\n",
      "    (conv_11): Conv3d(64, 3, kernel_size=(3, 3, 3), stride=(1, 1, 1))\n",
      "    (conv_ov_0): Conv3d(64, 3, kernel_size=(3, 3, 3), stride=(1, 1, 1))\n",
      "    (conv_ov_1): Conv3d(64, 3, kernel_size=(3, 3, 3), stride=(1, 1, 1))\n",
      "  )\n",
      "  (classifier_scratch): Sequential(\n",
      "    (0): Linear(in_features=1134, out_features=100, bias=True)\n",
      "    (1): Linear(in_features=100, out_features=1, bias=True)\n",
      "  )\n",
      ")\n"
     ]
    }
   ],
   "source": [
    "print(net)"
   ]
  },
  {
   "cell_type": "code",
   "execution_count": 21,
   "metadata": {},
   "outputs": [
    {
     "name": "stdout",
     "output_type": "stream",
     "text": [
      "Trainable model parameters: 519979\n"
     ]
    }
   ],
   "source": [
    "print(\"Trainable model parameters: {}\".format(count_parameters(net)))"
   ]
  },
  {
   "cell_type": "markdown",
   "metadata": {},
   "source": [
    "# Training"
   ]
  },
  {
   "cell_type": "code",
   "execution_count": 22,
   "metadata": {
    "collapsed": true
   },
   "outputs": [],
   "source": [
    "def run(\n",
    "    net,\n",
    "    data,\n",
    "    shape,\n",
    "    callbacks=[],\n",
    "    augmentations=[],\n",
    "    masked=False,\n",
    "    metrics=[],\n",
    "    k_folds=None,\n",
    "    b=4,\n",
    "    num_epochs=35,\n",
    "    retain_metric=None\n",
    "):      \n",
    "   \n",
    "    fold_metric = []\n",
    "    models = []\n",
    "    fold = 0\n",
    "    initial_prepend = None\n",
    "    \n",
    "    #for train_idx, val_idx in kf.split(data):#, df[\"label\"]):\n",
    "    for trial in range(10):\n",
    "        print(\"Starting trial {}\".format(trial))\n",
    "\n",
    "        # add current fold number to model checkpoint path\n",
    "        if callbacks is not None:\n",
    "            for idx, callback in enumerate(callbacks):\n",
    "                if isinstance(callback, ModelCheckpoint):\n",
    "                    if initial_prepend is None:\n",
    "                        initial_prepend = callbacks[idx].prepend\n",
    "                    callbacks[idx].prepend = initial_prepend + \"cv_fold_{}_\".format(fold)\n",
    "        fold += 1\n",
    "\n",
    "        # restart model\n",
    "        del net\n",
    "        net = SixtyFourNet().cuda(gpu)\n",
    "        \n",
    "        # reset hyperparameters\n",
    "        lr = 1e-4\n",
    "        wd = 1e-4\n",
    "        criterion = nn.BCEWithLogitsLoss().cuda(gpu)\n",
    "        optimizer = optim.Adam(net.parameters(), lr=lr, weight_decay=wd)\n",
    "        \n",
    "        #sched = optim.lr_scheduler.StepLR(optimizer, gamma=0.1, step_size=12)\n",
    "        #sched = optim.lr_scheduler.ReduceLROnPlateau(optimizer, mode=\"max\", factor=0.1, patience=5)\n",
    "\n",
    "        train_loader = DataLoader(\n",
    "            adni_data_train, batch_size=b, num_workers=4, sampler=train_sampler\n",
    "        )\n",
    "        val_loader = DataLoader(\n",
    "            adni_data_val, batch_size=1, num_workers=1, shuffle=True\n",
    "        )\n",
    "\n",
    "        sample = next(iter(train_loader))\n",
    "        img = sample[\"image\"][0]\n",
    "        lbl = sample[\"label\"][0]\n",
    "        print(img.shape)\n",
    "        print(len(train_loader))\n",
    "        plt.imshow(img.squeeze()[:,:,48], cmap='gray')\n",
    "        plt.title(lbl.item())\n",
    "        plt.show()\n",
    "        trainer = Trainer(\n",
    "            net,\n",
    "            criterion,\n",
    "            optimizer,\n",
    "            metrics=metrics,\n",
    "            callbacks=callbacks,\n",
    "            device=gpu,\n",
    "            #scheduler=sched,\n",
    "        )\n",
    "        # train model and store results\n",
    "        net, report = trainer.train_model(\n",
    "            train_loader,\n",
    "            val_loader,\n",
    "            num_epochs=num_epochs,\n",
    "            show_train_steps=20,\n",
    "            show_validation_epochs=1,\n",
    "        )\n",
    "        # append validation score of the retain metric\n",
    "        if isinstance(retain_metric, str):\n",
    "            fold_metric.append(report[\"val_metrics\"][retain_metric][-1])\n",
    "        else:\n",
    "            fold_metric.append(report[\"val_metrics\"][retain_metric.__name__][-1])\n",
    "\n",
    "        models.append(net)\n",
    "        print(\"Finished fold.\")\n",
    "\n",
    "        # visualize result\n",
    "        trainer.visualize_training(report, metrics)\n",
    "        trainer.evaluate_model(val_loader, gpu)\n",
    "\n",
    "    print(\"################################\")\n",
    "    print(\"################################\")\n",
    "    print(\"All accuracies: {}\".format(fold_metric))\n",
    "    return fold_metric, models\n"
   ]
  },
  {
   "cell_type": "code",
   "execution_count": 23,
   "metadata": {
    "collapsed": true
   },
   "outputs": [],
   "source": [
    "num_epochs = 200\n",
    "min_iters = 3\n",
    "ignore_epochs = 5\n",
    "normalize = False\n",
    "retain_metric = balanced_accuracy\n",
    "metrics = [accuracy_score, balanced_accuracy, auc_score]"
   ]
  },
  {
   "cell_type": "code",
   "execution_count": 24,
   "metadata": {
    "collapsed": true
   },
   "outputs": [],
   "source": [
    "r = 0"
   ]
  },
  {
   "cell_type": "code",
   "execution_count": 25,
   "metadata": {
    "collapsed": true
   },
   "outputs": [],
   "source": [
    "output_dir = \"/analysis/ritter/projects/Methods/Eitel_local_filter/experiments_submission/models/ADNI/full_set/experiment/\"\n",
    "callbacks = [EarlyStopping(patience=12, ignore_before=ignore_epochs, retain_metric=\"loss\", mode='min'),\n",
    "             ModelCheckpoint(path=output_dir,\n",
    "                             prepend=\"repeat_{}\".format(r),\n",
    "                             store_best=True,\n",
    "                             ignore_before=ignore_epochs,\n",
    "                             retain_metric=retain_metric)]"
   ]
  },
  {
   "cell_type": "code",
   "execution_count": null,
   "metadata": {
    "scrolled": true
   },
   "outputs": [
    {
     "name": "stdout",
     "output_type": "stream",
     "text": [
      "Starting trial 0\n",
      "torch.Size([1, 96, 114, 96])\n",
      "117\n"
     ]
    },
    {
     "data": {
      "image/png": "[encoded data removed]",
      "text/plain": [
       "<Figure size 432x288 with 1 Axes>"
      ]
     },
     "metadata": {},
     "output_type": "display_data"
    },
    {
     "name": "stdout",
     "output_type": "stream",
     "text": [
      "[0,    20] loss: 0.69091\n",
      "[0,    40] loss: 0.69675\n",
      "[0,    60] loss: 0.69469\n",
      "[0,    80] loss: 0.69775\n",
      "[0,   100] loss: 0.69798\n",
      "Time elapsed: 0h:0m:37s\n",
      "train accuracy_score: 50.93 %\n",
      "train balanced_accuracy: 50.05 %\n",
      "train auc_score: 50.05 %\n",
      "val accuracy_score: 40.00 %\n",
      "val balanced_accuracy: 50.00 %\n",
      "val auc_score: 50.00 %\n",
      "Val loss: 0.701939\n",
      "[1,    20] loss: 0.69804\n",
      "[1,    40] loss: 0.69947\n",
      "[1,    60] loss: 0.69393\n",
      "[1,    80] loss: 0.69054\n",
      "[1,   100] loss: 0.69022\n",
      "Time elapsed: 0h:1m:0s\n",
      "train accuracy_score: 51.22 %\n",
      "train balanced_accuracy: 50.40 %\n",
      "train auc_score: 50.40 %\n",
      "val accuracy_score: 60.00 %\n",
      "val balanced_accuracy: 51.25 %\n",
      "val auc_score: 51.25 %\n",
      "Val loss: 0.685621\n",
      "[2,    20] loss: 0.68690\n",
      "[2,    40] loss: 0.69196\n",
      "[2,    60] loss: 0.69303\n",
      "[2,    80] loss: 0.68710\n",
      "[2,   100] loss: 0.68499\n",
      "Time elapsed: 0h:1m:23s\n",
      "train accuracy_score: 54.95 %\n",
      "train balanced_accuracy: 54.28 %\n",
      "train auc_score: 54.28 %\n",
      "val accuracy_score: 75.00 %\n",
      "val balanced_accuracy: 70.42 %\n",
      "val auc_score: 70.42 %\n",
      "Val loss: 0.665603\n",
      "[3,    20] loss: 0.67259\n",
      "[3,    40] loss: 0.68873\n",
      "[3,    60] loss: 0.64223\n",
      "[3,    80] loss: 0.61691\n",
      "[3,   100] loss: 0.57278\n",
      "Time elapsed: 0h:1m:46s\n",
      "train accuracy_score: 65.57 %\n",
      "train balanced_accuracy: 65.49 %\n",
      "train auc_score: 65.49 %\n",
      "val accuracy_score: 83.00 %\n",
      "val balanced_accuracy: 82.50 %\n",
      "val auc_score: 82.50 %\n",
      "Val loss: 0.389747\n",
      "[4,    20] loss: 0.73329\n",
      "[4,    40] loss: 0.55122\n",
      "[4,    60] loss: 0.52537\n",
      "[4,    80] loss: 0.54595\n",
      "[4,   100] loss: 0.50184\n",
      "Time elapsed: 0h:2m:9s\n",
      "train accuracy_score: 72.60 %\n",
      "train balanced_accuracy: 72.63 %\n",
      "train auc_score: 72.63 %\n",
      "val accuracy_score: 78.00 %\n",
      "val balanced_accuracy: 81.25 %\n",
      "val auc_score: 81.25 %\n",
      "Val loss: 0.464518\n",
      "[5,    20] loss: 0.51611\n",
      "[5,    40] loss: 0.55950\n",
      "[5,    60] loss: 0.48714\n",
      "[5,    80] loss: 0.42028\n",
      "[5,   100] loss: 0.51845\n",
      "Time elapsed: 0h:2m:32s\n",
      "train accuracy_score: 76.76 %\n",
      "train balanced_accuracy: 76.76 %\n",
      "train auc_score: 76.76 %\n",
      "val accuracy_score: 78.00 %\n",
      "val balanced_accuracy: 80.83 %\n",
      "val auc_score: 80.83 %\n",
      "Val loss: 0.473554\n",
      "[6,    20] loss: 0.32798\n",
      "[6,    40] loss: 0.40195\n",
      "[6,    60] loss: 0.41069\n",
      "[6,    80] loss: 0.35808\n",
      "[6,   100] loss: 0.44170\n",
      "Time elapsed: 0h:2m:55s\n",
      "train accuracy_score: 81.49 %\n",
      "train balanced_accuracy: 81.51 %\n",
      "train auc_score: 81.51 %\n",
      "val accuracy_score: 76.00 %\n",
      "val balanced_accuracy: 79.17 %\n",
      "val auc_score: 79.17 %\n",
      "Val loss: 0.535054\n",
      "[7,    20] loss: 0.40884\n",
      "[7,    40] loss: 0.45516\n",
      "[7,    60] loss: 0.37732\n",
      "[7,    80] loss: 0.28411\n",
      "[7,   100] loss: 0.35233\n",
      "Time elapsed: 0h:3m:18s\n",
      "train accuracy_score: 83.93 %\n",
      "train balanced_accuracy: 83.98 %\n",
      "train auc_score: 83.98 %\n",
      "val accuracy_score: 85.00 %\n",
      "val balanced_accuracy: 86.67 %\n",
      "val auc_score: 86.67 %\n",
      "Val loss: 0.400990\n",
      "[8,    20] loss: 0.25742\n",
      "[8,    40] loss: 0.33863\n",
      "[8,    60] loss: 0.25928\n",
      "[8,    80] loss: 0.33352\n",
      "[8,   100] loss: 0.27251\n",
      "Time elapsed: 0h:3m:40s\n",
      "train accuracy_score: 85.65 %\n",
      "train balanced_accuracy: 85.69 %\n",
      "train auc_score: 85.69 %\n",
      "val accuracy_score: 86.00 %\n",
      "val balanced_accuracy: 86.67 %\n",
      "val auc_score: 86.67 %\n",
      "Val loss: 0.354072\n",
      "[9,    20] loss: 0.26943\n",
      "[9,    40] loss: 0.24244\n",
      "[9,    60] loss: 0.22494\n",
      "[9,    80] loss: 0.22774\n",
      "[9,   100] loss: 0.32727\n",
      "Time elapsed: 0h:4m:4s\n",
      "train accuracy_score: 90.10 %\n",
      "train balanced_accuracy: 90.12 %\n",
      "train auc_score: 90.12 %\n",
      "val accuracy_score: 87.00 %\n",
      "val balanced_accuracy: 87.50 %\n",
      "val auc_score: 87.50 %\n",
      "Val loss: 0.277179\n",
      "[10,    20] loss: 0.22608\n",
      "[10,    40] loss: 0.20830\n",
      "[10,    60] loss: 0.19494\n",
      "[10,    80] loss: 0.35995\n",
      "[10,   100] loss: 0.25044\n",
      "Time elapsed: 0h:4m:27s\n",
      "train accuracy_score: 89.53 %\n",
      "train balanced_accuracy: 89.56 %\n",
      "train auc_score: 89.56 %\n",
      "val accuracy_score: 87.00 %\n",
      "val balanced_accuracy: 87.92 %\n",
      "val auc_score: 87.92 %\n",
      "Val loss: 0.306136\n",
      "[11,    20] loss: 0.29650\n",
      "[11,    40] loss: 0.27692\n",
      "[11,    60] loss: 0.14368\n",
      "[11,    80] loss: 0.18479\n",
      "[11,   100] loss: 0.19953\n",
      "Time elapsed: 0h:4m:50s\n",
      "train accuracy_score: 91.54 %\n",
      "train balanced_accuracy: 91.54 %\n",
      "train auc_score: 91.54 %\n",
      "val accuracy_score: 86.00 %\n",
      "val balanced_accuracy: 87.08 %\n",
      "val auc_score: 87.08 %\n",
      "Val loss: 0.364866\n",
      "[12,    20] loss: 0.16103\n",
      "[12,    40] loss: 0.16346\n",
      "[12,    60] loss: 0.22119\n",
      "[12,    80] loss: 0.14609\n",
      "[12,   100] loss: 0.11275\n",
      "Time elapsed: 0h:5m:13s\n",
      "train accuracy_score: 93.26 %\n",
      "train balanced_accuracy: 93.25 %\n",
      "train auc_score: 93.25 %\n",
      "val accuracy_score: 87.00 %\n",
      "val balanced_accuracy: 87.50 %\n",
      "val auc_score: 87.50 %\n",
      "Val loss: 0.311050\n",
      "[13,    20] loss: 0.14441\n",
      "[13,    40] loss: 0.17464\n",
      "[13,    60] loss: 0.25021\n",
      "[13,    80] loss: 0.17821\n",
      "[13,   100] loss: 0.11391\n",
      "Time elapsed: 0h:5m:35s\n",
      "train accuracy_score: 94.12 %\n",
      "train balanced_accuracy: 94.13 %\n",
      "train auc_score: 94.13 %\n",
      "val accuracy_score: 86.00 %\n",
      "val balanced_accuracy: 87.92 %\n",
      "val auc_score: 87.92 %\n",
      "Val loss: 0.442252\n",
      "[14,    20] loss: 0.07602\n",
      "[14,    40] loss: 0.15379\n",
      "[14,    60] loss: 0.14621\n",
      "[14,    80] loss: 0.14240\n",
      "[14,   100] loss: 0.13960\n",
      "Time elapsed: 0h:5m:59s\n",
      "train accuracy_score: 95.27 %\n",
      "train balanced_accuracy: 95.29 %\n",
      "train auc_score: 95.29 %\n",
      "val accuracy_score: 84.00 %\n",
      "val balanced_accuracy: 86.25 %\n",
      "val auc_score: 86.25 %\n",
      "Val loss: 0.568477\n",
      "[15,    20] loss: 0.11725\n",
      "[15,    40] loss: 0.07824\n",
      "[15,    60] loss: 0.17482\n",
      "[15,    80] loss: 0.09015\n",
      "[15,   100] loss: 0.12294\n",
      "Time elapsed: 0h:6m:22s\n",
      "train accuracy_score: 95.55 %\n",
      "train balanced_accuracy: 95.56 %\n",
      "train auc_score: 95.56 %\n",
      "val accuracy_score: 84.00 %\n",
      "val balanced_accuracy: 85.00 %\n",
      "val auc_score: 85.00 %\n",
      "Val loss: 0.478250\n",
      "[16,    20] loss: 0.16368\n",
      "[16,    40] loss: 0.14957\n",
      "[16,    60] loss: 0.08621\n",
      "[16,    80] loss: 0.13682\n",
      "[16,   100] loss: 0.09889\n",
      "Time elapsed: 0h:6m:44s\n",
      "train accuracy_score: 95.27 %\n",
      "train balanced_accuracy: 95.27 %\n",
      "train auc_score: 95.27 %\n",
      "val accuracy_score: 84.00 %\n",
      "val balanced_accuracy: 86.67 %\n",
      "val auc_score: 86.67 %\n",
      "Val loss: 0.706034\n",
      "[17,    20] loss: 0.10983\n",
      "[17,    40] loss: 0.07100\n",
      "[17,    60] loss: 0.07582\n",
      "[17,    80] loss: 0.14149\n",
      "[17,   100] loss: 0.06851\n",
      "Time elapsed: 0h:7m:7s\n",
      "train accuracy_score: 95.98 %\n",
      "train balanced_accuracy: 95.99 %\n",
      "train auc_score: 95.99 %\n",
      "val accuracy_score: 88.00 %\n",
      "val balanced_accuracy: 90.00 %\n",
      "val auc_score: 90.00 %\n",
      "Val loss: 0.405124\n",
      "[18,    20] loss: 0.16612\n",
      "[18,    40] loss: 0.14175\n",
      "[18,    60] loss: 0.09312\n",
      "[18,    80] loss: 0.09714\n",
      "[18,   100] loss: 0.08756\n",
      "Time elapsed: 0h:7m:30s\n",
      "train accuracy_score: 95.55 %\n",
      "train balanced_accuracy: 95.57 %\n",
      "train auc_score: 95.57 %\n",
      "val accuracy_score: 87.00 %\n",
      "val balanced_accuracy: 87.92 %\n",
      "val auc_score: 87.92 %\n",
      "Val loss: 0.396611\n",
      "[19,    20] loss: 0.08849\n",
      "[19,    40] loss: 0.03803\n",
      "[19,    60] loss: 0.09751\n",
      "[19,    80] loss: 0.05772\n",
      "[19,   100] loss: 0.05376\n",
      "Time elapsed: 0h:7m:53s\n",
      "train accuracy_score: 97.99 %\n",
      "train balanced_accuracy: 97.99 %\n",
      "train auc_score: 97.99 %\n",
      "val accuracy_score: 86.00 %\n",
      "val balanced_accuracy: 87.92 %\n",
      "val auc_score: 87.92 %\n",
      "Val loss: 0.524197\n",
      "[20,    20] loss: 0.06510\n",
      "[20,    40] loss: 0.02699\n",
      "[20,    60] loss: 0.03476\n",
      "[20,    80] loss: 0.06746\n",
      "[20,   100] loss: 0.03587\n",
      "Time elapsed: 0h:8m:16s\n",
      "train accuracy_score: 97.70 %\n",
      "train balanced_accuracy: 97.70 %\n",
      "train auc_score: 97.70 %\n",
      "val accuracy_score: 88.00 %\n",
      "val balanced_accuracy: 89.58 %\n",
      "val auc_score: 89.58 %\n",
      "Val loss: 0.447201\n",
      "[21,    20] loss: 0.04083\n",
      "[21,    40] loss: 0.09276\n",
      "[21,    60] loss: 0.09892\n",
      "[21,    80] loss: 0.02354\n",
      "[21,   100] loss: 0.06038\n",
      "Time elapsed: 0h:8m:39s\n",
      "train accuracy_score: 97.42 %\n",
      "train balanced_accuracy: 97.44 %\n",
      "train auc_score: 97.44 %\n",
      "val accuracy_score: 86.00 %\n",
      "val balanced_accuracy: 88.33 %\n",
      "val auc_score: 88.33 %\n",
      "Val loss: 0.793368\n",
      "Early stopping in epoch 22\n",
      "Total time elapsed: 0h:8m:41s\n",
      "Writing model to disk...\n",
      "Best result during training: 0.90. Saving model..\n",
      "Finished fold.\n"
     ]
    },
    {
     "data": {
      "image/png": "[encoded data removed]",
      "text/plain": [
       "<Figure size 432x288 with 1 Axes>"
      ]
     },
     "metadata": {},
     "output_type": "display_data"
    },
    {
     "data": {
      "image/png": "[encoded data removed]",
      "text/plain": [
       "<Figure size 432x288 with 1 Axes>"
      ]
     },
     "metadata": {},
     "output_type": "display_data"
    },
    {
     "data": {
      "image/png": "[encoded data removed]",
      "text/plain": [
       "<Figure size 432x288 with 1 Axes>"
      ]
     },
     "metadata": {},
     "output_type": "display_data"
    },
    {
     "data": {
      "image/png": "[encoded data removed]",
      "text/plain": [
       "<Figure size 432x288 with 1 Axes>"
      ]
     },
     "metadata": {},
     "output_type": "display_data"
    },
    {
     "data": {
      "image/png": "[encoded data removed]",
      "text/plain": [
       "<Figure size 432x288 with 1 Axes>"
      ]
     },
     "metadata": {},
     "output_type": "display_data"
    },
    {
     "name": "stdout",
     "output_type": "stream",
     "text": [
      "Starting trial 1\n",
      "torch.Size([1, 96, 114, 96])\n",
      "117\n"
     ]
    },
    {
     "data": {
      "image/png": "[encoded data removed]",
      "text/plain": [
       "<Figure size 432x288 with 1 Axes>"
      ]
     },
     "metadata": {},
     "output_type": "display_data"
    },
    {
     "name": "stdout",
     "output_type": "stream",
     "text": [
      "[0,    20] loss: 0.69796\n",
      "[0,    40] loss: 0.68861\n",
      "[0,    60] loss: 0.69787\n",
      "[0,    80] loss: 0.70037\n",
      "[0,   100] loss: 0.69925\n",
      "Time elapsed: 0h:0m:21s\n",
      "train accuracy_score: 46.77 %\n",
      "train balanced_accuracy: 46.33 %\n",
      "train auc_score: 46.33 %\n",
      "val accuracy_score: 60.00 %\n",
      "val balanced_accuracy: 50.00 %\n",
      "val auc_score: 50.00 %\n",
      "Val loss: 0.686739\n",
      "[1,    20] loss: 0.69427\n",
      "[1,    40] loss: 0.69382\n",
      "[1,    60] loss: 0.69614\n",
      "[1,    80] loss: 0.69441\n",
      "[1,   100] loss: 0.69802\n",
      "Time elapsed: 0h:0m:44s\n",
      "train accuracy_score: 50.93 %\n",
      "train balanced_accuracy: 51.69 %\n",
      "train auc_score: 51.69 %\n",
      "val accuracy_score: 40.00 %\n",
      "val balanced_accuracy: 50.00 %\n",
      "val auc_score: 50.00 %\n",
      "Val loss: 0.694634\n",
      "[2,    20] loss: 0.68328\n",
      "[2,    40] loss: 0.70773\n",
      "[2,    60] loss: 0.69187\n",
      "[2,    80] loss: 0.69273\n",
      "[2,   100] loss: 0.69266\n",
      "Time elapsed: 0h:1m:7s\n",
      "train accuracy_score: 53.37 %\n",
      "train balanced_accuracy: 53.24 %\n",
      "train auc_score: 53.24 %\n",
      "val accuracy_score: 40.00 %\n",
      "val balanced_accuracy: 50.00 %\n",
      "val auc_score: 50.00 %\n",
      "Val loss: 0.754870\n",
      "[3,    20] loss: 0.69320\n",
      "[3,    40] loss: 0.68972\n",
      "[3,    60] loss: 0.69552\n",
      "[3,    80] loss: 0.68835\n",
      "[3,   100] loss: 0.68955\n",
      "Time elapsed: 0h:1m:29s\n",
      "train accuracy_score: 55.95 %\n",
      "train balanced_accuracy: 55.65 %\n",
      "train auc_score: 55.65 %\n",
      "val accuracy_score: 60.00 %\n",
      "val balanced_accuracy: 50.00 %\n",
      "val auc_score: 50.00 %\n",
      "Val loss: 0.674765\n",
      "[4,    20] loss: 0.68903\n",
      "[4,    40] loss: 0.68595\n",
      "[4,    60] loss: 0.68157\n",
      "[4,    80] loss: 0.68204\n",
      "[4,   100] loss: 0.66305\n",
      "Time elapsed: 0h:1m:52s\n",
      "train accuracy_score: 55.67 %\n",
      "train balanced_accuracy: 55.95 %\n",
      "train auc_score: 55.95 %\n",
      "val accuracy_score: 40.00 %\n",
      "val balanced_accuracy: 50.00 %\n",
      "val auc_score: 50.00 %\n",
      "Val loss: 0.724191\n",
      "[5,    20] loss: 0.66738\n",
      "[5,    40] loss: 0.64960\n",
      "[5,    60] loss: 0.63622\n",
      "[5,    80] loss: 0.67490\n",
      "[5,   100] loss: 0.63658\n",
      "Time elapsed: 0h:2m:16s\n",
      "train accuracy_score: 62.70 %\n",
      "train balanced_accuracy: 62.50 %\n",
      "train auc_score: 62.50 %\n",
      "val accuracy_score: 83.00 %\n",
      "val balanced_accuracy: 79.58 %\n",
      "val auc_score: 79.58 %\n",
      "Val loss: 0.502967\n",
      "[6,    20] loss: 0.60403\n",
      "[6,    40] loss: 0.61460\n",
      "[6,    60] loss: 0.54250\n",
      "[6,    80] loss: 0.62449\n",
      "[6,   100] loss: 0.53526\n",
      "Time elapsed: 0h:2m:41s\n",
      "train accuracy_score: 71.31 %\n",
      "train balanced_accuracy: 71.34 %\n",
      "train auc_score: 71.34 %\n",
      "val accuracy_score: 80.00 %\n",
      "val balanced_accuracy: 81.67 %\n",
      "val auc_score: 81.67 %\n",
      "Val loss: 0.462357\n",
      "[7,    20] loss: 0.44684\n",
      "[7,    40] loss: 0.47706\n",
      "[7,    60] loss: 0.47291\n",
      "[7,    80] loss: 0.54789\n",
      "[7,   100] loss: 0.51134\n",
      "Time elapsed: 0h:3m:4s\n",
      "train accuracy_score: 76.61 %\n",
      "train balanced_accuracy: 76.62 %\n",
      "train auc_score: 76.62 %\n",
      "val accuracy_score: 78.00 %\n",
      "val balanced_accuracy: 77.92 %\n",
      "val auc_score: 77.92 %\n",
      "Val loss: 0.395660\n",
      "[8,    20] loss: 0.51653\n",
      "[8,    40] loss: 0.51635\n",
      "[8,    60] loss: 0.41355\n",
      "[8,    80] loss: 0.35751\n",
      "[8,   100] loss: 0.39990\n",
      "Time elapsed: 0h:3m:27s\n",
      "train accuracy_score: 80.34 %\n",
      "train balanced_accuracy: 80.38 %\n",
      "train auc_score: 80.38 %\n",
      "val accuracy_score: 80.00 %\n",
      "val balanced_accuracy: 79.58 %\n",
      "val auc_score: 79.58 %\n",
      "Val loss: 0.382450\n",
      "[9,    20] loss: 0.35932\n",
      "[9,    40] loss: 0.46822\n",
      "[9,    60] loss: 0.41576\n",
      "[9,    80] loss: 0.34610\n",
      "[9,   100] loss: 0.37586\n",
      "Time elapsed: 0h:3m:51s\n",
      "train accuracy_score: 85.37 %\n",
      "train balanced_accuracy: 85.43 %\n",
      "train auc_score: 85.43 %\n",
      "val accuracy_score: 84.00 %\n",
      "val balanced_accuracy: 82.50 %\n",
      "val auc_score: 82.50 %\n",
      "Val loss: 0.375104\n",
      "[10,    20] loss: 0.37124\n",
      "[10,    40] loss: 0.33909\n",
      "[10,    60] loss: 0.34050\n",
      "[10,    80] loss: 0.34450\n",
      "[10,   100] loss: 0.36712\n",
      "Time elapsed: 0h:4m:14s\n",
      "train accuracy_score: 84.79 %\n",
      "train balanced_accuracy: 84.86 %\n",
      "train auc_score: 84.86 %\n",
      "val accuracy_score: 86.00 %\n",
      "val balanced_accuracy: 85.83 %\n",
      "val auc_score: 85.83 %\n",
      "Val loss: 0.362441\n",
      "[11,    20] loss: 0.26942\n",
      "[11,    40] loss: 0.35236\n",
      "[11,    60] loss: 0.29693\n",
      "[11,    80] loss: 0.25463\n",
      "[11,   100] loss: 0.28772\n",
      "Time elapsed: 0h:4m:37s\n",
      "train accuracy_score: 88.81 %\n",
      "train balanced_accuracy: 88.85 %\n",
      "train auc_score: 88.85 %\n",
      "val accuracy_score: 85.00 %\n",
      "val balanced_accuracy: 86.25 %\n",
      "val auc_score: 86.25 %\n",
      "Val loss: 0.442677\n",
      "[12,    20] loss: 0.25925\n",
      "[12,    40] loss: 0.20426\n",
      "[12,    60] loss: 0.23043\n",
      "[12,    80] loss: 0.26448\n",
      "[12,   100] loss: 0.23600\n",
      "Time elapsed: 0h:5m:0s\n",
      "train accuracy_score: 90.24 %\n",
      "train balanced_accuracy: 90.31 %\n",
      "train auc_score: 90.31 %\n",
      "val accuracy_score: 82.00 %\n",
      "val balanced_accuracy: 83.75 %\n",
      "val auc_score: 83.75 %\n",
      "Val loss: 0.573345\n",
      "[13,    20] loss: 0.21516\n",
      "[13,    40] loss: 0.24204\n",
      "[13,    60] loss: 0.20260\n",
      "[13,    80] loss: 0.18866\n",
      "[13,   100] loss: 0.20599\n",
      "Time elapsed: 0h:5m:23s\n",
      "train accuracy_score: 91.54 %\n",
      "train balanced_accuracy: 91.50 %\n",
      "train auc_score: 91.50 %\n",
      "val accuracy_score: 82.00 %\n",
      "val balanced_accuracy: 82.08 %\n",
      "val auc_score: 82.08 %\n",
      "Val loss: 0.447848\n",
      "[14,    20] loss: 0.22403\n",
      "[14,    40] loss: 0.22712\n",
      "[14,    60] loss: 0.25370\n",
      "[14,    80] loss: 0.19265\n",
      "[14,   100] loss: 0.12825\n",
      "Time elapsed: 0h:5m:47s\n",
      "train accuracy_score: 91.97 %\n",
      "train balanced_accuracy: 91.98 %\n",
      "train auc_score: 91.98 %\n",
      "val accuracy_score: 84.00 %\n",
      "val balanced_accuracy: 84.58 %\n",
      "val auc_score: 84.58 %\n",
      "Val loss: 0.481585\n",
      "[15,    20] loss: 0.10895\n",
      "[15,    40] loss: 0.11233\n",
      "[15,    60] loss: 0.13339\n",
      "[15,    80] loss: 0.12439\n",
      "[15,   100] loss: 0.12984\n",
      "Time elapsed: 0h:6m:10s\n",
      "train accuracy_score: 95.84 %\n",
      "train balanced_accuracy: 95.87 %\n",
      "train auc_score: 95.87 %\n",
      "val accuracy_score: 83.00 %\n",
      "val balanced_accuracy: 82.08 %\n",
      "val auc_score: 82.08 %\n",
      "Val loss: 0.543599\n",
      "[16,    20] loss: 0.10724\n",
      "[16,    40] loss: 0.21924\n",
      "[16,    60] loss: 0.10879\n",
      "[16,    80] loss: 0.09597\n",
      "[16,   100] loss: 0.09598\n",
      "Time elapsed: 0h:6m:33s\n",
      "train accuracy_score: 95.55 %\n",
      "train balanced_accuracy: 95.56 %\n",
      "train auc_score: 95.56 %\n",
      "val accuracy_score: 80.00 %\n",
      "val balanced_accuracy: 79.17 %\n",
      "val auc_score: 79.17 %\n",
      "Val loss: 0.520591\n",
      "[17,    20] loss: 0.15515\n",
      "[17,    40] loss: 0.04264\n",
      "[17,    60] loss: 0.04914\n",
      "[17,    80] loss: 0.07615\n"
     ]
    }
   ],
   "source": [
    "fold_metric, models = run(net=net, data=adni_data_train,\n",
    "                  k_folds=-1,\n",
    "                  callbacks=callbacks,\n",
    "                  shape=-1,\n",
    "                  masked=False,\n",
    "                  metrics=metrics,\n",
    "                  num_epochs=num_epochs,\n",
    "                  retain_metric=retain_metric,\n",
    "                  b=b\n",
    "                 )\n",
    "\n",
    "print(np.mean(fold_metric))\n",
    "print(np.std(fold_metric))"
   ]
  },
  {
   "cell_type": "code",
   "execution_count": null,
   "metadata": {},
   "outputs": [],
   "source": [
    "print(np.mean(fold_metric))\n",
    "print(np.std(fold_metric))"
   ]
  },
  {
   "cell_type": "code",
   "execution_count": null,
   "metadata": {},
   "outputs": [],
   "source": [
    "5/0"
   ]
  },
  {
   "cell_type": "markdown",
   "metadata": {
    "collapsed": true
   },
   "source": [
    "# Start inference"
   ]
  },
  {
   "cell_type": "code",
   "execution_count": null,
   "metadata": {
    "collapsed": true
   },
   "outputs": [],
   "source": [
    "test_loader = DataLoader(\n",
    "            adni_data_test, batch_size=1, num_workers=1, shuffle=True\n",
    ")"
   ]
  },
  {
   "cell_type": "code",
   "execution_count": null,
   "metadata": {
    "scrolled": true
   },
   "outputs": [],
   "source": [
    "metrics = []\n",
    "aucs = []\n",
    "lr = 1e-5\n",
    "wd = 1e-3\n",
    "criterion = nn.BCEWithLogitsLoss().cuda(gpu)\n",
    "optimizer = optim.Adam(net.parameters(), lr=lr, weight_decay=wd)\n",
    "    \n",
    "for fold, model in enumerate(models):\n",
    "    print(\"Fold {}\".format(fold))\n",
    "\n",
    "    all_preds = []\n",
    "    all_labels = []\n",
    "    \n",
    "    net = model.cuda(gpu)\n",
    "    net.eval()\n",
    "    with torch.no_grad():\n",
    "        for sample in test_loader:\n",
    "            img = sample[\"image\"]\n",
    "            label = sample[\"label\"]\n",
    "\n",
    "            img = img.to(torch.device(\"cuda:\" + str(gpu)))\n",
    "\n",
    "            output = net.forward(img)\n",
    "            pred = torch.sigmoid(output) >= 0.5\n",
    "            all_preds.append(pred.cpu().numpy().item())\n",
    "            all_labels.append(label.numpy().item())\n",
    "    \n",
    "    #print(all_preds)\n",
    "    #print(all_labels)\n",
    "    balanced_acc = balanced_accuracy(all_labels, all_preds)\n",
    "    print(balanced_acc)\n",
    "    \n",
    "    fpr, tpr, thresholds = roc_curve(all_labels, all_preds, pos_label=2)\n",
    "    this_auc = auc(fpr, tpr)\n",
    "    print(this_auc)\n",
    "    aucs.append(this_auc)\n",
    "    '''trainer = Trainer(\n",
    "                net,\n",
    "                criterion,\n",
    "                optimizer,\n",
    "                scheduler=None,\n",
    "                metrics=metrics,\n",
    "                callbacks=None,\n",
    "                device=gpu,\n",
    "                prediction_type=\"binary\"\n",
    "            )\n",
    "    computed_metrics = trainer.evaluate_model(test_loader, metrics=[balanced_accuracy])'''\n",
    "    net.train()\n",
    "    metrics.append(balanced_acc)\n",
    "print(\"######## Final results ########\")\n",
    "metrics_df = pd.DataFrame(metrics)\n",
    "print(metrics_df)\n",
    "print(\"Balanced accuracy mean {:.2f} %\".format(np.mean(metrics_df[0])*100))\n",
    "print(\"Balanced accuracy std {:.2f} %\".format(np.std(metrics_df[0])*100))\n",
    "print(\"AUC mean {}:.2f %\".format(np.mean(aucs)))"
   ]
  },
  {
   "cell_type": "code",
   "execution_count": null,
   "metadata": {
    "collapsed": true
   },
   "outputs": [],
   "source": []
  },
  {
   "cell_type": "code",
   "execution_count": null,
   "metadata": {
    "collapsed": true,
    "scrolled": true
   },
   "outputs": [],
   "source": [
    "for i, m in enumerate(models):\n",
    "    print(i)\n",
    "    for param in m.parameters():\n",
    "        print(param.grad.norm(2))"
   ]
  },
  {
   "cell_type": "code",
   "execution_count": null,
   "metadata": {
    "collapsed": true
   },
   "outputs": [],
   "source": [
    "all_weight_norms = {}\n",
    "all_bias_norms = {}\n",
    "for i, m in enumerate(models):\n",
    "    bias_norms = {}\n",
    "    weight_norms = {}\n",
    "    print(i)\n",
    "    for name, param in m.named_parameters():\n",
    "        #norms.append(param.grad.norm(2))\n",
    "        norm = param.grad.norm(2)\n",
    "        if name.endswith(\"bias\"):\n",
    "            name = name.replace(\".bias\", \"\")\n",
    "            bias_norms[\"layer_{}\".format(name)] = norm\n",
    "        elif name.endswith(\"weight\"):\n",
    "            name = name.replace(\".weight\", \"\")\n",
    "            weight_norms[\"layer_{}\".format(name)] = norm\n",
    "    all_weight_norms[\"fold_{}\".format(i)] = weight_norms\n",
    "    all_bias_norms[\"fold_{}\".format(i)] = bias_norms"
   ]
  },
  {
   "cell_type": "code",
   "execution_count": null,
   "metadata": {
    "collapsed": true
   },
   "outputs": [],
   "source": [
    "list(metrics_df[\"balanced_accuracy\"])"
   ]
  },
  {
   "cell_type": "code",
   "execution_count": null,
   "metadata": {
    "collapsed": true,
    "scrolled": false
   },
   "outputs": [],
   "source": [
    "num_cols = 2\n",
    "num_rows = 4\n",
    "plt.figure()\n",
    "c = 1\n",
    "r = 1\n",
    "\n",
    "plt.figure(figsize=(12, 24))\n",
    "plt.subplots_adjust(hspace=0.9, wspace=0.2)\n",
    "for f in range(len(models)):\n",
    "    plt.subplot(num_rows, num_cols, f+1)\n",
    "    plt.plot(*zip(*sorted(all_weight_norms[\"fold_{}\".format(f)].items())))\n",
    "    plt.plot(*zip(*sorted(all_bias_norms[\"fold_{}\".format(f)].items())))\n",
    "    plt.legend([\"Weights\", \"Biases\"])\n",
    "    plt.title(\"Fold {} Test balanced acc {:.2f}\".format(f, metrics_df[\"balanced_accuracy\"][f]))\n",
    "    plt.xticks(rotation=90)\n",
    "    axes = plt.gca()\n",
    "    axes.set_ylim([0, 1])\n",
    "    c += 1\n",
    "plt.show()\n",
    "    "
   ]
  },
  {
   "cell_type": "code",
   "execution_count": null,
   "metadata": {
    "collapsed": true
   },
   "outputs": [],
   "source": []
  }
 ],
 "metadata": {
  "kernelspec": {
   "display_name": "Python (mort1)",
   "language": "python",
   "name": "mort1"
  },
  "language_info": {
   "codemirror_mode": {
    "name": "ipython",
    "version": 3
   },
   "file_extension": ".py",
   "mimetype": "text/x-python",
   "name": "python",
   "nbconvert_exporter": "python",
   "pygments_lexer": "ipython3",
   "version": "3.6.5"
  }
 },
 "nbformat": 4,
 "nbformat_minor": 2
}
