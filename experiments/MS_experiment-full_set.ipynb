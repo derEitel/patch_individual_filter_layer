{
 "cells": [
  {
   "cell_type": "markdown",
   "metadata": {},
   "source": [
    "Used data instead of ms_data_train in train loader creation"
   ]
  },
  {
   "cell_type": "markdown",
   "metadata": {},
   "source": [
    "TODO: possible increase learning rate"
   ]
  },
  {
   "cell_type": "markdown",
   "metadata": {},
   "source": [
    "### \\\\\\ Currently used ///"
   ]
  },
  {
   "cell_type": "code",
   "execution_count": 1,
   "metadata": {
    "collapsed": true
   },
   "outputs": [],
   "source": [
    "%matplotlib inline"
   ]
  },
  {
   "cell_type": "code",
   "execution_count": 2,
   "metadata": {
    "collapsed": true
   },
   "outputs": [],
   "source": [
    "%load_ext autoreload\n",
    "%autoreload 2"
   ]
  },
  {
   "cell_type": "code",
   "execution_count": 3,
   "metadata": {
    "collapsed": true
   },
   "outputs": [],
   "source": [
    "import sys\n",
    "sys.path.insert(0,\"/analysis/fabiane/phd/nitorch/\")\n",
    "sys.path.insert(0,\"/analysis/fabiane/phd/patch_individual_filters/\")"
   ]
  },
  {
   "cell_type": "code",
   "execution_count": 4,
   "metadata": {},
   "outputs": [
    {
     "name": "stderr",
     "output_type": "stream",
     "text": [
      "/home/fabiane/anaconda2/envs/mort1/lib/python3.6/site-packages/h5py/__init__.py:36: FutureWarning: Conversion of the second argument of issubdtype from `float` to `np.floating` is deprecated. In future, it will be treated as `np.float64 == np.dtype(float).type`.\n",
      "  from ._conv import register_converters as _register_converters\n"
     ]
    }
   ],
   "source": [
    "import os\n",
    "import glob\n",
    "import h5py\n",
    "import time\n",
    "import matplotlib.pyplot as plt\n",
    "import numpy as np\n",
    "import pandas as pd\n",
    "\n",
    "# pytorch\n",
    "import torch\n",
    "import torch.nn as nn\n",
    "import torch.nn.functional as F\n",
    "import torch.optim as optim\n",
    "from torchvision import transforms\n",
    "from torch.utils.data import Dataset, DataLoader, SubsetRandomSampler\n",
    "from torch.nn.modules.module import Module\n",
    "\n",
    "# sklearn functions\n",
    "from sklearn.metrics import accuracy_score, roc_curve, auc\n",
    "from sklearn.model_selection import train_test_split, KFold, GroupShuffleSplit\n",
    "\n",
    "# load functions from nitorch\n",
    "\n",
    "from nitorch.data import load_nifti\n",
    "from nitorch.transforms import  ToTensor, SagittalTranslate, SagittalFlip, \\\n",
    "                                AxialTranslate, normalization_factors, Normalize, \\\n",
    "                                IntensityRescale\n",
    "from nitorch.callbacks import EarlyStopping, ModelCheckpoint\n",
    "from nitorch.trainer import Trainer\n",
    "from nitorch.initialization import weights_init\n",
    "from nitorch.metrics import balanced_accuracy, sensitivity, specificity, auc_score\n",
    "from nitorch.utils import count_parameters"
   ]
  },
  {
   "cell_type": "code",
   "execution_count": 5,
   "metadata": {
    "collapsed": true
   },
   "outputs": [],
   "source": [
    "from pif import PatchIndividualFilters3D"
   ]
  },
  {
   "cell_type": "code",
   "execution_count": 6,
   "metadata": {},
   "outputs": [
    {
     "data": {
      "text/plain": [
       "'1.0.0'"
      ]
     },
     "execution_count": 6,
     "metadata": {},
     "output_type": "execute_result"
    }
   ],
   "source": [
    "torch.__version__"
   ]
  },
  {
   "cell_type": "code",
   "execution_count": 7,
   "metadata": {
    "collapsed": true
   },
   "outputs": [],
   "source": [
    "# use multiple GPUs\n",
    "gpu = 4\n",
    "multi_gpus = None#[0, 1, 2]\n",
    "b = 4\n",
    "zero_one_normalize = False\n",
    "zoom = 0.525\n",
    "\n",
    "dtype = np.float64"
   ]
  },
  {
   "cell_type": "code",
   "execution_count": 8,
   "metadata": {
    "collapsed": true
   },
   "outputs": [],
   "source": [
    "# load mask\n",
    "mask = None"
   ]
  },
  {
   "cell_type": "code",
   "execution_count": 9,
   "metadata": {
    "collapsed": true
   },
   "outputs": [],
   "source": [
    "train_h5 = h5py.File('/analysis/ritter/data/MS/CIS/train_dataset.h5', 'r')\n",
    "holdout_h5 = h5py.File('/analysis/ritter/data/MS/CIS/holdout_dataset.h5', 'r')"
   ]
  },
  {
   "cell_type": "code",
   "execution_count": 10,
   "metadata": {
    "collapsed": true
   },
   "outputs": [],
   "source": [
    "X_holdout, y_holdout = holdout_h5['X'], holdout_h5['y']\n",
    "X_train, y_train = train_h5['X'], train_h5['y']"
   ]
  },
  {
   "cell_type": "code",
   "execution_count": 11,
   "metadata": {
    "collapsed": true
   },
   "outputs": [],
   "source": [
    "# convert data to numpy arrays\n",
    "#X_train = np.array(X_train, dtype=dtype)\n",
    "#y_train = np.array(y_train)\n",
    "\n",
    "#X_holdout = np.array(X_holdout, dtype=dtype)\n",
    "#y_holdout = np.array(y_holdout)"
   ]
  },
  {
   "cell_type": "code",
   "execution_count": 12,
   "metadata": {
    "collapsed": true
   },
   "outputs": [],
   "source": [
    "class MSDataset(Dataset):\n",
    "    def __init__(self, X, y, transform=None, target_transform=None, mask=None, z_factor=zoom, dtype=np.float32):\n",
    "        self.X = np.copy(X)\n",
    "        self.y = np.copy(y)\n",
    "        self.transform = transform\n",
    "        self.target_transform = target_transform\n",
    "        self.mask = mask\n",
    "        self.z_factor = zoom\n",
    "        self.dtype = dtype\n",
    "        \n",
    "    def __len__(self):\n",
    "        return len(self.X)\n",
    "    \n",
    "    def __getitem__(self, idx):\n",
    "        image = self.X[idx]\n",
    "        label = self.y[idx] >= 0.5\n",
    "        label = torch.FloatTensor([label])\n",
    "        \n",
    "        # normalize by max\n",
    "        image /= np.max(image)\n",
    "        \n",
    "        if self.transform:\n",
    "            image = self.transform(image)\n",
    "        #if self.target_transform:\n",
    "        #    label = self.target_transform(label)\n",
    "            \n",
    "        sample = {\"image\" : image,\n",
    "                 \"label\" : label}\n",
    "                 #\"idx\":idx}\n",
    "        return sample"
   ]
  },
  {
   "cell_type": "code",
   "execution_count": 13,
   "metadata": {
    "collapsed": true
   },
   "outputs": [],
   "source": [
    "if zero_one_normalize:\n",
    "    intensity = IntensityRescale()\n",
    "    ms_data_train = MSDataset(X_train, y_train, transform=transforms.Compose([intensity, ToTensor()]), mask=mask, dtype=dtype)\n",
    "    ms_data_test = MSDataset(X_holdout, y_holdout, transform=transforms.Compose([intensity, ToTensor()]), mask=mask, dtype=dtype)\n",
    "else:\n",
    "    ms_data_train = MSDataset(X_train, y_train, transform=transforms.Compose([ToTensor()]), mask=mask, dtype=dtype)\n",
    "    ms_data_test = MSDataset(X_holdout, y_holdout, transform=transforms.Compose([ToTensor()]), mask=mask, dtype=dtype)"
   ]
  },
  {
   "cell_type": "code",
   "execution_count": 14,
   "metadata": {
    "collapsed": true
   },
   "outputs": [],
   "source": [
    "sample = ms_data_train[29]\n",
    "img = sample[\"image\"]"
   ]
  },
  {
   "cell_type": "code",
   "execution_count": 15,
   "metadata": {},
   "outputs": [
    {
     "data": {
      "text/plain": [
       "torch.Size([1, 96, 114, 96])"
      ]
     },
     "execution_count": 15,
     "metadata": {},
     "output_type": "execute_result"
    }
   ],
   "source": [
    "img.shape"
   ]
  },
  {
   "cell_type": "code",
   "execution_count": 16,
   "metadata": {},
   "outputs": [
    {
     "data": {
      "text/plain": [
       "Text(0.5, 1.0, '1.0')"
      ]
     },
     "execution_count": 16,
     "metadata": {},
     "output_type": "execute_result"
    },
    {
     "data": {
      "image/png": "[encoded data removed]",
      "text/plain": [
       "<Figure size 432x288 with 1 Axes>"
      ]
     },
     "metadata": {},
     "output_type": "display_data"
    }
   ],
   "source": [
    "plt.imshow(img[0][:,:,46], cmap='gray')\n",
    "plt.title(sample[\"label\"].item())"
   ]
  },
  {
   "cell_type": "markdown",
   "metadata": {},
   "source": [
    "# Define the classifier"
   ]
  },
  {
   "cell_type": "code",
   "execution_count": 17,
   "metadata": {
    "collapsed": true
   },
   "outputs": [],
   "source": [
    "class SixtyFourNet(nn.Module):\n",
    "    def __init__(self, drp_rate=0.3):\n",
    "        super(SixtyFourNet, self).__init__()\n",
    "        self.drp_rate = drp_rate\n",
    "        self.Conv_1 = nn.Conv3d(1, 64, kernel_size=3, stride=1, padding=0)\n",
    "        self.pool_1 = nn.MaxPool3d(kernel_size=3, stride=3, padding=0)\n",
    "        self.Conv_2 = nn.Conv3d(64, 64, kernel_size=3, stride=1, padding=0)\n",
    "        self.pool_2 = nn.MaxPool3d(kernel_size=3, stride=2, padding=0)\n",
    "        self.Conv_3 = nn.Conv3d(64, 64, kernel_size=3, stride=1, padding=0)\n",
    "        self.Conv_4 = nn.Conv3d(64, 64, kernel_size=3, stride=1, padding=0)\n",
    "        self.pool_4 = nn.MaxPool3d(kernel_size=3, stride=3, padding=0)\n",
    "\n",
    "        self.pif = PatchIndividualFilters3D([10,13,10],\n",
    "                                            filter_shape=(3,3,3),\n",
    "                                            patch_shape=(5,5,5),\n",
    "                                            num_local_filter_in=64,\n",
    "                                            num_local_filter_out=3,\n",
    "                                            overlap=1,\n",
    "                                            reassemble=False,\n",
    "                                            debug=False)\n",
    "\n",
    "        # 4, 64, 1, 2, 1\n",
    "        self.classifier_scratch = nn.Sequential(\n",
    "            nn.Linear(1134, 100),\n",
    "            nn.Linear(100, 1)\n",
    "        )\n",
    "\n",
    "    def encode(self, x, print_size=False):\n",
    "        if print_size:\n",
    "            print(x.shape)\n",
    "        x = F.elu(self.Conv_1(x))\n",
    "        h = F.dropout3d(self.pool_1(x), p=self.drp_rate)\n",
    "        x = F.elu(self.Conv_2(h))\n",
    "        if print_size:\n",
    "            print(x.shape)\n",
    "        h = F.dropout3d(self.pool_2(x), p=self.drp_rate)\n",
    "        x = F.elu(self.Conv_3(h))\n",
    "        if print_size:\n",
    "            print(x.shape)\n",
    "        x = F.elu(self.Conv_4(x))\n",
    "        if print_size:\n",
    "            print(x.shape)\n",
    "        #h = F.dropout3d(self.pool_4(x), p=self.drp_rate)\n",
    "        #if print_size:\n",
    "        #    print(h.shape)\n",
    "    \n",
    "        h = F.elu(self.pif(x))\n",
    "    \n",
    "        return h\n",
    "\n",
    "    def forward(self, x):\n",
    "        print_size = False\n",
    "        x = self.encode(x, print_size=print_size)\n",
    "        x = self.flatten(x)\n",
    "        x = self.classifier_scratch(x)\n",
    "        return x\n",
    "    \n",
    "    def flatten(self, x):\n",
    "        return x.view(x.size(0), -1)"
   ]
  },
  {
   "cell_type": "code",
   "execution_count": 18,
   "metadata": {
    "collapsed": true
   },
   "outputs": [],
   "source": [
    "if multi_gpus is None:\n",
    "    net = SixtyFourNet().cuda(gpu)\n",
    "else:\n",
    "    net = torch.nn.DataParallel(SixtyFourNet(), device_ids=multi_gpus).cuda(gpu)"
   ]
  },
  {
   "cell_type": "code",
   "execution_count": 19,
   "metadata": {},
   "outputs": [
    {
     "name": "stdout",
     "output_type": "stream",
     "text": [
      "Trainable model parameters: 519979\n"
     ]
    }
   ],
   "source": [
    "print(\"Trainable model parameters: {}\".format(count_parameters(net)))"
   ]
  },
  {
   "cell_type": "markdown",
   "metadata": {},
   "source": [
    "# Training"
   ]
  },
  {
   "cell_type": "code",
   "execution_count": 20,
   "metadata": {
    "collapsed": true
   },
   "outputs": [],
   "source": [
    "def run(\n",
    "    net,\n",
    "    data,\n",
    "    shape,\n",
    "    callbacks=[],\n",
    "    augmentations=[],\n",
    "    masked=False,\n",
    "    metrics=[],\n",
    "    k_folds=None,\n",
    "    b=4,\n",
    "    num_epochs=35,\n",
    "    retain_metric=None\n",
    "):      \n",
    "\n",
    "    #kf = StratifiedKFold(n_splits=k_folds, shuffle=True)\n",
    "    #kf = KFold(n_splits=k_folds, shuffle=True)\n",
    "    all_indices = list(range(len(data)))\n",
    "    train_idx, val_idx = train_test_split(all_indices, test_size=0.1, random_state=12)\n",
    "    fold_metric = []\n",
    "    models = []\n",
    "    fold = 0\n",
    "    initial_prepend = None\n",
    "    \n",
    "    #for train_idx, val_idx in kf.split(data):#, df[\"label\"]):\n",
    "    for trial in range(10):\n",
    "        print(\"Starting trial {}\".format(trial))\n",
    "\n",
    "        # add current fold number to model checkpoint path\n",
    "        if callbacks is not None:\n",
    "            for idx, callback in enumerate(callbacks):\n",
    "                if isinstance(callback, ModelCheckpoint):\n",
    "                    if initial_prepend is None:\n",
    "                        initial_prepend = callbacks[idx].prepend\n",
    "                    callbacks[idx].prepend = initial_prepend + \"cv_fold_{}_\".format(fold)\n",
    "        fold += 1\n",
    "\n",
    "        # restart model\n",
    "        del net\n",
    "        net = SixtyFourNet().cuda(gpu)\n",
    "        \n",
    "        # reset hyperparameters\n",
    "        lr = 1e-4\n",
    "        wd = 1e-4\n",
    "        criterion = nn.BCEWithLogitsLoss().cuda(gpu)\n",
    "        optimizer = optim.Adam(net.parameters(), lr=lr, weight_decay=wd)\n",
    "\n",
    "        train_sampler = SubsetRandomSampler(train_idx)\n",
    "        val_sampler = SubsetRandomSampler(val_idx)\n",
    "        print(\"Shuffled the data..\")\n",
    "\n",
    "        # Note: is the dataset loading necessary again?\n",
    "        if zero_one_normalize:\n",
    "            intensity = IntensityRescale()\n",
    "            ms_data_train = MSDataset(X_train, y_train, transform=transforms.Compose([intensity, ToTensor()]), mask=mask, dtype=dtype)\n",
    "        else:\n",
    "            ms_data_train = MSDataset(X_train, y_train, transform=transforms.Compose([ToTensor()]), mask=mask, dtype=dtype)\n",
    "        \n",
    "        train_loader = DataLoader(\n",
    "            ms_data_train, batch_size=b, num_workers=4, sampler=train_sampler\n",
    "        )\n",
    "        val_loader = DataLoader(\n",
    "            ms_data_train, batch_size=1, num_workers=1, sampler=val_sampler\n",
    "        )\n",
    "\n",
    "        sample = next(iter(train_loader))\n",
    "        img = sample[\"image\"][0]\n",
    "        lbl = sample[\"label\"][0]\n",
    "        print(img.shape)\n",
    "        print(len(train_loader))\n",
    "        plt.imshow(img.squeeze()[:,:,48], cmap='gray')\n",
    "        plt.title(lbl.item())\n",
    "        plt.show()\n",
    "        trainer = Trainer(\n",
    "            net,\n",
    "            criterion,\n",
    "            optimizer,\n",
    "            metrics=metrics,\n",
    "            callbacks=callbacks,\n",
    "            device=gpu,\n",
    "            #scheduler=sched,\n",
    "        )\n",
    "        # train model and store results\n",
    "        net, report = trainer.train_model(\n",
    "            train_loader,\n",
    "            val_loader,\n",
    "            num_epochs=num_epochs,\n",
    "            show_train_steps=20,\n",
    "            show_validation_epochs=1,\n",
    "        )\n",
    "        # append validation score of the retain metric\n",
    "        if isinstance(retain_metric, str):\n",
    "            fold_metric.append(report[\"val_metrics\"][retain_metric][-1])\n",
    "        else:\n",
    "            fold_metric.append(report[\"val_metrics\"][retain_metric.__name__][-1])\n",
    "\n",
    "        models.append(net)\n",
    "        print(\"Finished fold.\")\n",
    "\n",
    "        # visualize result\n",
    "        trainer.visualize_training(report, metrics)\n",
    "        trainer.evaluate_model(val_loader, gpu)\n",
    "\n",
    "    print(\"################################\")\n",
    "    print(\"################################\")\n",
    "    print(\"All accuracies: {}\".format(fold_metric))\n",
    "    return fold_metric, models\n"
   ]
  },
  {
   "cell_type": "code",
   "execution_count": 21,
   "metadata": {
    "collapsed": true
   },
   "outputs": [],
   "source": [
    "num_epochs = 200\n",
    "min_iters = 3\n",
    "ignore_epochs = 5\n",
    "normalize = False\n",
    "retain_metric = balanced_accuracy\n",
    "metrics = [accuracy_score, balanced_accuracy]"
   ]
  },
  {
   "cell_type": "code",
   "execution_count": 22,
   "metadata": {
    "collapsed": true
   },
   "outputs": [],
   "source": [
    "r = 0"
   ]
  },
  {
   "cell_type": "code",
   "execution_count": 23,
   "metadata": {},
   "outputs": [],
   "source": [
    "output_dir = \"/analysis/ritter/projects/Methods/Eitel_local_filter/experiments_submission/models/MS/full_set/experiment/\"\n",
    "callbacks = [EarlyStopping(patience=16, ignore_before=ignore_epochs, retain_metric=\"loss\", mode='min'),\n",
    "             ModelCheckpoint(path=output_dir,\n",
    "                             prepend=\"repeat_{}\".format(r),\n",
    "                             store_best=True,\n",
    "                             ignore_before=ignore_epochs,\n",
    "                             retain_metric=retain_metric)]"
   ]
  },
  {
   "cell_type": "code",
   "execution_count": null,
   "metadata": {
    "scrolled": true
   },
   "outputs": [
    {
     "name": "stdout",
     "output_type": "stream",
     "text": [
      "Starting trial 0\n",
      "Shuffled the data..\n",
      "torch.Size([1, 96, 114, 96])\n",
      "28\n"
     ]
    },
    {
     "data": {
      "image/png": "[encoded data removed]",
      "text/plain": [
       "<Figure size 432x288 with 1 Axes>"
      ]
     },
     "metadata": {},
     "output_type": "display_data"
    },
    {
     "name": "stdout",
     "output_type": "stream",
     "text": [
      "[0,    20] loss: 0.70120\n",
      "Time elapsed: 0h:0m:4s\n",
      "train accuracy_score: 40.54 %\n",
      "train balanced_accuracy: 42.70 %\n",
      "val accuracy_score: 69.23 %\n",
      "val balanced_accuracy: 50.00 %\n",
      "Val loss: 0.683482\n",
      "[1,    20] loss: 0.69506\n",
      "Time elapsed: 0h:0m:9s\n",
      "train accuracy_score: 48.65 %\n",
      "train balanced_accuracy: 49.87 %\n",
      "val accuracy_score: 30.77 %\n",
      "val balanced_accuracy: 50.00 %\n",
      "Val loss: 0.709709\n",
      "[2,    20] loss: 0.69650\n",
      "Time elapsed: 0h:0m:14s\n",
      "train accuracy_score: 51.35 %\n",
      "train balanced_accuracy: 52.30 %\n",
      "val accuracy_score: 46.15 %\n",
      "val balanced_accuracy: 61.11 %\n",
      "Val loss: 0.694282\n",
      "[3,    20] loss: 0.69518\n",
      "Time elapsed: 0h:0m:19s\n",
      "train accuracy_score: 54.95 %\n",
      "train balanced_accuracy: 54.43 %\n",
      "val accuracy_score: 30.77 %\n",
      "val balanced_accuracy: 50.00 %\n",
      "Val loss: 0.716675\n",
      "[4,    20] loss: 0.69029\n",
      "Time elapsed: 0h:0m:24s\n",
      "train accuracy_score: 51.35 %\n",
      "train balanced_accuracy: 48.42 %\n",
      "val accuracy_score: 30.77 %\n",
      "val balanced_accuracy: 50.00 %\n",
      "Val loss: 0.709130\n",
      "[5,    20] loss: 0.69388\n",
      "Time elapsed: 0h:0m:29s\n",
      "train accuracy_score: 57.66 %\n",
      "train balanced_accuracy: 57.43 %\n",
      "val accuracy_score: 30.77 %\n",
      "val balanced_accuracy: 50.00 %\n",
      "Val loss: 0.723216\n",
      "[6,    20] loss: 0.70414\n",
      "Time elapsed: 0h:0m:34s\n",
      "train accuracy_score: 49.55 %\n",
      "train balanced_accuracy: 47.64 %\n",
      "val accuracy_score: 69.23 %\n",
      "val balanced_accuracy: 50.00 %\n",
      "Val loss: 0.667934\n",
      "[7,    20] loss: 0.68685\n",
      "Time elapsed: 0h:0m:39s\n",
      "train accuracy_score: 49.55 %\n",
      "train balanced_accuracy: 52.31 %\n",
      "val accuracy_score: 30.77 %\n",
      "val balanced_accuracy: 50.00 %\n",
      "Val loss: 0.712715\n",
      "[8,    20] loss: 0.68852\n",
      "Time elapsed: 0h:0m:43s\n",
      "train accuracy_score: 54.05 %\n",
      "train balanced_accuracy: 51.19 %\n",
      "val accuracy_score: 53.85 %\n",
      "val balanced_accuracy: 38.89 %\n",
      "Val loss: 0.685793\n",
      "[9,    20] loss: 0.69873\n",
      "Time elapsed: 0h:0m:48s\n",
      "train accuracy_score: 45.05 %\n",
      "train balanced_accuracy: 43.63 %\n",
      "val accuracy_score: 53.85 %\n",
      "val balanced_accuracy: 66.67 %\n",
      "Val loss: 0.689254\n",
      "[10,    20] loss: 0.67420\n",
      "Time elapsed: 0h:0m:53s\n",
      "train accuracy_score: 59.46 %\n",
      "train balanced_accuracy: 58.33 %\n",
      "val accuracy_score: 69.23 %\n",
      "val balanced_accuracy: 50.00 %\n",
      "Val loss: 0.630160\n",
      "[11,    20] loss: 0.71251\n",
      "Time elapsed: 0h:0m:58s\n",
      "train accuracy_score: 45.95 %\n",
      "train balanced_accuracy: 46.87 %\n",
      "val accuracy_score: 76.92 %\n",
      "val balanced_accuracy: 69.44 %\n",
      "Val loss: 0.669649\n",
      "[12,    20] loss: 0.68365\n",
      "Time elapsed: 0h:1m:3s\n",
      "train accuracy_score: 54.95 %\n",
      "train balanced_accuracy: 55.35 %\n",
      "val accuracy_score: 53.85 %\n",
      "val balanced_accuracy: 66.67 %\n",
      "Val loss: 0.691751\n",
      "[13,    20] loss: 0.67938\n",
      "Time elapsed: 0h:1m:8s\n",
      "train accuracy_score: 63.96 %\n",
      "train balanced_accuracy: 62.34 %\n",
      "val accuracy_score: 61.54 %\n",
      "val balanced_accuracy: 65.28 %\n",
      "Val loss: 0.635241\n",
      "[14,    20] loss: 0.65666\n",
      "Time elapsed: 0h:1m:13s\n",
      "train accuracy_score: 60.36 %\n",
      "train balanced_accuracy: 60.43 %\n",
      "val accuracy_score: 69.23 %\n",
      "val balanced_accuracy: 77.78 %\n",
      "Val loss: 0.595479\n",
      "[15,    20] loss: 0.68952\n",
      "Time elapsed: 0h:1m:18s\n",
      "train accuracy_score: 55.86 %\n",
      "train balanced_accuracy: 54.71 %\n",
      "val accuracy_score: 46.15 %\n",
      "val balanced_accuracy: 47.22 %\n",
      "Val loss: 0.666447\n",
      "[16,    20] loss: 0.66605\n",
      "Time elapsed: 0h:1m:22s\n",
      "train accuracy_score: 61.26 %\n",
      "train balanced_accuracy: 61.16 %\n",
      "val accuracy_score: 38.46 %\n",
      "val balanced_accuracy: 55.56 %\n",
      "Val loss: 0.705695\n",
      "[17,    20] loss: 0.65198\n",
      "Time elapsed: 0h:1m:27s\n",
      "train accuracy_score: 62.16 %\n",
      "train balanced_accuracy: 61.44 %\n",
      "val accuracy_score: 61.54 %\n",
      "val balanced_accuracy: 72.22 %\n",
      "Val loss: 0.658016\n",
      "[18,    20] loss: 0.60565\n",
      "Time elapsed: 0h:1m:32s\n",
      "train accuracy_score: 65.77 %\n",
      "train balanced_accuracy: 65.51 %\n",
      "val accuracy_score: 69.23 %\n",
      "val balanced_accuracy: 77.78 %\n",
      "Val loss: 0.602513\n",
      "[19,    20] loss: 0.64326\n",
      "Time elapsed: 0h:1m:37s\n",
      "train accuracy_score: 65.77 %\n",
      "train balanced_accuracy: 65.17 %\n",
      "val accuracy_score: 61.54 %\n",
      "val balanced_accuracy: 72.22 %\n",
      "Val loss: 0.714239\n",
      "[20,    20] loss: 0.59715\n",
      "Time elapsed: 0h:1m:42s\n",
      "train accuracy_score: 70.27 %\n",
      "train balanced_accuracy: 70.21 %\n",
      "val accuracy_score: 76.92 %\n",
      "val balanced_accuracy: 83.33 %\n",
      "Val loss: 0.526843\n",
      "[21,    20] loss: 0.52249\n",
      "Time elapsed: 0h:1m:47s\n",
      "train accuracy_score: 73.87 %\n",
      "train balanced_accuracy: 73.48 %\n",
      "val accuracy_score: 92.31 %\n",
      "val balanced_accuracy: 94.44 %\n",
      "Val loss: 0.496912\n",
      "[22,    20] loss: 0.58221\n",
      "Time elapsed: 0h:1m:52s\n",
      "train accuracy_score: 75.68 %\n",
      "train balanced_accuracy: 75.64 %\n",
      "val accuracy_score: 84.62 %\n",
      "val balanced_accuracy: 88.89 %\n",
      "Val loss: 0.427806\n",
      "[23,    20] loss: 0.62122\n",
      "Time elapsed: 0h:1m:57s\n",
      "train accuracy_score: 72.07 %\n",
      "train balanced_accuracy: 71.90 %\n",
      "val accuracy_score: 84.62 %\n",
      "val balanced_accuracy: 81.94 %\n",
      "Val loss: 0.348158\n",
      "[24,    20] loss: 0.53320\n",
      "Time elapsed: 0h:2m:1s\n",
      "train accuracy_score: 77.48 %\n",
      "train balanced_accuracy: 77.33 %\n",
      "val accuracy_score: 76.92 %\n",
      "val balanced_accuracy: 83.33 %\n",
      "Val loss: 0.407041\n",
      "[25,    20] loss: 0.45126\n",
      "Time elapsed: 0h:2m:6s\n",
      "train accuracy_score: 80.18 %\n",
      "train balanced_accuracy: 80.10 %\n",
      "val accuracy_score: 53.85 %\n",
      "val balanced_accuracy: 66.67 %\n",
      "Val loss: 0.971507\n",
      "[26,    20] loss: 0.61144\n",
      "Time elapsed: 0h:2m:11s\n",
      "train accuracy_score: 63.96 %\n",
      "train balanced_accuracy: 63.14 %\n",
      "val accuracy_score: 69.23 %\n",
      "val balanced_accuracy: 70.83 %\n",
      "Val loss: 0.378627\n",
      "[27,    20] loss: 0.48912\n",
      "Time elapsed: 0h:2m:16s\n",
      "train accuracy_score: 78.38 %\n",
      "train balanced_accuracy: 78.52 %\n",
      "val accuracy_score: 84.62 %\n",
      "val balanced_accuracy: 81.94 %\n",
      "Val loss: 0.355825\n",
      "[28,    20] loss: 0.45555\n",
      "Time elapsed: 0h:2m:21s\n",
      "train accuracy_score: 81.08 %\n",
      "train balanced_accuracy: 81.06 %\n",
      "val accuracy_score: 92.31 %\n",
      "val balanced_accuracy: 87.50 %\n",
      "Val loss: 0.278929\n",
      "[29,    20] loss: 0.46061\n",
      "Time elapsed: 0h:2m:26s\n",
      "train accuracy_score: 79.28 %\n",
      "train balanced_accuracy: 79.25 %\n",
      "val accuracy_score: 76.92 %\n",
      "val balanced_accuracy: 83.33 %\n",
      "Val loss: 0.498026\n",
      "[30,    20] loss: 0.40688\n",
      "Time elapsed: 0h:2m:31s\n",
      "train accuracy_score: 79.28 %\n",
      "train balanced_accuracy: 79.25 %\n",
      "val accuracy_score: 69.23 %\n",
      "val balanced_accuracy: 77.78 %\n",
      "Val loss: 0.520382\n",
      "[31,    20] loss: 0.44473\n",
      "Time elapsed: 0h:2m:36s\n",
      "train accuracy_score: 81.98 %\n",
      "train balanced_accuracy: 81.68 %\n",
      "val accuracy_score: 76.92 %\n",
      "val balanced_accuracy: 83.33 %\n",
      "Val loss: 0.547922\n",
      "[32,    20] loss: 0.38565\n",
      "Time elapsed: 0h:2m:40s\n",
      "train accuracy_score: 87.39 %\n",
      "train balanced_accuracy: 87.34 %\n",
      "val accuracy_score: 76.92 %\n",
      "val balanced_accuracy: 76.39 %\n",
      "Val loss: 0.394246\n",
      "[33,    20] loss: 0.34022\n",
      "Time elapsed: 0h:2m:45s\n",
      "train accuracy_score: 85.59 %\n",
      "train balanced_accuracy: 85.76 %\n",
      "val accuracy_score: 76.92 %\n",
      "val balanced_accuracy: 83.33 %\n",
      "Val loss: 0.620003\n",
      "[34,    20] loss: 0.32520\n",
      "Time elapsed: 0h:2m:50s\n",
      "train accuracy_score: 87.39 %\n",
      "train balanced_accuracy: 87.45 %\n",
      "val accuracy_score: 61.54 %\n",
      "val balanced_accuracy: 65.28 %\n",
      "Val loss: 0.568541\n",
      "[35,    20] loss: 0.25672\n",
      "Time elapsed: 0h:2m:55s\n",
      "train accuracy_score: 90.99 %\n",
      "train balanced_accuracy: 91.07 %\n",
      "val accuracy_score: 84.62 %\n",
      "val balanced_accuracy: 81.94 %\n",
      "Val loss: 0.305779\n",
      "[36,    20] loss: 0.24288\n",
      "Time elapsed: 0h:3m:0s\n",
      "train accuracy_score: 88.29 %\n",
      "train balanced_accuracy: 88.53 %\n",
      "val accuracy_score: 69.23 %\n",
      "val balanced_accuracy: 77.78 %\n",
      "Val loss: 0.538308\n",
      "[37,    20] loss: 0.18193\n",
      "Time elapsed: 0h:3m:5s\n",
      "train accuracy_score: 92.79 %\n",
      "train balanced_accuracy: 92.99 %\n",
      "val accuracy_score: 69.23 %\n",
      "val balanced_accuracy: 77.78 %\n",
      "Val loss: 0.814224\n",
      "[38,    20] loss: 0.20491\n",
      "Time elapsed: 0h:3m:10s\n",
      "train accuracy_score: 93.69 %\n",
      "train balanced_accuracy: 93.61 %\n",
      "val accuracy_score: 69.23 %\n",
      "val balanced_accuracy: 70.83 %\n",
      "Val loss: 0.566822\n",
      "[39,    20] loss: 0.15863\n",
      "Time elapsed: 0h:3m:15s\n",
      "train accuracy_score: 94.59 %\n",
      "train balanced_accuracy: 94.80 %\n",
      "val accuracy_score: 53.85 %\n",
      "val balanced_accuracy: 59.72 %\n",
      "Val loss: 0.937306\n",
      "[40,    20] loss: 0.12205\n",
      "Time elapsed: 0h:3m:20s\n",
      "train accuracy_score: 96.40 %\n",
      "train balanced_accuracy: 96.27 %\n",
      "val accuracy_score: 69.23 %\n",
      "val balanced_accuracy: 70.83 %\n",
      "Val loss: 0.647437\n",
      "[41,    20] loss: 0.08323\n",
      "Time elapsed: 0h:3m:25s\n",
      "train accuracy_score: 99.10 %\n",
      "train balanced_accuracy: 99.15 %\n",
      "val accuracy_score: 69.23 %\n",
      "val balanced_accuracy: 70.83 %\n",
      "Val loss: 0.653275\n",
      "[42,    20] loss: 0.07512\n",
      "Time elapsed: 0h:3m:30s\n",
      "train accuracy_score: 98.20 %\n",
      "train balanced_accuracy: 98.31 %\n",
      "val accuracy_score: 53.85 %\n",
      "val balanced_accuracy: 59.72 %\n",
      "Val loss: 1.249407\n"
     ]
    },
    {
     "name": "stdout",
     "output_type": "stream",
     "text": [
      "[43,    20] loss: 0.04674\n",
      "Time elapsed: 0h:3m:34s\n",
      "train accuracy_score: 99.10 %\n",
      "train balanced_accuracy: 99.04 %\n",
      "val accuracy_score: 61.54 %\n",
      "val balanced_accuracy: 65.28 %\n",
      "Val loss: 0.759918\n",
      "[44,    20] loss: 0.08538\n",
      "Time elapsed: 0h:3m:39s\n",
      "train accuracy_score: 98.20 %\n",
      "train balanced_accuracy: 98.19 %\n",
      "val accuracy_score: 61.54 %\n",
      "val balanced_accuracy: 65.28 %\n",
      "Val loss: 0.459920\n",
      "Early stopping in epoch 45\n",
      "Total time elapsed: 0h:3m:40s\n",
      "Writing model to disk...\n",
      "Best result during training: 0.94. Saving model..\n",
      "Finished fold.\n"
     ]
    },
    {
     "data": {
      "image/png": "[encoded data removed]",
      "text/plain": [
       "<Figure size 432x288 with 1 Axes>"
      ]
     },
     "metadata": {},
     "output_type": "display_data"
    },
    {
     "data": {
      "image/png": "[encoded data removed]",
      "text/plain": [
       "<Figure size 432x288 with 1 Axes>"
      ]
     },
     "metadata": {},
     "output_type": "display_data"
    },
    {
     "data": {
      "image/png": "[encoded data removed]",
      "text/plain": [
       "<Figure size 432x288 with 1 Axes>"
      ]
     },
     "metadata": {},
     "output_type": "display_data"
    },
    {
     "data": {
      "image/png": "[encoded data removed]",
      "text/plain": [
       "<Figure size 432x288 with 1 Axes>"
      ]
     },
     "metadata": {},
     "output_type": "display_data"
    },
    {
     "name": "stdout",
     "output_type": "stream",
     "text": [
      "Starting trial 1\n",
      "Shuffled the data..\n",
      "torch.Size([1, 96, 114, 96])\n",
      "28\n"
     ]
    },
    {
     "data": {
      "image/png": "[encoded data removed]",
      "text/plain": [
       "<Figure size 432x288 with 1 Axes>"
      ]
     },
     "metadata": {},
     "output_type": "display_data"
    },
    {
     "name": "stdout",
     "output_type": "stream",
     "text": [
      "[0,    20] loss: 0.69986\n",
      "Time elapsed: 0h:0m:4s\n",
      "train accuracy_score: 54.95 %\n",
      "train balanced_accuracy: 55.69 %\n",
      "val accuracy_score: 30.77 %\n",
      "val balanced_accuracy: 50.00 %\n",
      "Val loss: 0.723309\n",
      "[1,    20] loss: 0.70041\n",
      "Time elapsed: 0h:0m:9s\n",
      "train accuracy_score: 52.25 %\n",
      "train balanced_accuracy: 49.95 %\n",
      "val accuracy_score: 76.92 %\n",
      "val balanced_accuracy: 69.44 %\n",
      "Val loss: 0.690136\n",
      "[2,    20] loss: 0.68935\n",
      "Time elapsed: 0h:0m:14s\n",
      "train accuracy_score: 53.15 %\n",
      "train balanced_accuracy: 51.48 %\n",
      "val accuracy_score: 53.85 %\n",
      "val balanced_accuracy: 52.78 %\n",
      "Val loss: 0.689625\n",
      "[3,    20] loss: 0.68100\n",
      "Time elapsed: 0h:0m:19s\n",
      "train accuracy_score: 51.35 %\n",
      "train balanced_accuracy: 51.04 %\n",
      "val accuracy_score: 30.77 %\n",
      "val balanced_accuracy: 50.00 %\n",
      "Val loss: 0.943675\n",
      "[4,    20] loss: 0.69821\n",
      "Time elapsed: 0h:0m:24s\n",
      "train accuracy_score: 54.95 %\n",
      "train balanced_accuracy: 53.98 %\n",
      "val accuracy_score: 38.46 %\n",
      "val balanced_accuracy: 48.61 %\n",
      "Val loss: 0.707731\n",
      "[5,    20] loss: 0.69065\n",
      "Time elapsed: 0h:0m:29s\n",
      "train accuracy_score: 53.15 %\n",
      "train balanced_accuracy: 52.97 %\n",
      "val accuracy_score: 38.46 %\n",
      "val balanced_accuracy: 55.56 %\n",
      "Val loss: 0.712879\n",
      "[6,    20] loss: 0.71162\n",
      "Time elapsed: 0h:0m:58s\n",
      "train accuracy_score: 60.36 %\n",
      "train balanced_accuracy: 59.40 %\n",
      "val accuracy_score: 69.23 %\n",
      "val balanced_accuracy: 63.89 %\n",
      "Val loss: 0.685285\n"
     ]
    }
   ],
   "source": [
    "fold_metric, models = run(net=net, data=ms_data_train,\n",
    "                  k_folds=-1,\n",
    "                  callbacks=callbacks,\n",
    "                  shape=-1,\n",
    "                  masked=False,\n",
    "                  metrics=metrics,\n",
    "                  num_epochs=num_epochs,\n",
    "                  retain_metric=retain_metric,\n",
    "                  b=b\n",
    "                 )\n",
    "\n",
    "print(np.mean(fold_metric))\n",
    "print(np.std(fold_metric))"
   ]
  },
  {
   "cell_type": "code",
   "execution_count": null,
   "metadata": {},
   "outputs": [],
   "source": [
    "5/0"
   ]
  },
  {
   "cell_type": "markdown",
   "metadata": {
    "collapsed": true
   },
   "source": [
    "# Start inference"
   ]
  },
  {
   "cell_type": "code",
   "execution_count": null,
   "metadata": {
    "collapsed": true
   },
   "outputs": [],
   "source": [
    "test_loader = DataLoader(\n",
    "            ms_data_test, batch_size=1, num_workers=1, shuffle=False\n",
    ")"
   ]
  },
  {
   "cell_type": "code",
   "execution_count": null,
   "metadata": {
    "scrolled": true
   },
   "outputs": [],
   "source": [
    "metrics = []\n",
    "lr = 1e-5\n",
    "wd = 1e-3\n",
    "criterion = nn.BCEWithLogitsLoss().cuda(gpu)\n",
    "optimizer = optim.Adam(net.parameters(), lr=lr, weight_decay=wd)\n",
    "    \n",
    "for fold, model in enumerate(models):\n",
    "    print(\"Fold {}\".format(fold))\n",
    "\n",
    "    all_preds = []\n",
    "    all_labels = []\n",
    "    \n",
    "    net = model.cuda(gpu)\n",
    "    net.eval()\n",
    "    with torch.no_grad():\n",
    "        for sample in test_loader:\n",
    "            img = sample[\"image\"]\n",
    "            label = sample[\"label\"]\n",
    "\n",
    "            img = img.to(torch.device(\"cuda:\" + str(gpu)))\n",
    "\n",
    "            output = net.forward(img)\n",
    "            pred = torch.sigmoid(output) >= 0.5\n",
    "            all_preds.append(pred.cpu().numpy().item())\n",
    "            all_labels.append(label.numpy().item())\n",
    "    \n",
    "    #print(all_preds)\n",
    "    #print(all_labels)\n",
    "    balanced_acc = balanced_accuracy(all_labels, all_preds)\n",
    "    print(balanced_acc)\n",
    "    '''trainer = Trainer(\n",
    "                net,\n",
    "                criterion,\n",
    "                optimizer,\n",
    "                scheduler=None,\n",
    "                metrics=metrics,\n",
    "                callbacks=None,\n",
    "                device=gpu,\n",
    "                prediction_type=\"binary\"\n",
    "            )\n",
    "    computed_metrics = trainer.evaluate_model(test_loader, metrics=[balanced_accuracy])'''\n",
    "    net.train()\n",
    "    metrics.append(balanced_acc)\n",
    "print(\"######## Final results ########\")\n",
    "metrics_df = pd.DataFrame(metrics)\n",
    "print(metrics_df)\n",
    "print(\"Balanced accuracy mean {:.2f} %\".format(np.mean(metrics_df[0])*100))\n"
   ]
  },
  {
   "cell_type": "code",
   "execution_count": null,
   "metadata": {
    "collapsed": true
   },
   "outputs": [],
   "source": []
  },
  {
   "cell_type": "code",
   "execution_count": null,
   "metadata": {
    "collapsed": true
   },
   "outputs": [],
   "source": [
    "\n",
    "# load holdout set\n",
    "df = pd.read_csv(doc_dir)\n",
    "df = df.loc[indices_holdout]\n",
    "\n",
    "metrics = []\n",
    "callbacks = []\n",
    "\n",
    "criterion = nn.BCEWithLogitsLoss().cuda(gpu)\n",
    "optimizer = optim.Adam(net.parameters(), lr=0.0001, weight_decay=0)\n",
    "\n",
    "if zero_one_normalize:\n",
    "    test_transforms = transforms.Compose([intensity, ToTensor()])\n",
    "else:\n",
    "    test_transforms = transforms.Compose([ToTensor()])\n",
    "    \n",
    "cis_data_test = CISDataset(X_holdout, y_holdout, transform=test_transforms, mask=mask, dtype=dtype)\n",
    "test_loader = DataLoader(\n",
    "    cis_data_test, batch_size=4, num_workers=2, shuffle=True\n",
    "        )"
   ]
  },
  {
   "cell_type": "code",
   "execution_count": null,
   "metadata": {
    "collapsed": true
   },
   "outputs": [],
   "source": [
    "cis_data[4][\"image\"].dtype"
   ]
  },
  {
   "cell_type": "code",
   "execution_count": null,
   "metadata": {
    "collapsed": true
   },
   "outputs": [],
   "source": [
    "next(iter(test_loader))[\"image\"].dtype"
   ]
  },
  {
   "cell_type": "code",
   "execution_count": null,
   "metadata": {
    "collapsed": true
   },
   "outputs": [],
   "source": [
    "model_dirs = [os.path.join(output_dir, \"repeat_0_cv_fold_6_training_epoch_28_FINAL.h5\"),\n",
    "os.path.join(output_dir, \"repeat_0_cv_fold_5_training_epoch_87_FINAL.h5\"),\n",
    "os.path.join(output_dir, \"repeat_0_cv_fold_4_training_epoch_30_FINAL.h5\"),\n",
    "os.path.join(output_dir, \"repeat_0_cv_fold_3_training_epoch_40_FINAL.h5\"),\n",
    "os.path.join(output_dir, \"repeat_0_cv_fold_2_training_epoch_30_FINAL.h5\"),\n",
    "os.path.join(output_dir, \"repeat_0_cv_fold_1_training_epoch_25_FINAL.h5\"),\n",
    "os.path.join(output_dir, \"repeat_0_cv_fold_0_training_epoch_32_FINAL.h5\")]"
   ]
  },
  {
   "cell_type": "code",
   "execution_count": null,
   "metadata": {
    "collapsed": true,
    "scrolled": true
   },
   "outputs": [],
   "source": [
    "model_dirs = [os.path.join(output_dir,\"repeat_0_cv_fold_{}_BEST_ITERATION.h5\".format(i)) for i in range(7)]\n",
    "metrics = []\n",
    "for fold, model_dir in enumerate(model_dirs):\n",
    "    print(\"Fold {}\".format(fold))\n",
    "    \n",
    "    # load pre-trained model\n",
    "    #net = SixtyFourNet().cuda(gpu)\n",
    "    net = serialize_model(net, model_dir)\n",
    "\n",
    "    trainer = Trainer(\n",
    "                net,\n",
    "                criterion,\n",
    "                optimizer,\n",
    "                scheduler=None,\n",
    "                metrics=metrics,\n",
    "                callbacks=None,\n",
    "                device=gpu,\n",
    "                prediction_type=\"binary\"\n",
    "            )\n",
    "    computed_metrics = trainer.evaluate_model(test_loader, metrics=[balanced_accuracy])\n",
    "    \n",
    "    metrics.append(computed_metrics)\n",
    "print(\"######## Final results ########\")\n",
    "metrics_df = pd.DataFrame(metrics)\n",
    "print(metrics_df)\n",
    "print(\"Balanced accuracy mean {:.2f} %\".format(np.mean(metrics_df[\"balanced_accuracy\"])*100))\n"
   ]
  },
  {
   "cell_type": "code",
   "execution_count": null,
   "metadata": {
    "collapsed": true,
    "scrolled": true
   },
   "outputs": [],
   "source": [
    "for i, m in enumerate(models):\n",
    "    print(i)\n",
    "    for param in m.parameters():\n",
    "        print(param.grad.norm(2))"
   ]
  },
  {
   "cell_type": "code",
   "execution_count": null,
   "metadata": {
    "collapsed": true
   },
   "outputs": [],
   "source": [
    "all_weight_norms = {}\n",
    "all_bias_norms = {}\n",
    "for i, m in enumerate(models):\n",
    "    bias_norms = {}\n",
    "    weight_norms = {}\n",
    "    print(i)\n",
    "    for name, param in m.named_parameters():\n",
    "        #norms.append(param.grad.norm(2))\n",
    "        norm = param.grad.norm(2)\n",
    "        if name.endswith(\"bias\"):\n",
    "            name = name.replace(\".bias\", \"\")\n",
    "            bias_norms[\"layer_{}\".format(name)] = norm\n",
    "        elif name.endswith(\"weight\"):\n",
    "            name = name.replace(\".weight\", \"\")\n",
    "            weight_norms[\"layer_{}\".format(name)] = norm\n",
    "    all_weight_norms[\"fold_{}\".format(i)] = weight_norms\n",
    "    all_bias_norms[\"fold_{}\".format(i)] = bias_norms"
   ]
  },
  {
   "cell_type": "code",
   "execution_count": null,
   "metadata": {
    "collapsed": true
   },
   "outputs": [],
   "source": [
    "list(metrics_df[\"balanced_accuracy\"])"
   ]
  },
  {
   "cell_type": "code",
   "execution_count": null,
   "metadata": {
    "collapsed": true,
    "scrolled": false
   },
   "outputs": [],
   "source": [
    "num_cols = 2\n",
    "num_rows = 4\n",
    "plt.figure()\n",
    "c = 1\n",
    "r = 1\n",
    "\n",
    "plt.figure(figsize=(12, 24))\n",
    "plt.subplots_adjust(hspace=0.9, wspace=0.2)\n",
    "for f in range(len(models)):\n",
    "    plt.subplot(num_rows, num_cols, f+1)\n",
    "    plt.plot(*zip(*sorted(all_weight_norms[\"fold_{}\".format(f)].items())))\n",
    "    plt.plot(*zip(*sorted(all_bias_norms[\"fold_{}\".format(f)].items())))\n",
    "    plt.legend([\"Weights\", \"Biases\"])\n",
    "    plt.title(\"Fold {} Test balanced acc {:.2f}\".format(f, metrics_df[\"balanced_accuracy\"][f]))\n",
    "    plt.xticks(rotation=90)\n",
    "    axes = plt.gca()\n",
    "    axes.set_ylim([0, 1])\n",
    "    c += 1\n",
    "plt.show()\n",
    "    "
   ]
  },
  {
   "cell_type": "code",
   "execution_count": null,
   "metadata": {
    "collapsed": true
   },
   "outputs": [],
   "source": []
  }
 ],
 "metadata": {
  "kernelspec": {
   "display_name": "Python (mort1)",
   "language": "python",
   "name": "mort1"
  },
  "language_info": {
   "codemirror_mode": {
    "name": "ipython",
    "version": 3
   },
   "file_extension": ".py",
   "mimetype": "text/x-python",
   "name": "python",
   "nbconvert_exporter": "python",
   "pygments_lexer": "ipython3",
   "version": "3.6.5"
  }
 },
 "nbformat": 4,
 "nbformat_minor": 2
}
