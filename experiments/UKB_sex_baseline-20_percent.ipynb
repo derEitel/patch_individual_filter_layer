{
 "cells": [
  {
   "cell_type": "code",
   "execution_count": 1,
   "metadata": {
    "collapsed": true
   },
   "outputs": [],
   "source": [
    "%matplotlib inline"
   ]
  },
  {
   "cell_type": "code",
   "execution_count": 2,
   "metadata": {
    "collapsed": true
   },
   "outputs": [],
   "source": [
    "%load_ext autoreload\n",
    "%autoreload 2"
   ]
  },
  {
   "cell_type": "code",
   "execution_count": 3,
   "metadata": {},
   "outputs": [
    {
     "name": "stderr",
     "output_type": "stream",
     "text": [
      "/home/fabiane/anaconda2/envs/mort1/lib/python3.6/importlib/_bootstrap.py:219: RuntimeWarning: numpy.dtype size changed, may indicate binary incompatibility. Expected 96, got 88\n",
      "  return f(*args, **kwds)\n",
      "/home/fabiane/anaconda2/envs/mort1/lib/python3.6/site-packages/h5py/__init__.py:36: FutureWarning: Conversion of the second argument of issubdtype from `float` to `np.floating` is deprecated. In future, it will be treated as `np.float64 == np.dtype(float).type`.\n",
      "  from ._conv import register_converters as _register_converters\n"
     ]
    }
   ],
   "source": [
    "import glob\n",
    "import h5py"
   ]
  },
  {
   "cell_type": "code",
   "execution_count": 4,
   "metadata": {
    "collapsed": true
   },
   "outputs": [],
   "source": [
    "import os\n",
    "import sys\n",
    "import time\n",
    "import matplotlib.pyplot as plt\n",
    "import numpy as np\n",
    "import pandas as pd\n",
    "\n",
    "# pytorch\n",
    "import torch\n",
    "import torch.nn as nn\n",
    "import torch.nn.functional as F\n",
    "import torch.optim as optim\n",
    "from torchvision import transforms\n",
    "from torch.utils.data import Dataset, DataLoader, SubsetRandomSampler, random_split\n",
    "\n",
    "# sklearn functions\n",
    "from sklearn.metrics import accuracy_score, roc_auc_score\n",
    "from sklearn.model_selection import train_test_split, KFold, GroupShuffleSplit\n",
    "\n",
    "# load functions from nitorch\n",
    "sys.path.insert(0,\"/analysis/fabiane/phd/nitorch/\")\n",
    "from nitorch.data import load_nifti\n",
    "from nitorch.transforms import  ToTensor, SagittalTranslate, SagittalFlip, \\\n",
    "                                AxialTranslate, normalization_factors, Normalize, \\\n",
    "                                IntensityRescale\n",
    "from nitorch.callbacks import EarlyStopping, ModelCheckpoint\n",
    "from nitorch.trainer import Trainer\n",
    "from nitorch.initialization import weights_init\n",
    "from nitorch.metrics import balanced_accuracy, sensitivity, specificity\n",
    "from nitorch.utils import count_parameters"
   ]
  },
  {
   "cell_type": "code",
   "execution_count": 5,
   "metadata": {},
   "outputs": [
    {
     "data": {
      "text/plain": [
       "'1.0.0'"
      ]
     },
     "execution_count": 5,
     "metadata": {},
     "output_type": "execute_result"
    }
   ],
   "source": [
    "torch.__version__"
   ]
  },
  {
   "cell_type": "code",
   "execution_count": 6,
   "metadata": {
    "collapsed": true
   },
   "outputs": [],
   "source": [
    "gpu = 5\n",
    "multi_gpus = None #[0, 1, 2]\n",
    "b = 8\n",
    "zero_one_normalize = False\n",
    "dtype = np.float64"
   ]
  },
  {
   "cell_type": "code",
   "execution_count": 7,
   "metadata": {
    "collapsed": true
   },
   "outputs": [],
   "source": [
    "# load mask\n",
    "mask = None"
   ]
  },
  {
   "cell_type": "code",
   "execution_count": 8,
   "metadata": {
    "collapsed": true
   },
   "outputs": [],
   "source": [
    "table = \"/ritter/share/projects/UKbiobank/Eitel_ICD/tables/participants_transMRI_T1-ICD10_G_binary-under.csv\""
   ]
  },
  {
   "cell_type": "code",
   "execution_count": 9,
   "metadata": {},
   "outputs": [
    {
     "data": {
      "text/html": [
       "<div>\n",
       "<style scoped>\n",
       "    .dataframe tbody tr th:only-of-type {\n",
       "        vertical-align: middle;\n",
       "    }\n",
       "\n",
       "    .dataframe tbody tr th {\n",
       "        vertical-align: top;\n",
       "    }\n",
       "\n",
       "    .dataframe thead th {\n",
       "        text-align: right;\n",
       "    }\n",
       "</style>\n",
       "<table border=\"1\" class=\"dataframe\">\n",
       "  <thead>\n",
       "    <tr style=\"text-align: right;\">\n",
       "      <th></th>\n",
       "      <th>Unnamed: 0</th>\n",
       "      <th>PTID</th>\n",
       "      <th>file_path</th>\n",
       "      <th>T2</th>\n",
       "      <th>Encoded anonymised participant ID</th>\n",
       "      <th>T1 structural brain images - NIFTI Index: 2.0</th>\n",
       "      <th>T2 FLAIR structural brain images - NIFTI Index: 2.0</th>\n",
       "      <th>Functional brain images - task - NIFTI Index: 2.0</th>\n",
       "      <th>Sex</th>\n",
       "      <th>ICD10_F_cat</th>\n",
       "      <th>...</th>\n",
       "      <th>Illness2Years2</th>\n",
       "      <th>MoodSwings_diff</th>\n",
       "      <th>Sensitivity_diff</th>\n",
       "      <th>Nervous_diff</th>\n",
       "      <th>Worrier_diff</th>\n",
       "      <th>TenseHighlyStung_diff</th>\n",
       "      <th>Loneliness_diff</th>\n",
       "      <th>RiskTaking_diff</th>\n",
       "      <th>Happiness_diff</th>\n",
       "      <th>FamilyRelation_diff</th>\n",
       "    </tr>\n",
       "  </thead>\n",
       "  <tbody>\n",
       "    <tr>\n",
       "      <th>0</th>\n",
       "      <td>0</td>\n",
       "      <td>1100042</td>\n",
       "      <td>/analysis/ritter/data/UKbiobank/UKBiobank_BIDS...</td>\n",
       "      <td>/analysis/ritter/data/UKbiobank/UKBiobank_BIDS...</td>\n",
       "      <td>1100042</td>\n",
       "      <td>20252_2_0</td>\n",
       "      <td>20253_2_0</td>\n",
       "      <td>20249_2_0</td>\n",
       "      <td>Female</td>\n",
       "      <td>[]</td>\n",
       "      <td>...</td>\n",
       "      <td>0None</td>\n",
       "      <td>0YY</td>\n",
       "      <td>0YY</td>\n",
       "      <td>1NN</td>\n",
       "      <td>0YY</td>\n",
       "      <td>1NN</td>\n",
       "      <td>1NN</td>\n",
       "      <td>1NN</td>\n",
       "      <td>9Na</td>\n",
       "      <td>9Na</td>\n",
       "    </tr>\n",
       "    <tr>\n",
       "      <th>1</th>\n",
       "      <td>1</td>\n",
       "      <td>1100675</td>\n",
       "      <td>/analysis/ritter/data/UKbiobank/UKBiobank_BIDS...</td>\n",
       "      <td>/analysis/ritter/data/UKbiobank/UKBiobank_BIDS...</td>\n",
       "      <td>1100675</td>\n",
       "      <td>20252_2_0</td>\n",
       "      <td>20253_2_0</td>\n",
       "      <td>20249_2_0</td>\n",
       "      <td>Female</td>\n",
       "      <td>[]</td>\n",
       "      <td>...</td>\n",
       "      <td>0None</td>\n",
       "      <td>1NN</td>\n",
       "      <td>9else</td>\n",
       "      <td>1NN</td>\n",
       "      <td>0YY</td>\n",
       "      <td>9else</td>\n",
       "      <td>1NN</td>\n",
       "      <td>9else</td>\n",
       "      <td>9Na</td>\n",
       "      <td>9Na</td>\n",
       "    </tr>\n",
       "    <tr>\n",
       "      <th>2</th>\n",
       "      <td>2</td>\n",
       "      <td>1180478</td>\n",
       "      <td>/analysis/ritter/data/UKbiobank/UKBiobank_BIDS...</td>\n",
       "      <td>/analysis/ritter/data/UKbiobank/UKBiobank_BIDS...</td>\n",
       "      <td>1180478</td>\n",
       "      <td>20252_2_0</td>\n",
       "      <td>20253_2_0</td>\n",
       "      <td>20249_2_0</td>\n",
       "      <td>Female</td>\n",
       "      <td>[]</td>\n",
       "      <td>...</td>\n",
       "      <td>0None</td>\n",
       "      <td>0YY</td>\n",
       "      <td>0YY</td>\n",
       "      <td>1NN</td>\n",
       "      <td>2YN</td>\n",
       "      <td>0YY</td>\n",
       "      <td>1NN</td>\n",
       "      <td>0YY</td>\n",
       "      <td>9Na</td>\n",
       "      <td>9Na</td>\n",
       "    </tr>\n",
       "    <tr>\n",
       "      <th>3</th>\n",
       "      <td>3</td>\n",
       "      <td>1112124</td>\n",
       "      <td>/analysis/ritter/data/UKbiobank/UKBiobank_BIDS...</td>\n",
       "      <td>/analysis/ritter/data/UKbiobank/UKBiobank_BIDS...</td>\n",
       "      <td>1112124</td>\n",
       "      <td>20252_2_0</td>\n",
       "      <td>20253_2_0</td>\n",
       "      <td>20249_2_0</td>\n",
       "      <td>Male</td>\n",
       "      <td>[]</td>\n",
       "      <td>...</td>\n",
       "      <td>0None</td>\n",
       "      <td>9else</td>\n",
       "      <td>0YY</td>\n",
       "      <td>0YY</td>\n",
       "      <td>0YY</td>\n",
       "      <td>9else</td>\n",
       "      <td>1NN</td>\n",
       "      <td>1NN</td>\n",
       "      <td>9Na</td>\n",
       "      <td>9Na</td>\n",
       "    </tr>\n",
       "    <tr>\n",
       "      <th>4</th>\n",
       "      <td>4</td>\n",
       "      <td>1148079</td>\n",
       "      <td>/analysis/ritter/data/UKbiobank/UKBiobank_BIDS...</td>\n",
       "      <td>/analysis/ritter/data/UKbiobank/UKBiobank_BIDS...</td>\n",
       "      <td>1148079</td>\n",
       "      <td>20252_2_0</td>\n",
       "      <td>20253_2_0</td>\n",
       "      <td>20249_2_0</td>\n",
       "      <td>Female</td>\n",
       "      <td>[]</td>\n",
       "      <td>...</td>\n",
       "      <td>3SitY</td>\n",
       "      <td>3NY</td>\n",
       "      <td>0YY</td>\n",
       "      <td>3NY</td>\n",
       "      <td>0YY</td>\n",
       "      <td>3NY</td>\n",
       "      <td>1NN</td>\n",
       "      <td>1NN</td>\n",
       "      <td>9Na</td>\n",
       "      <td>9Na</td>\n",
       "    </tr>\n",
       "  </tbody>\n",
       "</table>\n",
       "<p>5 rows × 156 columns</p>\n",
       "</div>"
      ],
      "text/plain": [
       "   Unnamed: 0     PTID                                          file_path  \\\n",
       "0           0  1100042  /analysis/ritter/data/UKbiobank/UKBiobank_BIDS...   \n",
       "1           1  1100675  /analysis/ritter/data/UKbiobank/UKBiobank_BIDS...   \n",
       "2           2  1180478  /analysis/ritter/data/UKbiobank/UKBiobank_BIDS...   \n",
       "3           3  1112124  /analysis/ritter/data/UKbiobank/UKBiobank_BIDS...   \n",
       "4           4  1148079  /analysis/ritter/data/UKbiobank/UKBiobank_BIDS...   \n",
       "\n",
       "                                                  T2  \\\n",
       "0  /analysis/ritter/data/UKbiobank/UKBiobank_BIDS...   \n",
       "1  /analysis/ritter/data/UKbiobank/UKBiobank_BIDS...   \n",
       "2  /analysis/ritter/data/UKbiobank/UKBiobank_BIDS...   \n",
       "3  /analysis/ritter/data/UKbiobank/UKBiobank_BIDS...   \n",
       "4  /analysis/ritter/data/UKbiobank/UKBiobank_BIDS...   \n",
       "\n",
       "   Encoded anonymised participant ID  \\\n",
       "0                            1100042   \n",
       "1                            1100675   \n",
       "2                            1180478   \n",
       "3                            1112124   \n",
       "4                            1148079   \n",
       "\n",
       "  T1 structural brain images - NIFTI Index: 2.0  \\\n",
       "0                                     20252_2_0   \n",
       "1                                     20252_2_0   \n",
       "2                                     20252_2_0   \n",
       "3                                     20252_2_0   \n",
       "4                                     20252_2_0   \n",
       "\n",
       "  T2 FLAIR structural brain images - NIFTI Index: 2.0  \\\n",
       "0                                          20253_2_0    \n",
       "1                                          20253_2_0    \n",
       "2                                          20253_2_0    \n",
       "3                                          20253_2_0    \n",
       "4                                          20253_2_0    \n",
       "\n",
       "  Functional brain images - task - NIFTI Index: 2.0     Sex ICD10_F_cat  \\\n",
       "0                                         20249_2_0  Female          []   \n",
       "1                                         20249_2_0  Female          []   \n",
       "2                                         20249_2_0  Female          []   \n",
       "3                                         20249_2_0    Male          []   \n",
       "4                                         20249_2_0  Female          []   \n",
       "\n",
       "          ...          Illness2Years2  MoodSwings_diff Sensitivity_diff  \\\n",
       "0         ...                   0None              0YY              0YY   \n",
       "1         ...                   0None              1NN            9else   \n",
       "2         ...                   0None              0YY              0YY   \n",
       "3         ...                   0None            9else              0YY   \n",
       "4         ...                   3SitY              3NY              0YY   \n",
       "\n",
       "  Nervous_diff Worrier_diff TenseHighlyStung_diff  Loneliness_diff  \\\n",
       "0          1NN          0YY                   1NN              1NN   \n",
       "1          1NN          0YY                 9else              1NN   \n",
       "2          1NN          2YN                   0YY              1NN   \n",
       "3          0YY          0YY                 9else              1NN   \n",
       "4          3NY          0YY                   3NY              1NN   \n",
       "\n",
       "   RiskTaking_diff  Happiness_diff  FamilyRelation_diff  \n",
       "0              1NN             9Na                  9Na  \n",
       "1            9else             9Na                  9Na  \n",
       "2              0YY             9Na                  9Na  \n",
       "3              1NN             9Na                  9Na  \n",
       "4              1NN             9Na                  9Na  \n",
       "\n",
       "[5 rows x 156 columns]"
      ]
     },
     "execution_count": 9,
     "metadata": {},
     "output_type": "execute_result"
    }
   ],
   "source": [
    "# load dataset and show first 5 rows\n",
    "df = pd.read_csv(table)\n",
    "df.head()"
   ]
  },
  {
   "cell_type": "code",
   "execution_count": 10,
   "metadata": {},
   "outputs": [
    {
     "data": {
      "text/html": [
       "<div>\n",
       "<style scoped>\n",
       "    .dataframe tbody tr th:only-of-type {\n",
       "        vertical-align: middle;\n",
       "    }\n",
       "\n",
       "    .dataframe tbody tr th {\n",
       "        vertical-align: top;\n",
       "    }\n",
       "\n",
       "    .dataframe thead th {\n",
       "        text-align: right;\n",
       "    }\n",
       "</style>\n",
       "<table border=\"1\" class=\"dataframe\">\n",
       "  <thead>\n",
       "    <tr style=\"text-align: right;\">\n",
       "      <th></th>\n",
       "      <th>Unnamed: 0</th>\n",
       "      <th>PTID</th>\n",
       "      <th>file_path</th>\n",
       "      <th>T2</th>\n",
       "      <th>Encoded anonymised participant ID</th>\n",
       "      <th>T1 structural brain images - NIFTI Index: 2.0</th>\n",
       "      <th>T2 FLAIR structural brain images - NIFTI Index: 2.0</th>\n",
       "      <th>Functional brain images - task - NIFTI Index: 2.0</th>\n",
       "      <th>Sex</th>\n",
       "      <th>ICD10_F_cat</th>\n",
       "      <th>...</th>\n",
       "      <th>Illness2Years2</th>\n",
       "      <th>MoodSwings_diff</th>\n",
       "      <th>Sensitivity_diff</th>\n",
       "      <th>Nervous_diff</th>\n",
       "      <th>Worrier_diff</th>\n",
       "      <th>TenseHighlyStung_diff</th>\n",
       "      <th>Loneliness_diff</th>\n",
       "      <th>RiskTaking_diff</th>\n",
       "      <th>Happiness_diff</th>\n",
       "      <th>FamilyRelation_diff</th>\n",
       "    </tr>\n",
       "  </thead>\n",
       "  <tbody>\n",
       "    <tr>\n",
       "      <th>791</th>\n",
       "      <td>791</td>\n",
       "      <td>1109592</td>\n",
       "      <td>/analysis/ritter/data/UKbiobank/UKBiobank_BIDS...</td>\n",
       "      <td>/analysis/ritter/data/UKbiobank/UKBiobank_BIDS...</td>\n",
       "      <td>1109592</td>\n",
       "      <td>20252_2_0</td>\n",
       "      <td>20253_2_0</td>\n",
       "      <td>20249_2_0</td>\n",
       "      <td>Female</td>\n",
       "      <td>[]</td>\n",
       "      <td>...</td>\n",
       "      <td>0None</td>\n",
       "      <td>1NN</td>\n",
       "      <td>3NY</td>\n",
       "      <td>1NN</td>\n",
       "      <td>0YY</td>\n",
       "      <td>1NN</td>\n",
       "      <td>1NN</td>\n",
       "      <td>3NY</td>\n",
       "      <td>MH.VH</td>\n",
       "      <td>VH.VH</td>\n",
       "    </tr>\n",
       "    <tr>\n",
       "      <th>1705</th>\n",
       "      <td>1705</td>\n",
       "      <td>1197086</td>\n",
       "      <td>/analysis/ritter/data/UKbiobank/UKBiobank_BIDS...</td>\n",
       "      <td>/analysis/ritter/data/UKbiobank/UKBiobank_BIDS...</td>\n",
       "      <td>1197086</td>\n",
       "      <td>20252_2_0</td>\n",
       "      <td>20253_2_0</td>\n",
       "      <td>20249_2_0</td>\n",
       "      <td>Male</td>\n",
       "      <td>[]</td>\n",
       "      <td>...</td>\n",
       "      <td>0None</td>\n",
       "      <td>0YY</td>\n",
       "      <td>0YY</td>\n",
       "      <td>9else</td>\n",
       "      <td>2YN</td>\n",
       "      <td>3NY</td>\n",
       "      <td>0YY</td>\n",
       "      <td>1NN</td>\n",
       "      <td>9Na</td>\n",
       "      <td>9Na</td>\n",
       "    </tr>\n",
       "    <tr>\n",
       "      <th>167</th>\n",
       "      <td>167</td>\n",
       "      <td>1092621</td>\n",
       "      <td>/analysis/ritter/data/UKbiobank/UKBiobank_BIDS...</td>\n",
       "      <td>/analysis/ritter/data/UKbiobank/UKBiobank_BIDS...</td>\n",
       "      <td>1092621</td>\n",
       "      <td>20252_2_0</td>\n",
       "      <td>20253_2_0</td>\n",
       "      <td>20249_2_0</td>\n",
       "      <td>Female</td>\n",
       "      <td>[]</td>\n",
       "      <td>...</td>\n",
       "      <td>4SitR,5DocR</td>\n",
       "      <td>2YN</td>\n",
       "      <td>1NN</td>\n",
       "      <td>1NN</td>\n",
       "      <td>1NN</td>\n",
       "      <td>1NN</td>\n",
       "      <td>3NY</td>\n",
       "      <td>1NN</td>\n",
       "      <td>9Na</td>\n",
       "      <td>9Na</td>\n",
       "    </tr>\n",
       "    <tr>\n",
       "      <th>331</th>\n",
       "      <td>331</td>\n",
       "      <td>1037619</td>\n",
       "      <td>/analysis/ritter/data/UKbiobank/UKBiobank_BIDS...</td>\n",
       "      <td>/analysis/ritter/data/UKbiobank/UKBiobank_BIDS...</td>\n",
       "      <td>1037619</td>\n",
       "      <td>20252_2_0</td>\n",
       "      <td>20253_2_0</td>\n",
       "      <td>20249_2_0</td>\n",
       "      <td>Male</td>\n",
       "      <td>[]</td>\n",
       "      <td>...</td>\n",
       "      <td>0None</td>\n",
       "      <td>2YN</td>\n",
       "      <td>0YY</td>\n",
       "      <td>3NY</td>\n",
       "      <td>3NY</td>\n",
       "      <td>1NN</td>\n",
       "      <td>1NN</td>\n",
       "      <td>0YY</td>\n",
       "      <td>9Na</td>\n",
       "      <td>9Na</td>\n",
       "    </tr>\n",
       "    <tr>\n",
       "      <th>651</th>\n",
       "      <td>651</td>\n",
       "      <td>1161652</td>\n",
       "      <td>/analysis/ritter/data/UKbiobank/UKBiobank_BIDS...</td>\n",
       "      <td>/analysis/ritter/data/UKbiobank/UKBiobank_BIDS...</td>\n",
       "      <td>1161652</td>\n",
       "      <td>20252_2_0</td>\n",
       "      <td>20253_2_0</td>\n",
       "      <td>20249_2_0</td>\n",
       "      <td>Male</td>\n",
       "      <td>[]</td>\n",
       "      <td>...</td>\n",
       "      <td>0None</td>\n",
       "      <td>3NY</td>\n",
       "      <td>3NY</td>\n",
       "      <td>1NN</td>\n",
       "      <td>0YY</td>\n",
       "      <td>1NN</td>\n",
       "      <td>3NY</td>\n",
       "      <td>2YN</td>\n",
       "      <td>9Na</td>\n",
       "      <td>9Na</td>\n",
       "    </tr>\n",
       "  </tbody>\n",
       "</table>\n",
       "<p>5 rows × 156 columns</p>\n",
       "</div>"
      ],
      "text/plain": [
       "      Unnamed: 0     PTID                                          file_path  \\\n",
       "791          791  1109592  /analysis/ritter/data/UKbiobank/UKBiobank_BIDS...   \n",
       "1705        1705  1197086  /analysis/ritter/data/UKbiobank/UKBiobank_BIDS...   \n",
       "167          167  1092621  /analysis/ritter/data/UKbiobank/UKBiobank_BIDS...   \n",
       "331          331  1037619  /analysis/ritter/data/UKbiobank/UKBiobank_BIDS...   \n",
       "651          651  1161652  /analysis/ritter/data/UKbiobank/UKBiobank_BIDS...   \n",
       "\n",
       "                                                     T2  \\\n",
       "791   /analysis/ritter/data/UKbiobank/UKBiobank_BIDS...   \n",
       "1705  /analysis/ritter/data/UKbiobank/UKBiobank_BIDS...   \n",
       "167   /analysis/ritter/data/UKbiobank/UKBiobank_BIDS...   \n",
       "331   /analysis/ritter/data/UKbiobank/UKBiobank_BIDS...   \n",
       "651   /analysis/ritter/data/UKbiobank/UKBiobank_BIDS...   \n",
       "\n",
       "      Encoded anonymised participant ID  \\\n",
       "791                             1109592   \n",
       "1705                            1197086   \n",
       "167                             1092621   \n",
       "331                             1037619   \n",
       "651                             1161652   \n",
       "\n",
       "     T1 structural brain images - NIFTI Index: 2.0  \\\n",
       "791                                      20252_2_0   \n",
       "1705                                     20252_2_0   \n",
       "167                                      20252_2_0   \n",
       "331                                      20252_2_0   \n",
       "651                                      20252_2_0   \n",
       "\n",
       "     T2 FLAIR structural brain images - NIFTI Index: 2.0  \\\n",
       "791                                           20253_2_0    \n",
       "1705                                          20253_2_0    \n",
       "167                                           20253_2_0    \n",
       "331                                           20253_2_0    \n",
       "651                                           20253_2_0    \n",
       "\n",
       "     Functional brain images - task - NIFTI Index: 2.0     Sex ICD10_F_cat  \\\n",
       "791                                          20249_2_0  Female          []   \n",
       "1705                                         20249_2_0    Male          []   \n",
       "167                                          20249_2_0  Female          []   \n",
       "331                                          20249_2_0    Male          []   \n",
       "651                                          20249_2_0    Male          []   \n",
       "\n",
       "             ...          Illness2Years2  MoodSwings_diff Sensitivity_diff  \\\n",
       "791          ...                   0None              1NN              3NY   \n",
       "1705         ...                   0None              0YY              0YY   \n",
       "167          ...             4SitR,5DocR              2YN              1NN   \n",
       "331          ...                   0None              2YN              0YY   \n",
       "651          ...                   0None              3NY              3NY   \n",
       "\n",
       "     Nervous_diff Worrier_diff TenseHighlyStung_diff  Loneliness_diff  \\\n",
       "791           1NN          0YY                   1NN              1NN   \n",
       "1705        9else          2YN                   3NY              0YY   \n",
       "167           1NN          1NN                   1NN              3NY   \n",
       "331           3NY          3NY                   1NN              1NN   \n",
       "651           1NN          0YY                   1NN              3NY   \n",
       "\n",
       "      RiskTaking_diff  Happiness_diff  FamilyRelation_diff  \n",
       "791               3NY           MH.VH                VH.VH  \n",
       "1705              1NN             9Na                  9Na  \n",
       "167               1NN             9Na                  9Na  \n",
       "331               0YY             9Na                  9Na  \n",
       "651               2YN             9Na                  9Na  \n",
       "\n",
       "[5 rows x 156 columns]"
      ]
     },
     "execution_count": 10,
     "metadata": {},
     "output_type": "execute_result"
    }
   ],
   "source": [
    "# shuffle the dataset\n",
    "df = df.sample(frac=0.2, random_state=23)\n",
    "df.head()"
   ]
  },
  {
   "cell_type": "code",
   "execution_count": 22,
   "metadata": {
    "collapsed": true
   },
   "outputs": [],
   "source": [
    "class UKBGDataset(Dataset):\n",
    "    def __init__(self, dataframe, transform=None, mask=None, z_factor=None):\n",
    "        self.df = dataframe\n",
    "        self.transform = transform\n",
    "        self.mask = mask\n",
    "        self.z_factor = z_factor\n",
    "        \n",
    "    def __len__(self):\n",
    "        return len(self.df)\n",
    "    \n",
    "    def __getitem__(self, idx):\n",
    "        if isinstance(idx, torch.FloatTensor):\n",
    "            idx = idx.item()\n",
    "        idx = int(idx)\n",
    "        \n",
    "        path = self.df.iloc[idx]['file_path']\n",
    "        path = path.replace(\"/analysis/ritter\", \"/ritter/share\")\n",
    "        image = load_nifti(path, mask=self.mask, z_factor=self.z_factor)\n",
    "        \n",
    "        # normalize by max\n",
    "        image /= np.max(image)\n",
    "        \n",
    "        label = self.df.iloc[idx]['Sex']\n",
    "        label = torch.FloatTensor([int(label == \"Male\")])\n",
    "        \n",
    "        if self.transform:\n",
    "            image = self.transform(image)\n",
    "        \n",
    "        sample = {\n",
    "            \"image\" : image,\n",
    "            \"label\" : label\n",
    "         }\n",
    "        return sample"
   ]
  },
  {
   "cell_type": "code",
   "execution_count": 23,
   "metadata": {
    "collapsed": true
   },
   "outputs": [],
   "source": [
    "augmentations = [SagittalFlip(), SagittalTranslate(dist=(-2, 3))]"
   ]
  },
  {
   "cell_type": "code",
   "execution_count": 24,
   "metadata": {
    "collapsed": true
   },
   "outputs": [],
   "source": [
    "intensity = IntensityRescale(masked=False)\n",
    "input_trans = transforms.Compose(augmentations + [intensity, ToTensor()])"
   ]
  },
  {
   "cell_type": "code",
   "execution_count": 25,
   "metadata": {
    "collapsed": true
   },
   "outputs": [],
   "source": [
    "ukb_data = UKBGDataset(df, transform=input_trans, mask=mask)"
   ]
  },
  {
   "cell_type": "code",
   "execution_count": 26,
   "metadata": {},
   "outputs": [
    {
     "data": {
      "text/plain": [
       "371"
      ]
     },
     "execution_count": 26,
     "metadata": {},
     "output_type": "execute_result"
    }
   ],
   "source": [
    "len(ukb_data)"
   ]
  },
  {
   "cell_type": "code",
   "execution_count": 27,
   "metadata": {
    "collapsed": true
   },
   "outputs": [],
   "source": [
    "# split train/test\n",
    "train_df = df.sample(frac=0.8, random_state=32)\n",
    "test_df = df[~df[\"PTID\"].isin(train_df[\"PTID\"])]"
   ]
  },
  {
   "cell_type": "code",
   "execution_count": 28,
   "metadata": {},
   "outputs": [],
   "source": [
    "sample = ukb_data[3]\n",
    "img = sample[\"image\"]"
   ]
  },
  {
   "cell_type": "code",
   "execution_count": 29,
   "metadata": {},
   "outputs": [
    {
     "data": {
      "text/plain": [
       "torch.Size([1, 182, 218, 182])"
      ]
     },
     "execution_count": 29,
     "metadata": {},
     "output_type": "execute_result"
    }
   ],
   "source": [
    "img.shape"
   ]
  },
  {
   "cell_type": "code",
   "execution_count": 30,
   "metadata": {},
   "outputs": [
    {
     "data": {
      "text/plain": [
       "<matplotlib.image.AxesImage at 0x7f8307754400>"
      ]
     },
     "execution_count": 30,
     "metadata": {},
     "output_type": "execute_result"
    },
    {
     "data": {
      "image/png": "[encoded data removed]",
      "text/plain": [
       "<Figure size 432x288 with 1 Axes>"
      ]
     },
     "metadata": {},
     "output_type": "display_data"
    }
   ],
   "source": [
    "plt.imshow(img[0][:,:,40], cmap='gray')"
   ]
  },
  {
   "cell_type": "code",
   "execution_count": 31,
   "metadata": {},
   "outputs": [
    {
     "data": {
      "text/plain": [
       "tensor([1.])"
      ]
     },
     "execution_count": 31,
     "metadata": {},
     "output_type": "execute_result"
    }
   ],
   "source": [
    "sample[\"label\"]"
   ]
  },
  {
   "cell_type": "markdown",
   "metadata": {},
   "source": [
    "# Define the classifier"
   ]
  },
  {
   "cell_type": "code",
   "execution_count": 32,
   "metadata": {
    "collapsed": true
   },
   "outputs": [],
   "source": [
    "class SixtyFourNet(nn.Module):\n",
    "    def __init__(self, drp_rate=0.3):\n",
    "        super(SixtyFourNet, self).__init__()\n",
    "        self.drp_rate = drp_rate\n",
    "        self.drop = nn.Dropout3d(p=self.drp_rate)\n",
    "        self.Conv_1 = nn.Conv3d(1, 8, kernel_size=3, stride=1, padding=0)\n",
    "        self.pool_1 = nn.MaxPool3d(kernel_size=3, stride=3, padding=0)\n",
    "        self.Conv_2 = nn.Conv3d(8, 16, kernel_size=3, stride=1, padding=0)\n",
    "        self.pool_2 = nn.MaxPool3d(kernel_size=3, stride=3, padding=0)\n",
    "        self.Conv_3 = nn.Conv3d(16, 32, kernel_size=3, stride=1, padding=0)\n",
    "        self.Conv_4 = nn.Conv3d(32, 64, kernel_size=3, stride=1, padding=0)\n",
    "        self.pool_4 = nn.MaxPool3d(kernel_size=4, stride=2, padding=0)\n",
    "        self.Conv_5 = nn.Conv3d(64, 64, kernel_size=3, stride=1, padding=0)\n",
    "        self.pool_5 = nn.MaxPool3d(kernel_size=4, stride=2, padding=0)\n",
    "\n",
    "        self.classifier_scratch = nn.Sequential(\n",
    "            nn.Linear(11200, 100),\n",
    "            nn.Linear(100, 1)\n",
    "        )\n",
    "\n",
    "    def encode(self, x, print_size=False):\n",
    "        if print_size:\n",
    "            print(x.shape)\n",
    "        x = F.elu(self.Conv_1(x))\n",
    "        h = self.drop(self.pool_1(x))\n",
    "        x = F.elu(self.Conv_2(h))\n",
    "        if print_size:\n",
    "            print(x.shape)\n",
    "        h = self.drop(self.pool_2(x))\n",
    "        x = F.elu(self.Conv_3(h))\n",
    "        if print_size:\n",
    "            print(x.shape)\n",
    "        x = F.elu(self.Conv_4(x))\n",
    "        if print_size:\n",
    "            print(x.shape)\n",
    "        x = F.elu(self.Conv_5(x))\n",
    "        if print_size:\n",
    "            print(x.shape)\n",
    "        h = self.drop(self.pool_5(x)) \n",
    "        return h\n",
    "\n",
    "    def forward(self, x):\n",
    "        print_size = False\n",
    "        x = self.encode(x, print_size=print_size)\n",
    "        x = self.flatten(x)\n",
    "        x = self.classifier_scratch(x)\n",
    "        return x\n",
    "    \n",
    "    def flatten(self, x):\n",
    "        return x.view(x.size(0), -1)"
   ]
  },
  {
   "cell_type": "code",
   "execution_count": 33,
   "metadata": {
    "collapsed": true
   },
   "outputs": [],
   "source": [
    "if multi_gpus is None:\n",
    "    net = SixtyFourNet().cuda(gpu)\n",
    "else:\n",
    "    net = torch.nn.DataParallel(SixtyFourNet(), device_ids=multi_gpus).cuda(gpu)"
   ]
  },
  {
   "cell_type": "code",
   "execution_count": 34,
   "metadata": {},
   "outputs": [
    {
     "name": "stdout",
     "output_type": "stream",
     "text": [
      "Trainable model parameters: 1303769\n"
     ]
    }
   ],
   "source": [
    "print(\"Trainable model parameters: {}\".format(count_parameters(net)))"
   ]
  },
  {
   "cell_type": "markdown",
   "metadata": {},
   "source": [
    "# Training"
   ]
  },
  {
   "cell_type": "code",
   "execution_count": 25,
   "metadata": {
    "collapsed": true
   },
   "outputs": [],
   "source": [
    "def run(\n",
    "    net,\n",
    "    data,\n",
    "    shape,\n",
    "    callbacks=[],\n",
    "    augmentations=[],\n",
    "    masked=False,\n",
    "    metrics=[],\n",
    "    k_folds=None,\n",
    "    b=4,\n",
    "    num_epochs=35,\n",
    "    retain_metric=None\n",
    "):      \n",
    "   \n",
    "    fold_metric = []\n",
    "    best_metric = []\n",
    "    models = []\n",
    "    fold = 0\n",
    "    initial_prepend = None\n",
    "    \n",
    "    for trial in range(10):\n",
    "        print(\"Starting trial {}\".format(trial))\n",
    "\n",
    "        # add current fold number to model checkpoint path\n",
    "        if callbacks is not None:\n",
    "            for idx, callback in enumerate(callbacks):\n",
    "                if isinstance(callback, ModelCheckpoint):\n",
    "                    if initial_prepend is None:\n",
    "                        initial_prepend = callbacks[idx].prepend\n",
    "                    callbacks[idx].prepend = initial_prepend + \"cv_fold_{}_\".format(fold)\n",
    "        fold += 1\n",
    "\n",
    "        # restart model\n",
    "        del net\n",
    "        net = SixtyFourNet().cuda(gpu)\n",
    "        \n",
    "        # reset hyperparameters\n",
    "        lr = 1e-4\n",
    "        wd = 1e-4\n",
    "        criterion = nn.BCEWithLogitsLoss().cuda(gpu)\n",
    "        optimizer = optim.Adam(net.parameters(), lr=lr, weight_decay=wd)\n",
    "\n",
    "         # split train/validation\n",
    "        train_df = data.sample(frac=0.8, random_state=32)\n",
    "        val_df = data[~data[\"PTID\"].isin(train_df[\"PTID\"])]\n",
    "\n",
    "        if zero_one_normalize:\n",
    "            intensity = IntensityRescale()\n",
    "            ukb_data_train = UKBGDataset(train_df, transform=transforms.Compose(augmentations + [intensity, ToTensor()]), mask=mask)\n",
    "            ukb_data_val = UKBGDataset(val_df, transform=transforms.Compose([intensity, ToTensor()]), mask=mask)\n",
    "        else:\n",
    "            ukb_data_train = UKBGDataset(train_df, transform=transforms.Compose(augmentations + [ToTensor()]), mask=mask)\n",
    "            ukb_data_val = UKBGDataset(val_df, transform=transforms.Compose([ToTensor()]), mask=mask)\n",
    "        \n",
    "        train_loader = DataLoader(\n",
    "            ukb_data_train, batch_size=b, shuffle=True, num_workers=4\n",
    "        )\n",
    "\n",
    "        val_loader = DataLoader(\n",
    "            ukb_data_val, batch_size=2, shuffle=True, num_workers=2\n",
    "        )\n",
    "\n",
    "        trainer = Trainer(\n",
    "            net,\n",
    "            criterion,\n",
    "            optimizer,\n",
    "            metrics=metrics,\n",
    "            callbacks=callbacks,\n",
    "            device=gpu\n",
    "        )\n",
    "        # train model and store results\n",
    "        net, report = trainer.train_model(\n",
    "            train_loader,\n",
    "            val_loader,\n",
    "            num_epochs=num_epochs,\n",
    "            show_train_steps=20,\n",
    "            show_validation_epochs=1,\n",
    "        )\n",
    "        # append validation score of the retain metric\n",
    "        if isinstance(retain_metric, str):\n",
    "            fold_metric.append(report[\"val_metrics\"][retain_metric][-1])\n",
    "            best_metric.append(np.max(report[\"val_metrics\"][retain_metric]))\n",
    "        else:\n",
    "            fold_metric.append(report[\"val_metrics\"][retain_metric.__name__][-1])\n",
    "            best_metric.append(np.max(report[\"val_metrics\"][retain_metric.__name__]))\n",
    "\n",
    "        models.append(net)\n",
    "        print(\"Finished fold.\")\n",
    "\n",
    "        # visualize result\n",
    "        trainer.visualize_training(report, metrics)\n",
    "        trainer.evaluate_model(val_loader, gpu)\n",
    "\n",
    "    print(\"################################\")\n",
    "    print(\"################################\")\n",
    "    print(\"All accuracies: {}\".format(fold_metric))\n",
    "    print(\"Best accuracies mean: {} All :{}\".format(np.mean(best_metric), best_metric))\n",
    "    return fold_metric, models"
   ]
  },
  {
   "cell_type": "code",
   "execution_count": 35,
   "metadata": {
    "collapsed": true
   },
   "outputs": [],
   "source": [
    "num_epochs = 200\n",
    "min_iters = 3\n",
    "ignore_epochs = 30\n",
    "normalize = False\n",
    "retain_metric = balanced_accuracy\n",
    "metrics = [accuracy_score, balanced_accuracy]"
   ]
  },
  {
   "cell_type": "code",
   "execution_count": 36,
   "metadata": {
    "collapsed": true
   },
   "outputs": [],
   "source": [
    "r = 4"
   ]
  },
  {
   "cell_type": "code",
   "execution_count": 37,
   "metadata": {
    "collapsed": true
   },
   "outputs": [],
   "source": [
    "output_dir = \"/ritter/share/projects/Methods/Eitel_local_filter/experiments_submission/models/UKB/20_percent/baseline/\"\n",
    "callbacks = [EarlyStopping(patience=10, ignore_before=ignore_epochs, retain_metric=\"loss\", mode='min'),\n",
    "             ModelCheckpoint(path=output_dir,\n",
    "                             prepend=\"repeat_{}\".format(r),\n",
    "                             store_best=True,\n",
    "                             ignore_before=ignore_epochs,\n",
    "                             retain_metric=retain_metric)]"
   ]
  },
  {
   "cell_type": "code",
   "execution_count": 38,
   "metadata": {
    "scrolled": true
   },
   "outputs": [
    {
     "ename": "NameError",
     "evalue": "name 'run' is not defined",
     "output_type": "error",
     "traceback": [
      "\u001b[0;31m---------------------------------------------------------------------------\u001b[0m",
      "\u001b[0;31mNameError\u001b[0m                                 Traceback (most recent call last)",
      "\u001b[0;32m<ipython-input-38-7af3b064da9b>\u001b[0m in \u001b[0;36m<module>\u001b[0;34m()\u001b[0m\n\u001b[0;32m----> 1\u001b[0;31m fold_metric, models = run(net=net, data=train_df,\n\u001b[0m\u001b[1;32m      2\u001b[0m                   \u001b[0mk_folds\u001b[0m\u001b[0;34m=\u001b[0m\u001b[0;34m-\u001b[0m\u001b[0;36m1\u001b[0m\u001b[0;34m,\u001b[0m\u001b[0;34m\u001b[0m\u001b[0m\n\u001b[1;32m      3\u001b[0m                   \u001b[0mcallbacks\u001b[0m\u001b[0;34m=\u001b[0m\u001b[0mcallbacks\u001b[0m\u001b[0;34m,\u001b[0m\u001b[0;34m\u001b[0m\u001b[0m\n\u001b[1;32m      4\u001b[0m                   \u001b[0mshape\u001b[0m\u001b[0;34m=\u001b[0m\u001b[0;34m-\u001b[0m\u001b[0;36m1\u001b[0m\u001b[0;34m,\u001b[0m\u001b[0;34m\u001b[0m\u001b[0m\n\u001b[1;32m      5\u001b[0m                   \u001b[0mmasked\u001b[0m\u001b[0;34m=\u001b[0m\u001b[0;32mFalse\u001b[0m\u001b[0;34m,\u001b[0m\u001b[0;34m\u001b[0m\u001b[0m\n",
      "\u001b[0;31mNameError\u001b[0m: name 'run' is not defined"
     ]
    }
   ],
   "source": [
    "fold_metric, models = run(net=net, data=train_df,\n",
    "                  k_folds=-1,\n",
    "                  callbacks=callbacks,\n",
    "                  shape=-1,\n",
    "                  masked=False,\n",
    "                  metrics=metrics,\n",
    "                  num_epochs=num_epochs,\n",
    "                  retain_metric=retain_metric,\n",
    "                  augmentations=augmentations,\n",
    "                  b=b\n",
    "                 )\n",
    "\n",
    "print(np.mean(fold_metric))\n",
    "print(np.std(fold_metric))"
   ]
  },
  {
   "cell_type": "code",
   "execution_count": 30,
   "metadata": {},
   "outputs": [
    {
     "ename": "ZeroDivisionError",
     "evalue": "division by zero",
     "output_type": "error",
     "traceback": [
      "\u001b[0;31m---------------------------------------------------------------------------\u001b[0m",
      "\u001b[0;31mZeroDivisionError\u001b[0m                         Traceback (most recent call last)",
      "\u001b[0;32m<ipython-input-30-0106664d39e8>\u001b[0m in \u001b[0;36m<module>\u001b[0;34m()\u001b[0m\n\u001b[0;32m----> 1\u001b[0;31m \u001b[0;36m5\u001b[0m\u001b[0;34m/\u001b[0m\u001b[0;36m0\u001b[0m\u001b[0;34m\u001b[0m\u001b[0m\n\u001b[0m",
      "\u001b[0;31mZeroDivisionError\u001b[0m: division by zero"
     ]
    }
   ],
   "source": [
    "5/0"
   ]
  },
  {
   "cell_type": "markdown",
   "metadata": {
    "collapsed": true
   },
   "source": [
    "# Start inference"
   ]
  },
  {
   "cell_type": "markdown",
   "metadata": {},
   "source": [
    "### Using best model checkpoint for inference"
   ]
  },
  {
   "cell_type": "code",
   "execution_count": 39,
   "metadata": {
    "collapsed": true
   },
   "outputs": [],
   "source": [
    "if zero_one_normalize:\n",
    "    ukb_data_test = UKBGDataset(test_df, transform=transforms.Compose([intensity, ToTensor()]), mask=mask)\n",
    "else:\n",
    "    ukb_data_test = UKBGDataset(test_df, transform=transforms.Compose([ToTensor()]), mask=mask)\n",
    "            \n",
    "test_loader = DataLoader(\n",
    "            ukb_data_test, batch_size=1, num_workers=1, shuffle=False\n",
    ")"
   ]
  },
  {
   "cell_type": "code",
   "execution_count": 40,
   "metadata": {
    "collapsed": true
   },
   "outputs": [],
   "source": [
    "model_dirs = [os.path.join(output_dir,\"repeat_{}_cv_fold_{}_BEST_ITERATION.h5\".format(r, i)) for i in range(10)]"
   ]
  },
  {
   "cell_type": "code",
   "execution_count": 42,
   "metadata": {},
   "outputs": [
    {
     "name": "stdout",
     "output_type": "stream",
     "text": [
      "Fold 0\n",
      "Bal. accuracy 84.579 %\n",
      "ROC AUC Score 96.410 %\n",
      "Sensitivity 74.286 %\n",
      "Specificity 94.872 %\n",
      "Fold 1\n",
      "Bal. accuracy 81.465 %\n",
      "ROC AUC Score 90.696 %\n",
      "Sensitivity 88.571 %\n",
      "Specificity 74.359 %\n",
      "Fold 2\n",
      "Bal. accuracy 86.447 %\n",
      "ROC AUC Score 95.531 %\n",
      "Sensitivity 85.714 %\n",
      "Specificity 87.179 %\n",
      "Fold 3\n",
      "Bal. accuracy 69.890 %\n",
      "ROC AUC Score 77.656 %\n",
      "Sensitivity 62.857 %\n",
      "Specificity 76.923 %\n",
      "Fold 4\n",
      "Bal. accuracy 78.864 %\n",
      "ROC AUC Score 94.286 %\n",
      "Sensitivity 62.857 %\n",
      "Specificity 94.872 %\n",
      "Fold 5\n",
      "Bal. accuracy 89.451 %\n",
      "ROC AUC Score 94.212 %\n",
      "Sensitivity 94.286 %\n",
      "Specificity 84.615 %\n",
      "Fold 6\n",
      "Bal. accuracy 85.458 %\n",
      "ROC AUC Score 92.454 %\n",
      "Sensitivity 91.429 %\n",
      "Specificity 79.487 %\n",
      "Fold 7\n",
      "Bal. accuracy 87.875 %\n",
      "ROC AUC Score 93.993 %\n",
      "Sensitivity 88.571 %\n",
      "Specificity 87.179 %\n",
      "Fold 8\n",
      "Bal. accuracy 87.582 %\n",
      "ROC AUC Score 93.700 %\n",
      "Sensitivity 82.857 %\n",
      "Specificity 92.308 %\n",
      "Fold 9\n",
      "Bal. accuracy 50.293 %\n",
      "ROC AUC Score 65.568 %\n",
      "Sensitivity 5.714 %\n",
      "Specificity 94.872 %\n",
      "######## Final results ########\n",
      "    Bal Acc   ROC AUC  Sensitivity  Specificity\n",
      "0  0.845788  0.964103     0.742857     0.948718\n",
      "1  0.814652  0.906960     0.885714     0.743590\n",
      "2  0.864469  0.955311     0.857143     0.871795\n",
      "3  0.698901  0.776557     0.628571     0.769231\n",
      "4  0.788645  0.942857     0.628571     0.948718\n",
      "5  0.894505  0.942125     0.942857     0.846154\n",
      "6  0.854579  0.924542     0.914286     0.794872\n",
      "7  0.878755  0.939927     0.885714     0.871795\n",
      "8  0.875824  0.936996     0.828571     0.923077\n",
      "9  0.502930  0.655678     0.057143     0.948718\n",
      "Balanced accuracy mean 80.190 %\n",
      "ROC AUC mean 89.451 %\n",
      "Sensitivity mean 73.714 %\n",
      "Specificity mean 86.667 %\n"
     ]
    }
   ],
   "source": [
    "metrics = []\n",
    "lr = 1e-5\n",
    "wd = 1e-3\n",
    "criterion = nn.BCEWithLogitsLoss().cuda(gpu)\n",
    "optimizer = optim.Adam(net.parameters(), lr=lr, weight_decay=wd)\n",
    "    \n",
    "for fold, model_dir in enumerate(model_dirs):\n",
    "    print(\"Fold {}\".format(fold))\n",
    "\n",
    "    all_scores = []\n",
    "    all_preds = []\n",
    "    all_labels = []\n",
    "    \n",
    "    net = SixtyFourNet()\n",
    "    net.load_state_dict(torch.load(model_dir))\n",
    "    net = net.cuda(gpu)\n",
    "    net.eval()\n",
    "    with torch.no_grad():\n",
    "        for sample in test_loader:\n",
    "            img = sample[\"image\"]\n",
    "            label = sample[\"label\"]\n",
    "            img = img.to(torch.device(\"cuda:\" + str(gpu)))\n",
    "            \n",
    "            output = net.forward(img)\n",
    "            score = torch.sigmoid(output)\n",
    "            pred = score >= 0.5\n",
    "            \n",
    "            all_scores.append(score.cpu().numpy().item())\n",
    "            all_preds.append(pred.cpu().numpy().item())\n",
    "            all_labels.append(label.numpy().item())\n",
    "    \n",
    "    balanced_acc = balanced_accuracy(all_labels, all_preds)\n",
    "    roc_score = roc_auc_score(all_labels, all_scores)\n",
    "    sens = sensitivity(all_labels, all_preds)\n",
    "    spec = specificity(all_labels, all_preds)\n",
    "    print(\"Bal. accuracy {:.3f} %\".format(balanced_acc*100))\n",
    "    print(\"ROC AUC Score {:.3f} %\".format(roc_score*100))\n",
    "    print(\"Sensitivity {:.3f} %\".format(sens*100))\n",
    "    print(\"Specificity {:.3f} %\".format(spec*100))\n",
    "    metrics.append([balanced_acc, roc_score, sens, spec])\n",
    "# reset network to training mode6\n",
    "net.train()\n",
    "print(\"######## Final results ########\")\n",
    "metrics_df = pd.DataFrame(metrics, columns=[\"Bal Acc\", \"ROC AUC\", \"Sensitivity\", \"Specificity\"])\n",
    "print(metrics_df)\n",
    "print(\"Balanced accuracy mean {:.3f} %\".format(np.mean(metrics_df[\"Bal Acc\"])*100))\n",
    "print(\"ROC AUC mean {:.3f} %\".format(np.mean(metrics_df[\"ROC AUC\"])*100))\n",
    "print(\"Sensitivity mean {:.3f} %\".format(np.mean(metrics_df[\"Sensitivity\"])*100))\n",
    "print(\"Specificity mean {:.3f} %\".format(np.mean(metrics_df[\"Specificity\"])*100))"
   ]
  },
  {
   "cell_type": "code",
   "execution_count": null,
   "metadata": {
    "collapsed": true
   },
   "outputs": [],
   "source": []
  }
 ],
 "metadata": {
  "kernelspec": {
   "display_name": "Python (mort1)",
   "language": "python",
   "name": "mort1"
  },
  "language_info": {
   "codemirror_mode": {
    "name": "ipython",
    "version": 3
   },
   "file_extension": ".py",
   "mimetype": "text/x-python",
   "name": "python",
   "nbconvert_exporter": "python",
   "pygments_lexer": "ipython3",
   "version": "3.6.5"
  }
 },
 "nbformat": 4,
 "nbformat_minor": 2
}
